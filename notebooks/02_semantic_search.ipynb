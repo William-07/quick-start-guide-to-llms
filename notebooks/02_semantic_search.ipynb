{
 "cells": [
  {
   "cell_type": "markdown",
   "id": "9b088054-daa2-4dbe-a71c-3a3dd58ab3b5",
   "metadata": {
    "id": "9b088054-daa2-4dbe-a71c-3a3dd58ab3b5"
   },
   "source": [
    "# Part 1: Setting up a basic semantic search system"
   ]
  },
  {
   "cell_type": "markdown",
   "id": "722572bc",
   "metadata": {},
   "source": [
    "A big thank you to [David on Github](https://github.com/gypsydave5) for finding a bug in my analysis code and bringing it to my attention. The bug was resolved! \n",
    "\n",
    "Some numbers might be different from what is reported in the book/video course but the overall gist is the same: re-ranking helps our semantic search and fine-tuning the re-ranking cross encoder yielded even better results."
   ]
  },
  {
   "cell_type": "code",
   "execution_count": 3,
   "id": "aGixSoAgIzLo",
   "metadata": {},
   "outputs": [
    {
     "name": "stdout",
     "output_type": "stream",
     "text": [
      "Requirement already satisfied: pinecone in /Users/shenglienlee/anaconda3/envs/QSLLMs/lib/python3.11/site-packages (7.0.2)\n",
      "Requirement already satisfied: openai in /Users/shenglienlee/anaconda3/envs/QSLLMs/lib/python3.11/site-packages (1.86.0)\n",
      "Requirement already satisfied: sentence-transformers in /Users/shenglienlee/anaconda3/envs/QSLLMs/lib/python3.11/site-packages (4.1.0)\n",
      "Requirement already satisfied: tiktoken in /Users/shenglienlee/anaconda3/envs/QSLLMs/lib/python3.11/site-packages (0.9.0)\n",
      "Requirement already satisfied: datasets in /Users/shenglienlee/anaconda3/envs/QSLLMs/lib/python3.11/site-packages (3.6.0)\n",
      "Requirement already satisfied: certifi>=2019.11.17 in /Users/shenglienlee/anaconda3/envs/QSLLMs/lib/python3.11/site-packages (from pinecone) (2025.4.26)\n",
      "Requirement already satisfied: pinecone-plugin-assistant<2.0.0,>=1.6.0 in /Users/shenglienlee/anaconda3/envs/QSLLMs/lib/python3.11/site-packages (from pinecone) (1.7.0)\n",
      "Requirement already satisfied: pinecone-plugin-interface<0.0.8,>=0.0.7 in /Users/shenglienlee/anaconda3/envs/QSLLMs/lib/python3.11/site-packages (from pinecone) (0.0.7)\n",
      "Requirement already satisfied: python-dateutil>=2.5.3 in /Users/shenglienlee/anaconda3/envs/QSLLMs/lib/python3.11/site-packages (from pinecone) (2.9.0.post0)\n",
      "Requirement already satisfied: typing-extensions>=3.7.4 in /Users/shenglienlee/anaconda3/envs/QSLLMs/lib/python3.11/site-packages (from pinecone) (4.14.0)\n",
      "Requirement already satisfied: urllib3>=1.26.0 in /Users/shenglienlee/anaconda3/envs/QSLLMs/lib/python3.11/site-packages (from pinecone) (2.4.0)\n",
      "Requirement already satisfied: packaging<25.0,>=24.2 in /Users/shenglienlee/anaconda3/envs/QSLLMs/lib/python3.11/site-packages (from pinecone-plugin-assistant<2.0.0,>=1.6.0->pinecone) (24.2)\n",
      "Requirement already satisfied: requests<3.0.0,>=2.32.3 in /Users/shenglienlee/anaconda3/envs/QSLLMs/lib/python3.11/site-packages (from pinecone-plugin-assistant<2.0.0,>=1.6.0->pinecone) (2.32.4)\n",
      "Requirement already satisfied: charset_normalizer<4,>=2 in /Users/shenglienlee/anaconda3/envs/QSLLMs/lib/python3.11/site-packages (from requests<3.0.0,>=2.32.3->pinecone-plugin-assistant<2.0.0,>=1.6.0->pinecone) (3.4.2)\n",
      "Requirement already satisfied: idna<4,>=2.5 in /Users/shenglienlee/anaconda3/envs/QSLLMs/lib/python3.11/site-packages (from requests<3.0.0,>=2.32.3->pinecone-plugin-assistant<2.0.0,>=1.6.0->pinecone) (3.10)\n",
      "Requirement already satisfied: anyio<5,>=3.5.0 in /Users/shenglienlee/anaconda3/envs/QSLLMs/lib/python3.11/site-packages (from openai) (4.9.0)\n",
      "Requirement already satisfied: distro<2,>=1.7.0 in /Users/shenglienlee/anaconda3/envs/QSLLMs/lib/python3.11/site-packages (from openai) (1.9.0)\n",
      "Requirement already satisfied: httpx<1,>=0.23.0 in /Users/shenglienlee/anaconda3/envs/QSLLMs/lib/python3.11/site-packages (from openai) (0.28.1)\n",
      "Requirement already satisfied: jiter<1,>=0.4.0 in /Users/shenglienlee/anaconda3/envs/QSLLMs/lib/python3.11/site-packages (from openai) (0.10.0)\n",
      "Requirement already satisfied: pydantic<3,>=1.9.0 in /Users/shenglienlee/anaconda3/envs/QSLLMs/lib/python3.11/site-packages (from openai) (2.11.5)\n",
      "Requirement already satisfied: sniffio in /Users/shenglienlee/anaconda3/envs/QSLLMs/lib/python3.11/site-packages (from openai) (1.3.1)\n",
      "Requirement already satisfied: tqdm>4 in /Users/shenglienlee/anaconda3/envs/QSLLMs/lib/python3.11/site-packages (from openai) (4.67.1)\n",
      "Requirement already satisfied: httpcore==1.* in /Users/shenglienlee/anaconda3/envs/QSLLMs/lib/python3.11/site-packages (from httpx<1,>=0.23.0->openai) (1.0.9)\n",
      "Requirement already satisfied: h11>=0.16 in /Users/shenglienlee/anaconda3/envs/QSLLMs/lib/python3.11/site-packages (from httpcore==1.*->httpx<1,>=0.23.0->openai) (0.16.0)\n",
      "Requirement already satisfied: annotated-types>=0.6.0 in /Users/shenglienlee/anaconda3/envs/QSLLMs/lib/python3.11/site-packages (from pydantic<3,>=1.9.0->openai) (0.7.0)\n",
      "Requirement already satisfied: pydantic-core==2.33.2 in /Users/shenglienlee/anaconda3/envs/QSLLMs/lib/python3.11/site-packages (from pydantic<3,>=1.9.0->openai) (2.33.2)\n",
      "Requirement already satisfied: typing-inspection>=0.4.0 in /Users/shenglienlee/anaconda3/envs/QSLLMs/lib/python3.11/site-packages (from pydantic<3,>=1.9.0->openai) (0.4.1)\n",
      "Requirement already satisfied: transformers<5.0.0,>=4.41.0 in /Users/shenglienlee/anaconda3/envs/QSLLMs/lib/python3.11/site-packages (from sentence-transformers) (4.52.4)\n",
      "Requirement already satisfied: torch>=1.11.0 in /Users/shenglienlee/anaconda3/envs/QSLLMs/lib/python3.11/site-packages (from sentence-transformers) (2.7.1)\n",
      "Requirement already satisfied: scikit-learn in /Users/shenglienlee/anaconda3/envs/QSLLMs/lib/python3.11/site-packages (from sentence-transformers) (1.7.0)\n",
      "Requirement already satisfied: scipy in /Users/shenglienlee/anaconda3/envs/QSLLMs/lib/python3.11/site-packages (from sentence-transformers) (1.15.3)\n",
      "Requirement already satisfied: huggingface-hub>=0.20.0 in /Users/shenglienlee/anaconda3/envs/QSLLMs/lib/python3.11/site-packages (from sentence-transformers) (0.33.0)\n",
      "Requirement already satisfied: Pillow in /Users/shenglienlee/anaconda3/envs/QSLLMs/lib/python3.11/site-packages (from sentence-transformers) (11.2.1)\n",
      "Requirement already satisfied: filelock in /Users/shenglienlee/anaconda3/envs/QSLLMs/lib/python3.11/site-packages (from transformers<5.0.0,>=4.41.0->sentence-transformers) (3.18.0)\n",
      "Requirement already satisfied: numpy>=1.17 in /Users/shenglienlee/anaconda3/envs/QSLLMs/lib/python3.11/site-packages (from transformers<5.0.0,>=4.41.0->sentence-transformers) (2.3.0)\n",
      "Requirement already satisfied: pyyaml>=5.1 in /Users/shenglienlee/anaconda3/envs/QSLLMs/lib/python3.11/site-packages (from transformers<5.0.0,>=4.41.0->sentence-transformers) (6.0.2)\n",
      "Requirement already satisfied: regex!=2019.12.17 in /Users/shenglienlee/anaconda3/envs/QSLLMs/lib/python3.11/site-packages (from transformers<5.0.0,>=4.41.0->sentence-transformers) (2024.11.6)\n",
      "Requirement already satisfied: tokenizers<0.22,>=0.21 in /Users/shenglienlee/anaconda3/envs/QSLLMs/lib/python3.11/site-packages (from transformers<5.0.0,>=4.41.0->sentence-transformers) (0.21.1)\n",
      "Requirement already satisfied: safetensors>=0.4.3 in /Users/shenglienlee/anaconda3/envs/QSLLMs/lib/python3.11/site-packages (from transformers<5.0.0,>=4.41.0->sentence-transformers) (0.5.3)\n",
      "Requirement already satisfied: fsspec>=2023.5.0 in /Users/shenglienlee/anaconda3/envs/QSLLMs/lib/python3.11/site-packages (from huggingface-hub>=0.20.0->sentence-transformers) (2025.3.0)\n",
      "Requirement already satisfied: hf-xet<2.0.0,>=1.1.2 in /Users/shenglienlee/anaconda3/envs/QSLLMs/lib/python3.11/site-packages (from huggingface-hub>=0.20.0->sentence-transformers) (1.1.3)\n",
      "Requirement already satisfied: pyarrow>=15.0.0 in /Users/shenglienlee/anaconda3/envs/QSLLMs/lib/python3.11/site-packages (from datasets) (20.0.0)\n",
      "Requirement already satisfied: dill<0.3.9,>=0.3.0 in /Users/shenglienlee/anaconda3/envs/QSLLMs/lib/python3.11/site-packages (from datasets) (0.3.8)\n",
      "Requirement already satisfied: pandas in /Users/shenglienlee/anaconda3/envs/QSLLMs/lib/python3.11/site-packages (from datasets) (2.3.0)\n",
      "Requirement already satisfied: xxhash in /Users/shenglienlee/anaconda3/envs/QSLLMs/lib/python3.11/site-packages (from datasets) (3.5.0)\n",
      "Requirement already satisfied: multiprocess<0.70.17 in /Users/shenglienlee/anaconda3/envs/QSLLMs/lib/python3.11/site-packages (from datasets) (0.70.16)\n",
      "Requirement already satisfied: aiohttp!=4.0.0a0,!=4.0.0a1 in /Users/shenglienlee/anaconda3/envs/QSLLMs/lib/python3.11/site-packages (from fsspec[http]<=2025.3.0,>=2023.1.0->datasets) (3.12.12)\n",
      "Requirement already satisfied: aiohappyeyeballs>=2.5.0 in /Users/shenglienlee/anaconda3/envs/QSLLMs/lib/python3.11/site-packages (from aiohttp!=4.0.0a0,!=4.0.0a1->fsspec[http]<=2025.3.0,>=2023.1.0->datasets) (2.6.1)\n",
      "Requirement already satisfied: aiosignal>=1.1.2 in /Users/shenglienlee/anaconda3/envs/QSLLMs/lib/python3.11/site-packages (from aiohttp!=4.0.0a0,!=4.0.0a1->fsspec[http]<=2025.3.0,>=2023.1.0->datasets) (1.3.2)\n",
      "Requirement already satisfied: attrs>=17.3.0 in /Users/shenglienlee/anaconda3/envs/QSLLMs/lib/python3.11/site-packages (from aiohttp!=4.0.0a0,!=4.0.0a1->fsspec[http]<=2025.3.0,>=2023.1.0->datasets) (25.3.0)\n",
      "Requirement already satisfied: frozenlist>=1.1.1 in /Users/shenglienlee/anaconda3/envs/QSLLMs/lib/python3.11/site-packages (from aiohttp!=4.0.0a0,!=4.0.0a1->fsspec[http]<=2025.3.0,>=2023.1.0->datasets) (1.7.0)\n",
      "Requirement already satisfied: multidict<7.0,>=4.5 in /Users/shenglienlee/anaconda3/envs/QSLLMs/lib/python3.11/site-packages (from aiohttp!=4.0.0a0,!=4.0.0a1->fsspec[http]<=2025.3.0,>=2023.1.0->datasets) (6.4.4)\n",
      "Requirement already satisfied: propcache>=0.2.0 in /Users/shenglienlee/anaconda3/envs/QSLLMs/lib/python3.11/site-packages (from aiohttp!=4.0.0a0,!=4.0.0a1->fsspec[http]<=2025.3.0,>=2023.1.0->datasets) (0.3.2)\n",
      "Requirement already satisfied: yarl<2.0,>=1.17.0 in /Users/shenglienlee/anaconda3/envs/QSLLMs/lib/python3.11/site-packages (from aiohttp!=4.0.0a0,!=4.0.0a1->fsspec[http]<=2025.3.0,>=2023.1.0->datasets) (1.20.1)\n",
      "Requirement already satisfied: six>=1.5 in /Users/shenglienlee/anaconda3/envs/QSLLMs/lib/python3.11/site-packages (from python-dateutil>=2.5.3->pinecone) (1.17.0)\n",
      "Requirement already satisfied: sympy>=1.13.3 in /Users/shenglienlee/anaconda3/envs/QSLLMs/lib/python3.11/site-packages (from torch>=1.11.0->sentence-transformers) (1.14.0)\n",
      "Requirement already satisfied: networkx in /Users/shenglienlee/anaconda3/envs/QSLLMs/lib/python3.11/site-packages (from torch>=1.11.0->sentence-transformers) (3.5)\n",
      "Requirement already satisfied: jinja2 in /Users/shenglienlee/anaconda3/envs/QSLLMs/lib/python3.11/site-packages (from torch>=1.11.0->sentence-transformers) (3.1.6)\n",
      "Requirement already satisfied: mpmath<1.4,>=1.1.0 in /Users/shenglienlee/anaconda3/envs/QSLLMs/lib/python3.11/site-packages (from sympy>=1.13.3->torch>=1.11.0->sentence-transformers) (1.3.0)\n",
      "Requirement already satisfied: MarkupSafe>=2.0 in /Users/shenglienlee/anaconda3/envs/QSLLMs/lib/python3.11/site-packages (from jinja2->torch>=1.11.0->sentence-transformers) (3.0.2)\n",
      "Requirement already satisfied: pytz>=2020.1 in /Users/shenglienlee/anaconda3/envs/QSLLMs/lib/python3.11/site-packages (from pandas->datasets) (2025.2)\n",
      "Requirement already satisfied: tzdata>=2022.7 in /Users/shenglienlee/anaconda3/envs/QSLLMs/lib/python3.11/site-packages (from pandas->datasets) (2025.2)\n",
      "Requirement already satisfied: joblib>=1.2.0 in /Users/shenglienlee/anaconda3/envs/QSLLMs/lib/python3.11/site-packages (from scikit-learn->sentence-transformers) (1.5.1)\n",
      "Requirement already satisfied: threadpoolctl>=3.1.0 in /Users/shenglienlee/anaconda3/envs/QSLLMs/lib/python3.11/site-packages (from scikit-learn->sentence-transformers) (3.6.0)\n"
     ]
    }
   ],
   "source": [
    "!pip install pinecone openai sentence-transformers tiktoken datasets"
   ]
  },
  {
   "cell_type": "code",
   "execution_count": 3,
   "id": "c12182ab",
   "metadata": {},
   "outputs": [],
   "source": [
    "from openai import OpenAI\n",
    "from datetime import datetime\n",
    "import hashlib\n",
    "import re\n",
    "import os\n",
    "from sentence_transformers import CrossEncoder\n",
    "\n",
    "\n",
    "from tqdm import tqdm\n",
    "import numpy as np\n",
    "from torch import nn\n",
    "\n",
    "import logging\n",
    "from pinecone import Pinecone, ServerlessSpec\n",
    "\n",
    "logger = logging.getLogger()\n",
    "logger.setLevel(logging.CRITICAL)\n"
   ]
  },
  {
   "cell_type": "code",
   "execution_count": null,
   "id": "f0289c54",
   "metadata": {},
   "outputs": [],
   "source": [
    "pinecone_key = \"\"\n",
    "client = OpenAI(\n",
    "    api_key=\"\"\n",
    ")\n",
    "\n",
    "INDEX_NAME = 'semantic-search-test'\n",
    "NAMESPACE = 'default'\n",
    "ENGINE = 'text-embedding-3-large'  # has vector size 3072\n",
    "\n",
    "pc = Pinecone(\n",
    "    api_key=pinecone_key\n",
    ")"
   ]
  },
  {
   "cell_type": "code",
   "execution_count": 5,
   "id": "3cf993a3-6d51-49f4-8968-60f654d6202d",
   "metadata": {},
   "outputs": [],
   "source": [
    "# helper functions to get lists of embeddings from the OpenAI API  \n",
    "def get_embeddings(texts, engine=ENGINE):\n",
    "    response = client.embeddings.create(\n",
    "        input=texts,\n",
    "        model=engine\n",
    "    )\n",
    "\n",
    "    return [d.embedding for d in list(response.data)]\n",
    "\n",
    "def get_embedding(text, engine=ENGINE):\n",
    "    return get_embeddings([text], engine)[0]\n",
    "\n",
    "#len(get_embedding('hi')), len(get_embeddings(['hi', 'hello']))"
   ]
  },
  {
   "cell_type": "code",
   "execution_count": 6,
   "id": "ea70672a",
   "metadata": {},
   "outputs": [
    {
     "data": {
      "text/plain": [
       "<pinecone.db_data.index.Index at 0x157b40050>"
      ]
     },
     "execution_count": 6,
     "metadata": {},
     "output_type": "execute_result"
    }
   ],
   "source": [
    "if INDEX_NAME not in pc.list_indexes().names():\n",
    "    print(f'Creating index {INDEX_NAME}')\n",
    "    pc.create_index(\n",
    "        name=INDEX_NAME,  # The name of the index\n",
    "        dimension=3072,  # The dimensionality of the vectors for our OpenAI embedder\n",
    "        metric='cosine',  # The similarity metric to use when searching the index\n",
    "        spec=ServerlessSpec(\n",
    "            cloud='aws',\n",
    "            region='us-east-1'\n",
    "        )\n",
    "    )\n",
    "\n",
    "# Store the index as a variable\n",
    "index = pc.Index(name=INDEX_NAME)\n",
    "index"
   ]
  },
  {
   "cell_type": "code",
   "execution_count": 7,
   "id": "7f2fdfe7",
   "metadata": {},
   "outputs": [
    {
     "data": {
      "text/plain": [
       "'ae76cc4dfd345ecaeea9b8ba0d5c3437'"
      ]
     },
     "execution_count": 7,
     "metadata": {},
     "output_type": "execute_result"
    }
   ],
   "source": [
    "def my_hash(s):\n",
    "    # Return the MD5 hash of the input string as a hexadecimal string\n",
    "    return hashlib.md5(s.encode()).hexdigest()\n",
    "\n",
    "my_hash('I love to hash it')"
   ]
  },
  {
   "cell_type": "code",
   "execution_count": 8,
   "id": "ecd86f51",
   "metadata": {},
   "outputs": [],
   "source": [
    "def prepare_for_pinecone(texts, engine=ENGINE):\n",
    "    # Get the current UTC date and time\n",
    "    now = str(datetime.utcnow())\n",
    "\n",
    "    # Generate vector embeddings for each string in the input list, using the specified engine\n",
    "    embeddings = get_embeddings(texts, engine=engine)\n",
    "\n",
    "    # Create tuples of (hash, embedding, metadata) for each input string and its corresponding vector embedding\n",
    "    # The my_hash() function is used to generate a unique hash for each string, and the datetime.utcnow() function is used to generate the current UTC date and time\n",
    "    return [\n",
    "        (\n",
    "            my_hash(text),  # A unique ID for each string, generated using the my_hash() function\n",
    "            embedding,  # The vector embedding of the string\n",
    "            dict(text=text, date_uploaded=now)  # A dictionary of metadata, including the original text and the current UTC date and time\n",
    "        )\n",
    "        for text, embedding in zip(texts, embeddings)  # Iterate over each input string and its corresponding vector embedding\n",
    "    ]\n"
   ]
  },
  {
   "cell_type": "code",
   "execution_count": 9,
   "id": "4c40d99a",
   "metadata": {},
   "outputs": [],
   "source": [
    "texts = ['hi']"
   ]
  },
  {
   "cell_type": "code",
   "execution_count": 10,
   "id": "3e1b73f3",
   "metadata": {},
   "outputs": [
    {
     "name": "stdout",
     "output_type": "stream",
     "text": [
      "ID:   49f68a5c8493ec2c0bf489821c21fc3b \n",
      "LEN:  3072 \n",
      "META: {'text': 'hi', 'date_uploaded': '2025-06-13 08:21:54.123981'}\n"
     ]
    }
   ],
   "source": [
    "_id, embedding, metadata = prepare_for_pinecone(texts)[0]\n",
    "\n",
    "print('ID:  ',_id, '\\nLEN: ', len(embedding), '\\nMETA:', metadata)"
   ]
  },
  {
   "cell_type": "code",
   "execution_count": 11,
   "id": "ec0d4124",
   "metadata": {},
   "outputs": [
    {
     "data": {
      "text/plain": [
       "('49f68a5c8493ec2c0bf489821c21fc3b',\n",
       " [-0.006654263008385897,\n",
       "  0.005492732394486666,\n",
       "  -0.0018895326647907495,\n",
       "  -0.017013972625136375,\n",
       "  0.02897283434867859,\n",
       "  0.00606122799217701,\n",
       "  -0.012318771332502365,\n",
       "  0.026338940486311913,\n",
       "  -0.01092002633959055,\n",
       "  0.05866548791527748,\n",
       "  -0.030232522636651993,\n",
       "  -0.018437257036566734,\n",
       "  -0.020024137571454048,\n",
       "  -0.005026483908295631,\n",
       "  -0.047115620225667953,\n",
       "  0.014756349846720695,\n",
       "  0.009635798633098602,\n",
       "  -0.0031819401774555445,\n",
       "  0.0016073297010734677,\n",
       "  -0.016531364992260933,\n",
       "  0.008241143077611923,\n",
       "  0.011124521493911743,\n",
       "  -0.009349505417048931,\n",
       "  0.026649771258234978,\n",
       "  0.022396279498934746,\n",
       "  0.020285891368985176,\n",
       "  -0.044890712946653366,\n",
       "  -0.018699010834097862,\n",
       "  -0.06465309858322144,\n",
       "  -0.01946791261434555,\n",
       "  0.010715531185269356,\n",
       "  0.04106257110834122,\n",
       "  -0.004347560927271843,\n",
       "  -0.0026952424086630344,\n",
       "  0.021889131516218185,\n",
       "  0.004122616723179817,\n",
       "  0.04116072878241539,\n",
       "  -0.005938531365245581,\n",
       "  -0.030510636046528816,\n",
       "  0.019664227962493896,\n",
       "  0.026404378935694695,\n",
       "  0.013136751018464565,\n",
       "  -0.0063148015178740025,\n",
       "  0.008327031508088112,\n",
       "  0.010690991766750813,\n",
       "  0.003924256656318903,\n",
       "  0.014470057561993599,\n",
       "  0.02912007085978985,\n",
       "  0.008727841079235077,\n",
       "  0.002396679949015379,\n",
       "  -0.01703033223748207,\n",
       "  0.026649771258234978,\n",
       "  0.02449030615389347,\n",
       "  0.023312415927648544,\n",
       "  -0.014298281632363796,\n",
       "  0.0166458822786808,\n",
       "  0.007472242694348097,\n",
       "  0.0126459626480937,\n",
       "  -0.01572156511247158,\n",
       "  -0.020678522065281868,\n",
       "  -0.023132460191845894,\n",
       "  -0.012924076057970524,\n",
       "  0.0017177569679915905,\n",
       "  0.00264820852316916,\n",
       "  -0.005071472842246294,\n",
       "  -0.007296377327293158,\n",
       "  -0.011827983893454075,\n",
       "  0.04564325511455536,\n",
       "  -0.03199935704469681,\n",
       "  0.0593198724091053,\n",
       "  -0.005124641582369804,\n",
       "  -0.005689047276973724,\n",
       "  0.006776960100978613,\n",
       "  -0.007922131568193436,\n",
       "  0.0014999698614701629,\n",
       "  0.011067262850701809,\n",
       "  0.04024459049105644,\n",
       "  0.02867836132645607,\n",
       "  0.013308526016771793,\n",
       "  0.019844181835651398,\n",
       "  0.0180119089782238,\n",
       "  -0.0285638440400362,\n",
       "  -0.017406603321433067,\n",
       "  0.02871108055114746,\n",
       "  0.002883377717807889,\n",
       "  -0.0014641833258792758,\n",
       "  -0.023394213989377022,\n",
       "  -0.09697964787483215,\n",
       "  -0.010494677349925041,\n",
       "  0.020105935633182526,\n",
       "  -0.005439563654363155,\n",
       "  0.013455762527883053,\n",
       "  -0.008097996935248375,\n",
       "  0.004106257110834122,\n",
       "  0.012850457802414894,\n",
       "  0.024212192744016647,\n",
       "  0.012547805905342102,\n",
       "  0.024212192744016647,\n",
       "  0.00644976831972599,\n",
       "  0.0005776979960501194,\n",
       "  0.012171534821391106,\n",
       "  -0.013112211599946022,\n",
       "  0.019026203081011772,\n",
       "  -0.000662563368678093,\n",
       "  0.004253493156284094,\n",
       "  0.04158607870340347,\n",
       "  -0.04119344800710678,\n",
       "  0.0028077145107090473,\n",
       "  0.0037749754264950752,\n",
       "  -0.0615120567381382,\n",
       "  -0.059156276285648346,\n",
       "  0.017243007197976112,\n",
       "  0.02270711027085781,\n",
       "  0.0056849573738873005,\n",
       "  0.0020899376831948757,\n",
       "  0.001423284295015037,\n",
       "  -0.01863357238471508,\n",
       "  -0.0010960925137624145,\n",
       "  -0.01545163244009018,\n",
       "  -0.02871108055114746,\n",
       "  -0.00860514398664236,\n",
       "  0.034158822149038315,\n",
       "  -0.01833910122513771,\n",
       "  -0.007145050913095474,\n",
       "  0.027974897995591164,\n",
       "  -0.014584574848413467,\n",
       "  0.0020214319229125977,\n",
       "  0.013014053925871849,\n",
       "  -0.014854507520794868,\n",
       "  -0.022150885313749313,\n",
       "  -0.002631849143654108,\n",
       "  -0.014257382601499557,\n",
       "  0.008327031508088112,\n",
       "  0.002007117262110114,\n",
       "  0.03162308782339096,\n",
       "  0.01685037836432457,\n",
       "  0.007676737383008003,\n",
       "  0.019238878041505814,\n",
       "  -0.037365302443504333,\n",
       "  -0.0001375228021061048,\n",
       "  -0.04253493249416351,\n",
       "  -0.020285891368985176,\n",
       "  -0.023574169725179672,\n",
       "  0.01747204177081585,\n",
       "  -0.03373347595334053,\n",
       "  -0.019827822223305702,\n",
       "  0.031786683946847916,\n",
       "  -0.013570279814302921,\n",
       "  -0.027058761566877365,\n",
       "  0.020645802840590477,\n",
       "  -0.034845925867557526,\n",
       "  -0.02992169000208378,\n",
       "  0.002396679949015379,\n",
       "  0.008875077590346336,\n",
       "  0.018878966569900513,\n",
       "  -0.012744120322167873,\n",
       "  0.010641912929713726,\n",
       "  -0.005210529547184706,\n",
       "  -0.02169281616806984,\n",
       "  -0.03507496044039726,\n",
       "  -0.015598868951201439,\n",
       "  0.005255518481135368,\n",
       "  -0.006588825024664402,\n",
       "  -0.0031737603712826967,\n",
       "  -0.008809639140963554,\n",
       "  -0.033864352852106094,\n",
       "  0.037398021668195724,\n",
       "  -0.05346313863992691,\n",
       "  0.003228974062949419,\n",
       "  0.05218709260225296,\n",
       "  0.011566230095922947,\n",
       "  -0.02030225098133087,\n",
       "  0.012817738577723503,\n",
       "  0.012187894433736801,\n",
       "  0.026666130870580673,\n",
       "  0.008171615190804005,\n",
       "  0.036154694855213165,\n",
       "  0.02606082707643509,\n",
       "  0.033242687582969666,\n",
       "  0.026846086606383324,\n",
       "  -0.012204254046082497,\n",
       "  0.02175825461745262,\n",
       "  -0.0032821428030729294,\n",
       "  0.01046195812523365,\n",
       "  -0.0155579699203372,\n",
       "  -0.012040657922625542,\n",
       "  0.046952024102211,\n",
       "  -0.018404537811875343,\n",
       "  0.01583608239889145,\n",
       "  -0.0382160022854805,\n",
       "  0.008817818947136402,\n",
       "  0.003580705262720585,\n",
       "  0.013292166404426098,\n",
       "  -0.010085687041282654,\n",
       "  0.058174703270196915,\n",
       "  -0.02372140623629093,\n",
       "  0.0251119714230299,\n",
       "  -0.02282162755727768,\n",
       "  0.0009810641640797257,\n",
       "  -0.04894789308309555,\n",
       "  0.0221999641507864,\n",
       "  -0.015909701585769653,\n",
       "  0.004597044549882412,\n",
       "  -0.0036604581400752068,\n",
       "  -0.03995011746883392,\n",
       "  0.039066702127456665,\n",
       "  0.02799125760793686,\n",
       "  -0.014363720081746578,\n",
       "  0.022837987169623375,\n",
       "  0.05185990035533905,\n",
       "  -0.015999678522348404,\n",
       "  0.01910800114274025,\n",
       "  0.005983519833534956,\n",
       "  0.012097916565835476,\n",
       "  0.03847775608301163,\n",
       "  -0.019451553001999855,\n",
       "  0.014952665194869041,\n",
       "  -0.0004146133433096111,\n",
       "  0.027974897995591164,\n",
       "  0.0017637682612985373,\n",
       "  0.004012189339846373,\n",
       "  -0.01833910122513771,\n",
       "  0.04282940551638603,\n",
       "  0.05886180326342583,\n",
       "  -0.031721245497465134,\n",
       "  -0.010298362001776695,\n",
       "  0.018519055098295212,\n",
       "  0.022723469883203506,\n",
       "  0.0011175645049661398,\n",
       "  0.0338316336274147,\n",
       "  0.01312039140611887,\n",
       "  -0.0023844102397561073,\n",
       "  0.014870867133140564,\n",
       "  0.01442915853112936,\n",
       "  -0.008817818947136402,\n",
       "  -0.004507067147642374,\n",
       "  0.014134685508906841,\n",
       "  -0.005492732394486666,\n",
       "  0.037070829421281815,\n",
       "  0.005386394914239645,\n",
       "  -0.0019989374559372663,\n",
       "  0.04960227757692337,\n",
       "  -0.046821147203445435,\n",
       "  0.0008721706108190119,\n",
       "  -0.009758495725691319,\n",
       "  -0.0011645982740446925,\n",
       "  0.011983399279415607,\n",
       "  0.016204174607992172,\n",
       "  0.02074396051466465,\n",
       "  0.028940115123987198,\n",
       "  0.0007796367281116545,\n",
       "  -0.008044828660786152,\n",
       "  -0.019844181835651398,\n",
       "  0.03507496044039726,\n",
       "  0.003224884159862995,\n",
       "  0.005132821388542652,\n",
       "  0.03350444138050079,\n",
       "  0.007746265735477209,\n",
       "  -0.04858798161149025,\n",
       "  -0.03283369541168213,\n",
       "  0.003644098760560155,\n",
       "  -0.016155095770955086,\n",
       "  -0.011983399279415607,\n",
       "  -0.005472282879054546,\n",
       "  0.0028261190745979548,\n",
       "  -0.01133719552308321,\n",
       "  0.002744321245700121,\n",
       "  0.028269371017813683,\n",
       "  0.02314881980419159,\n",
       "  -0.020662162452936172,\n",
       "  0.00731682637706399,\n",
       "  0.03945932909846306,\n",
       "  0.05542629212141037,\n",
       "  0.0166458822786808,\n",
       "  0.0327518992125988,\n",
       "  -0.05320138484239578,\n",
       "  -0.011746185831725597,\n",
       "  0.0378560908138752,\n",
       "  0.03028160147368908,\n",
       "  0.021627377718687057,\n",
       "  0.002537781372666359,\n",
       "  0.04145520180463791,\n",
       "  0.03759433701634407,\n",
       "  0.01190160121768713,\n",
       "  0.012727760709822178,\n",
       "  -0.001804667292162776,\n",
       "  -0.01830638200044632,\n",
       "  0.0034518735483288765,\n",
       "  -0.013545740395784378,\n",
       "  -0.03945932909846306,\n",
       "  -0.05990881845355034,\n",
       "  0.01691581681370735,\n",
       "  -0.04786815866827965,\n",
       "  -0.03330812603235245,\n",
       "  -0.0029610858764499426,\n",
       "  0.06412959098815918,\n",
       "  0.030543355271220207,\n",
       "  0.024621183052659035,\n",
       "  -0.003365985583513975,\n",
       "  -0.03599109873175621,\n",
       "  0.012874997220933437,\n",
       "  0.0034498285967856646,\n",
       "  -0.03527127578854561,\n",
       "  -0.0115580502897501,\n",
       "  -0.02722235769033432,\n",
       "  0.009161370806396008,\n",
       "  0.01819186471402645,\n",
       "  0.001875218003988266,\n",
       "  -0.02264167182147503,\n",
       "  -0.008257502689957619,\n",
       "  0.022298121824860573,\n",
       "  -7.470453419955447e-05,\n",
       "  -0.010560114867985249,\n",
       "  -0.013185829855501652,\n",
       "  -0.01488722674548626,\n",
       "  -0.0049896747805178165,\n",
       "  0.00833521131426096,\n",
       "  0.018404537811875343,\n",
       "  -0.03304637223482132,\n",
       "  0.021889131516218185,\n",
       "  0.032850056886672974,\n",
       "  0.019778743386268616,\n",
       "  -0.018322741612792015,\n",
       "  0.00333940121345222,\n",
       "  0.026911525055766106,\n",
       "  0.033602599054574966,\n",
       "  -0.03090326488018036,\n",
       "  -0.01658044382929802,\n",
       "  0.020907556638121605,\n",
       "  -0.006073497701436281,\n",
       "  -0.01339032407850027,\n",
       "  -0.01304677315056324,\n",
       "  -0.015042643062770367,\n",
       "  -0.0036625030916184187,\n",
       "  -0.004883337765932083,\n",
       "  -0.039393894374370575,\n",
       "  0.003202389692887664,\n",
       "  -0.02591359056532383,\n",
       "  -0.01233513094484806,\n",
       "  -0.009815754368901253,\n",
       "  0.026829726994037628,\n",
       "  -0.020187733694911003,\n",
       "  -0.02246171608567238,\n",
       "  -0.015607048757374287,\n",
       "  -0.007304556667804718,\n",
       "  -0.037757933139801025,\n",
       "  0.04086625576019287,\n",
       "  0.012654142454266548,\n",
       "  -0.004380280151963234,\n",
       "  0.03402794525027275,\n",
       "  0.00013995118206366897,\n",
       "  -0.038706790655851364,\n",
       "  0.0404081866145134,\n",
       "  0.005570440553128719,\n",
       "  -0.00291609694249928,\n",
       "  -0.003363940631970763,\n",
       "  -0.018617212772369385,\n",
       "  -0.023263337090611458,\n",
       "  0.006543836090713739,\n",
       "  0.005913991946727037,\n",
       "  -0.020972995087504387,\n",
       "  0.011819804087281227,\n",
       "  0.002564365742728114,\n",
       "  0.021300185471773148,\n",
       "  0.04178239405155182,\n",
       "  -0.034191541373729706,\n",
       "  0.009300426580011845,\n",
       "  -0.01222879346460104,\n",
       "  -0.017521120607852936,\n",
       "  0.03661276400089264,\n",
       "  0.019533351063728333,\n",
       "  -0.013553920201957226,\n",
       "  -0.021921850740909576,\n",
       "  0.016179634258151054,\n",
       "  -0.03049427643418312,\n",
       "  0.00928406696766615,\n",
       "  0.0017893301555886865,\n",
       "  -0.017733795568346977,\n",
       "  0.006404779385775328,\n",
       "  -0.004355740733444691,\n",
       "  -0.030330680310726166,\n",
       "  0.020793039351701736,\n",
       "  -0.00045321177458390594,\n",
       "  -0.0155579699203372,\n",
       "  -0.00437619024887681,\n",
       "  -0.011402633972465992,\n",
       "  -0.01197521947324276,\n",
       "  -0.03260466456413269,\n",
       "  -0.028923755511641502,\n",
       "  -0.002631849143654108,\n",
       "  -0.028040336444973946,\n",
       "  -0.015729745849967003,\n",
       "  -0.00800801906734705,\n",
       "  0.06161021441221237,\n",
       "  0.035500310361385345,\n",
       "  -0.003462098306044936,\n",
       "  -0.00072902423562482,\n",
       "  0.023705046623945236,\n",
       "  0.04011371359229088,\n",
       "  0.0028649731539189816,\n",
       "  0.007541771046817303,\n",
       "  -0.047148339450359344,\n",
       "  0.005639968439936638,\n",
       "  -0.03245742619037628,\n",
       "  0.004973315168172121,\n",
       "  -0.06144661828875542,\n",
       "  0.0023067020811140537,\n",
       "  -0.04446536675095558,\n",
       "  0.018469976261258125,\n",
       "  0.006969185080379248,\n",
       "  -0.043287474662065506,\n",
       "  -0.008245233446359634,\n",
       "  0.03229383006691933,\n",
       "  0.0034927723463624716,\n",
       "  0.012670502066612244,\n",
       "  0.014093786478042603,\n",
       "  0.05768391489982605,\n",
       "  0.014977204613387585,\n",
       "  0.0036604581400752068,\n",
       "  -0.012343310751020908,\n",
       "  0.03350444138050079,\n",
       "  0.015157160349190235,\n",
       "  -0.0058812727220356464,\n",
       "  -0.008069368079304695,\n",
       "  -0.01994233950972557,\n",
       "  0.0027893101796507835,\n",
       "  0.011967039667069912,\n",
       "  0.022216323763132095,\n",
       "  -0.006785139907151461,\n",
       "  0.013586639426648617,\n",
       "  -0.03576206415891647,\n",
       "  -0.012163355015218258,\n",
       "  0.012367850169539452,\n",
       "  0.03589294105768204,\n",
       "  -0.03658004477620125,\n",
       "  0.03409338369965553,\n",
       "  0.04561053588986397,\n",
       "  0.009145011194050312,\n",
       "  -0.004282122477889061,\n",
       "  -0.006093947216868401,\n",
       "  0.011059083044528961,\n",
       "  -0.01743932254612446,\n",
       "  0.03322632610797882,\n",
       "  0.031753964722156525,\n",
       "  -0.026486176997423172,\n",
       "  -0.00804073829203844,\n",
       "  -0.011001824401319027,\n",
       "  -0.015394373796880245,\n",
       "  0.024048596620559692,\n",
       "  0.03278461843729019,\n",
       "  -0.025897230952978134,\n",
       "  0.01961514912545681,\n",
       "  -0.0180119089782238,\n",
       "  -0.011836163699626923,\n",
       "  -0.020547645166516304,\n",
       "  -0.03504224121570587,\n",
       "  -0.04302572086453438,\n",
       "  0.041978709399700165,\n",
       "  0.021022073924541473,\n",
       "  0.0028261190745979548,\n",
       "  0.004801539704203606,\n",
       "  0.02707512117922306,\n",
       "  0.002574590500444174,\n",
       "  -0.04060450196266174,\n",
       "  0.028874676674604416,\n",
       "  -0.02166009694337845,\n",
       "  -0.03661276400089264,\n",
       "  0.011819804087281227,\n",
       "  -0.008842358365654945,\n",
       "  -0.003965155687183142,\n",
       "  0.040342748165130615,\n",
       "  -0.02885831706225872,\n",
       "  -0.012236973270773888,\n",
       "  0.004257583059370518,\n",
       "  -0.008948695845901966,\n",
       "  0.0026195794343948364,\n",
       "  -0.02329605631530285,\n",
       "  0.00563178863376379,\n",
       "  -0.018208224326372147,\n",
       "  0.00031415524426847696,\n",
       "  0.03141041100025177,\n",
       "  0.000936586526222527,\n",
       "  -0.037463460117578506,\n",
       "  0.004233044106513262,\n",
       "  0.016637703403830528,\n",
       "  -0.0010393451666459441,\n",
       "  0.012768659740686417,\n",
       "  -0.007116421591490507,\n",
       "  0.0022760280407965183,\n",
       "  0.004400729667395353,\n",
       "  0.008449728600680828,\n",
       "  0.04266580939292908,\n",
       "  0.006719701457768679,\n",
       "  -0.03396251052618027,\n",
       "  -0.012727760709822178,\n",
       "  -0.08199426531791687,\n",
       "  0.008118446916341782,\n",
       "  -0.001875218003988266,\n",
       "  0.0185681339353323,\n",
       "  0.0313122533261776,\n",
       "  0.004351650830358267,\n",
       "  0.01222879346460104,\n",
       "  0.03605653718113899,\n",
       "  0.021741895005106926,\n",
       "  -0.012850457802414894,\n",
       "  -0.0065397461876273155,\n",
       "  -0.0042085046879947186,\n",
       "  -0.022756189107894897,\n",
       "  -0.039982836693525314,\n",
       "  0.005554080940783024,\n",
       "  0.02198728919029236,\n",
       "  -0.02296886406838894,\n",
       "  0.014650012366473675,\n",
       "  -0.04191327095031738,\n",
       "  0.02969265542924404,\n",
       "  0.006490667350590229,\n",
       "  -0.020580364391207695,\n",
       "  0.0008200244628824294,\n",
       "  -0.019026203081011772,\n",
       "  -0.0052514285780489445,\n",
       "  -0.02103843353688717,\n",
       "  0.004736101254820824,\n",
       "  0.0010449688415974379,\n",
       "  0.013087672181427479,\n",
       "  -0.007885321974754333,\n",
       "  0.033602599054574966,\n",
       "  0.011598949320614338,\n",
       "  0.0086460430175066,\n",
       "  -0.004372100345790386,\n",
       "  -0.055917076766490936,\n",
       "  -0.015116261318325996,\n",
       "  0.01768471673130989,\n",
       "  0.0034457386936992407,\n",
       "  0.02823665179312229,\n",
       "  -0.026109905913472176,\n",
       "  0.01812642626464367,\n",
       "  0.0077012768015265465,\n",
       "  0.011451712809503078,\n",
       "  -0.01583608239889145,\n",
       "  -0.007079612463712692,\n",
       "  -0.028514765202999115,\n",
       "  0.01884624734520912,\n",
       "  0.007120511494576931,\n",
       "  -0.023885000497102737,\n",
       "  -0.007562220562249422,\n",
       "  0.029103711247444153,\n",
       "  0.017782874405384064,\n",
       "  -0.035467591136693954,\n",
       "  -0.039361175149679184,\n",
       "  0.03635101020336151,\n",
       "  0.014723630622029305,\n",
       "  0.028269371017813683,\n",
       "  0.0020899376831948757,\n",
       "  -0.0005140489665791392,\n",
       "  0.029316384345293045,\n",
       "  0.01077278982847929,\n",
       "  -0.008907796815037727,\n",
       "  -0.022543514147400856,\n",
       "  -0.004580685403198004,\n",
       "  -0.03060879185795784,\n",
       "  0.015288036316633224,\n",
       "  0.0026093546766787767,\n",
       "  -0.0013128571445122361,\n",
       "  0.02867836132645607,\n",
       "  -0.03851047530770302,\n",
       "  0.005263698287308216,\n",
       "  -0.008883257396519184,\n",
       "  0.03942660987377167,\n",
       "  -0.013128571212291718,\n",
       "  -0.007504961919039488,\n",
       "  0.01092002633959055,\n",
       "  -0.023737765848636627,\n",
       "  -0.001876240479759872,\n",
       "  -0.017521120607852936,\n",
       "  -0.02190549112856388,\n",
       "  0.03343900293111801,\n",
       "  -0.007987570017576218,\n",
       "  -0.024768419563770294,\n",
       "  -0.023606888949871063,\n",
       "  -0.01699761301279068,\n",
       "  -0.002155375899747014,\n",
       "  0.007325006183236837,\n",
       "  -0.01878080889582634,\n",
       "  0.002533691469579935,\n",
       "  0.006682892329990864,\n",
       "  0.002572545548900962,\n",
       "  0.011729826219379902,\n",
       "  -0.037463460117578506,\n",
       "  -0.015582509338855743,\n",
       "  -0.0018148920498788357,\n",
       "  0.02594630979001522,\n",
       "  0.002713646972551942,\n",
       "  0.03461689129471779,\n",
       "  -0.003572525456547737,\n",
       "  0.004466168116778135,\n",
       "  0.0015480262227356434,\n",
       "  -0.01711213029921055,\n",
       "  0.0086460430175066,\n",
       "  0.012883177027106285,\n",
       "  -0.007950760424137115,\n",
       "  -0.036121975630521774,\n",
       "  0.03923029825091362,\n",
       "  0.007251388393342495,\n",
       "  -0.0020643756724894047,\n",
       "  -0.005357765592634678,\n",
       "  0.04047362506389618,\n",
       "  0.019238878041505814,\n",
       "  -0.0189280454069376,\n",
       "  0.009840293787419796,\n",
       "  0.0073004672303795815,\n",
       "  -0.0009186932002194226,\n",
       "  -0.04629763960838318,\n",
       "  -0.018290022388100624,\n",
       "  -0.018699010834097862,\n",
       "  0.03723442554473877,\n",
       "  -0.011140881106257439,\n",
       "  -0.00242939917370677,\n",
       "  0.00457659550011158,\n",
       "  -0.027287796139717102,\n",
       "  0.022036368027329445,\n",
       "  0.03556574881076813,\n",
       "  -0.004654303193092346,\n",
       "  -0.005644058343023062,\n",
       "  -0.011868882924318314,\n",
       "  0.0015367789892479777,\n",
       "  0.032555583864450455,\n",
       "  -0.0070714326575398445,\n",
       "  0.0038404136430472136,\n",
       "  0.020514925941824913,\n",
       "  0.017602918669581413,\n",
       "  0.02071124128997326,\n",
       "  -0.03563118726015091,\n",
       "  -0.013701156713068485,\n",
       "  0.02802397683262825,\n",
       "  -0.0018956675194203854,\n",
       "  0.011762545444071293,\n",
       "  0.013897472061216831,\n",
       "  -0.041128009557724,\n",
       "  0.005819924175739288,\n",
       "  -0.008744200691580772,\n",
       "  -0.014641832560300827,\n",
       "  0.01833910122513771,\n",
       "  -0.02172553539276123,\n",
       "  -0.033602599054574966,\n",
       "  -0.03847775608301163,\n",
       "  -0.012891356833279133,\n",
       "  -0.021316545084118843,\n",
       "  -0.0057176765985786915,\n",
       "  0.034158822149038315,\n",
       "  -0.0013476212043315172,\n",
       "  -0.024114035069942474,\n",
       "  0.0031880750320851803,\n",
       "  0.005828103981912136,\n",
       "  0.019206158816814423,\n",
       "  0.012891356833279133,\n",
       "  -0.0418478325009346,\n",
       "  -0.013308526016771793,\n",
       "  0.006797409616410732,\n",
       "  -0.003603199729695916,\n",
       "  -0.013439402915537357,\n",
       "  -0.030854186043143272,\n",
       "  -0.02743503265082836,\n",
       "  0.009521281346678734,\n",
       "  0.01874808967113495,\n",
       "  -0.0012924076290801167,\n",
       "  -0.00022826739586889744,\n",
       "  0.002035746583715081,\n",
       "  0.001942701288498938,\n",
       "  0.005607249215245247,\n",
       "  0.011034543626010418,\n",
       "  0.01703033223748207,\n",
       "  -0.024735700339078903,\n",
       "  0.018551774322986603,\n",
       "  -0.0011973174987360835,\n",
       "  0.028302090242505074,\n",
       "  -0.01747204177081585,\n",
       "  -0.0065070269629359245,\n",
       "  -0.02926730550825596,\n",
       "  0.010069327428936958,\n",
       "  0.003576615359634161,\n",
       "  -0.0017105996375903487,\n",
       "  -0.007218669168651104,\n",
       "  0.0020592634100466967,\n",
       "  0.02525920607149601,\n",
       "  -0.006216644309461117,\n",
       "  -0.0071041518822312355,\n",
       "  -0.07191675901412964,\n",
       "  0.036743637174367905,\n",
       "  0.015697026625275612,\n",
       "  0.010936385951936245,\n",
       "  -0.005545901134610176,\n",
       "  -0.008744200691580772,\n",
       "  0.05647330358624458,\n",
       "  -0.015762465074658394,\n",
       "  0.02660069242119789,\n",
       "  0.048718858510255814,\n",
       "  0.009578539989888668,\n",
       "  -0.044857993721961975,\n",
       "  -0.026028107851743698,\n",
       "  0.003652278333902359,\n",
       "  0.0024457587860524654,\n",
       "  -0.033030010759830475,\n",
       "  -0.028432967141270638,\n",
       "  0.010519216768443584,\n",
       "  0.02190549112856388,\n",
       "  0.01506718248128891,\n",
       "  0.012343310751020908,\n",
       "  -0.005721766501665115,\n",
       "  -0.03628557175397873,\n",
       "  -0.0276640672236681,\n",
       "  0.06118486449122429,\n",
       "  0.00808163732290268,\n",
       "  -0.004228954203426838,\n",
       "  0.025357363745570183,\n",
       "  0.012204254046082497,\n",
       "  0.0050878324545919895,\n",
       "  0.020760320127010345,\n",
       "  -0.006367970257997513,\n",
       "  -0.019778743386268616,\n",
       "  -0.0041798753663897514,\n",
       "  0.02642073854804039,\n",
       "  0.010085687041282654,\n",
       "  -0.008020289242267609,\n",
       "  -0.0007049960549920797,\n",
       "  0.010641912929713726,\n",
       "  -0.023557810112833977,\n",
       "  0.011312656104564667,\n",
       "  0.029725374653935432,\n",
       "  -0.015737924724817276,\n",
       "  0.0040674032643437386,\n",
       "  -0.01059283409267664,\n",
       "  -0.022363560274243355,\n",
       "  -0.005586800165474415,\n",
       "  -0.0019641732797026634,\n",
       "  -0.034813206642866135,\n",
       "  0.0019570158328861,\n",
       "  0.0025275566149502993,\n",
       "  -0.02314881980419159,\n",
       "  0.0075499508529901505,\n",
       "  0.02205272763967514,\n",
       "  0.030118005350232124,\n",
       "  -0.022003648802638054,\n",
       "  0.005517271813005209,\n",
       "  -0.009055033326148987,\n",
       "  -0.03726714476943016,\n",
       "  0.02103843353688717,\n",
       "  -0.008703301660716534,\n",
       "  0.027385953813791275,\n",
       "  -0.008744200691580772,\n",
       "  0.0029242767486721277,\n",
       "  0.05382305011153221,\n",
       "  -0.021005714312195778,\n",
       "  0.016964895650744438,\n",
       "  -0.04374554380774498,\n",
       "  0.00624118372797966,\n",
       "  0.03759433701634407,\n",
       "  0.011418993584811687,\n",
       "  -0.018290022388100624,\n",
       "  -0.02136562392115593,\n",
       "  -0.00783215370029211,\n",
       "  -0.01286681741476059,\n",
       "  0.013349425047636032,\n",
       "  -0.00032489123987033963,\n",
       "  0.03314452990889549,\n",
       "  0.014183764345943928,\n",
       "  -0.0010316766565665603,\n",
       "  0.023557810112833977,\n",
       "  -0.028220292180776596,\n",
       "  0.025848152115941048,\n",
       "  0.010380160063505173,\n",
       "  -0.019680587574839592,\n",
       "  0.006965095177292824,\n",
       "  -0.012809558771550655,\n",
       "  -0.004760640673339367,\n",
       "  0.022903425619006157,\n",
       "  -0.006670622620731592,\n",
       "  0.021447421982884407,\n",
       "  -0.03847775608301163,\n",
       "  -0.02395043894648552,\n",
       "  0.007325006183236837,\n",
       "  0.007251388393342495,\n",
       "  -0.0005362877855077386,\n",
       "  0.014870867133140564,\n",
       "  0.0167358610779047,\n",
       "  0.01062555331736803,\n",
       "  -0.02395043894648552,\n",
       "  0.005913991946727037,\n",
       "  -0.011132701300084591,\n",
       "  0.03765977546572685,\n",
       "  -0.024048596620559692,\n",
       "  0.01768471673130989,\n",
       "  0.03504224121570587,\n",
       "  -0.0004751949745696038,\n",
       "  0.013635718263685703,\n",
       "  0.04276396706700325,\n",
       "  -0.026993323117494583,\n",
       "  -0.021709175780415535,\n",
       "  -0.022543514147400856,\n",
       "  -0.011001824401319027,\n",
       "  0.00047877361066639423,\n",
       "  0.016179634258151054,\n",
       "  0.023099740967154503,\n",
       "  -0.020073216408491135,\n",
       "  0.021921850740909576,\n",
       "  -0.017750155180692673,\n",
       "  -0.002359870821237564,\n",
       "  -0.005394574720412493,\n",
       "  -0.03034703992307186,\n",
       "  -0.020073216408491135,\n",
       "  -0.01248236745595932,\n",
       "  -0.016269613057374954,\n",
       "  -0.01120631955564022,\n",
       "  -0.015361654572188854,\n",
       "  0.029938049614429474,\n",
       "  0.0240158773958683,\n",
       "  0.004055133555084467,\n",
       "  -0.01084640808403492,\n",
       "  -0.01815914548933506,\n",
       "  0.01631051115691662,\n",
       "  -0.007938491180539131,\n",
       "  0.002738186391070485,\n",
       "  -0.005075562745332718,\n",
       "  0.02802397683262825,\n",
       "  -0.030543355271220207,\n",
       "  0.026191703975200653,\n",
       "  0.00249688234180212,\n",
       "  0.03556574881076813,\n",
       "  0.01613873615860939,\n",
       "  -6.805844896007329e-05,\n",
       "  0.04181511327624321,\n",
       "  -0.01661316305398941,\n",
       "  -0.020073216408491135,\n",
       "  0.013660257682204247,\n",
       "  -0.016457747668027878,\n",
       "  -0.03363531827926636,\n",
       "  0.0126459626480937,\n",
       "  -0.038085125386714935,\n",
       "  0.004584775306284428,\n",
       "  -0.004552056081593037,\n",
       "  0.02962721697986126,\n",
       "  -0.00804073829203844,\n",
       "  0.022805267944931984,\n",
       "  -0.009251347742974758,\n",
       "  -0.014682731591165066,\n",
       "  -0.013627538457512856,\n",
       "  -0.005824014078825712,\n",
       "  -0.03468232974410057,\n",
       "  -0.0066256336867809296,\n",
       "  0.00549682229757309,\n",
       "  -0.0028097594622522593,\n",
       "  0.030232522636651993,\n",
       "  -0.001249463646672666,\n",
       "  0.004116481635719538,\n",
       "  0.03608925640583038,\n",
       "  -0.012850457802414894,\n",
       "  0.001557228504680097,\n",
       "  -0.011059083044528961,\n",
       "  -0.01062555331736803,\n",
       "  0.024228552356362343,\n",
       "  0.005018304102122784,\n",
       "  0.005394574720412493,\n",
       "  0.005774935241788626,\n",
       "  -0.045185185968875885,\n",
       "  -0.030870545655488968,\n",
       "  -0.013701156713068485,\n",
       "  -0.043222036212682724,\n",
       "  -0.000589456467423588,\n",
       "  -0.033602599054574966,\n",
       "  -0.005852643400430679,\n",
       "  -0.027827663347125053,\n",
       "  -0.05251428484916687,\n",
       "  -0.003993785008788109,\n",
       "  -0.027974897995591164,\n",
       "  -0.022608952596783638,\n",
       "  0.031574007123708725,\n",
       "  -0.010363800451159477,\n",
       "  0.016097836196422577,\n",
       "  -0.01617145538330078,\n",
       "  -0.009014134295284748,\n",
       "  -0.011214498430490494,\n",
       "  -0.005926261655986309,\n",
       "  0.019713304936885834,\n",
       "  -0.0307560283690691,\n",
       "  0.005382305011153221,\n",
       "  0.022428996860980988,\n",
       "  -0.03435513749718666,\n",
       "  0.00011394199100323021,\n",
       "  -0.00012435844109859318,\n",
       "  -0.02668249048292637,\n",
       "  0.005930351559072733,\n",
       "  0.00616756547242403,\n",
       "  0.007856693118810654,\n",
       "  -0.0015153069980442524,\n",
       "  -0.023672327399253845,\n",
       "  0.0067565105855464935,\n",
       "  0.0345841720700264,\n",
       "  -0.01819186471402645,\n",
       "  -0.03916485980153084,\n",
       "  -0.00547637278214097,\n",
       "  0.007365905214101076,\n",
       "  0.016686782240867615,\n",
       "  -0.0110999820753932,\n",
       "  0.004621583968400955,\n",
       "  0.00857242476195097,\n",
       "  -0.019746024161577225,\n",
       "  -0.007374085020273924,\n",
       "  0.00560315977782011,\n",
       "  0.04152064025402069,\n",
       "  0.04269852861762047,\n",
       "  0.012032478116452694,\n",
       "  0.0017504760762676597,\n",
       "  0.01899348385632038,\n",
       "  -0.0026911525055766106,\n",
       "  -0.015042643062770367,\n",
       "  0.005030573811382055,\n",
       "  0.010985464788973331,\n",
       "  -0.01548435166478157,\n",
       "  0.00012844834418501705,\n",
       "  0.005312776658684015,\n",
       "  0.009145011194050312,\n",
       "  0.005345495883375406,\n",
       "  -0.027140559628605843,\n",
       "  -0.0016615208005532622,\n",
       "  -0.0025848152581602335,\n",
       "  -0.008089817129075527,\n",
       "  -0.007619479205459356,\n",
       "  0.013104031793773174,\n",
       "  -0.005713586695492268,\n",
       "  0.008858717978000641,\n",
       "  0.012073377147316933,\n",
       "  0.0014427113346755505,\n",
       "  0.02231448143720627,\n",
       "  0.008253413252532482,\n",
       "  0.022690750658512115,\n",
       "  0.00404081866145134,\n",
       "  -0.0021226569078862667,\n",
       "  -0.00418192008510232,\n",
       "  0.0029692656826227903,\n",
       "  -0.029201868921518326,\n",
       "  0.0063148015178740025,\n",
       "  -0.013439402915537357,\n",
       "  0.020498566329479218,\n",
       "  -0.005889452528208494,\n",
       "  -0.02743503265082836,\n",
       "  0.03409338369965553,\n",
       "  -0.016629522666335106,\n",
       "  -0.020940275862812996,\n",
       "  0.011435353197157383,\n",
       "  -0.012179714627563953,\n",
       "  -0.010298362001776695,\n",
       "  -0.009995709173381329,\n",
       "  0.009128651581704617,\n",
       "  -0.005676777567714453,\n",
       "  0.005464103072881699,\n",
       "  0.028662001714110374,\n",
       "  -0.021627377718687057,\n",
       "  -0.04665755107998848,\n",
       "  -0.011198139749467373,\n",
       "  -0.0030081195291131735,\n",
       "  0.013455762527883053,\n",
       "  0.0024457587860524654,\n",
       "  -0.04433448985219002,\n",
       "  -0.01842089742422104,\n",
       "  0.0070714326575398445,\n",
       "  -0.023410573601722717,\n",
       "  -0.0027872652281075716,\n",
       "  -0.009333145804703236,\n",
       "  -0.0035254915710538626,\n",
       "  -0.03196663782000542,\n",
       "  0.0077994344756007195,\n",
       "  -0.006175745278596878,\n",
       "  0.0007970187580212951,\n",
       "  -0.017013972625136375,\n",
       "  0.02612626552581787,\n",
       "  -0.0020398362539708614,\n",
       "  -0.0017923975829035044,\n",
       "  -0.016531364992260933,\n",
       "  0.020334970206022263,\n",
       "  0.00889961700886488,\n",
       "  -0.006462038028985262,\n",
       "  0.037365302443504333,\n",
       "  -0.024555744603276253,\n",
       "  0.015476171858608723,\n",
       "  0.007059162948280573,\n",
       "  0.025013813748955727,\n",
       "  -0.036514606326818466,\n",
       "  0.00013483880320563912,\n",
       "  0.009194089099764824,\n",
       "  0.011746185831725597,\n",
       "  -0.016964895650744438,\n",
       "  -0.0407680980861187,\n",
       "  -0.018404537811875343,\n",
       "  -0.02485021762549877,\n",
       "  -0.0030449286568909883,\n",
       "  0.0019703081343322992,\n",
       "  0.010396519675850868,\n",
       "  -0.0307560283690691,\n",
       "  0.0003609334526117891,\n",
       "  -0.014715450815856457,\n",
       "  -0.008588784374296665,\n",
       "  ...],\n",
       " {'text': 'hi', 'date_uploaded': '2025-06-13 08:22:01.087049'})"
      ]
     },
     "execution_count": 11,
     "metadata": {},
     "output_type": "execute_result"
    }
   ],
   "source": [
    "a = prepare_for_pinecone(texts)\n",
    "a[0]"
   ]
  },
  {
   "cell_type": "code",
   "execution_count": 12,
   "id": "bf47aabd",
   "metadata": {},
   "outputs": [],
   "source": [
    "def upload_texts_to_pinecone(texts, namespace=NAMESPACE, batch_size=None, show_progress_bar=False):\n",
    "    # Call the prepare_for_pinecone function to prepare the input texts for indexing\n",
    "    total_upserted = 0\n",
    "    if not batch_size:\n",
    "        batch_size = len(texts)\n",
    "\n",
    "    _range = range(0, len(texts), batch_size)\n",
    "    for i in tqdm(_range) if show_progress_bar else _range:\n",
    "        batch = texts[i: i + batch_size]\n",
    "        prepared_texts = prepare_for_pinecone(batch)\n",
    "\n",
    "        # Use the upsert() method of the index object to upload the prepared texts to Pinecone\n",
    "        #upsert(): update if the vector ID exists, insert if it doesn't.\n",
    "        #index.upsert(...) returns a dictionary\n",
    "        #get the upserted_count\n",
    "        total_upserted += index.upsert(\n",
    "            vectors=prepared_texts,\n",
    "            namespace=namespace\n",
    "        )['upserted_count']\n",
    "\n",
    "\n",
    "    return total_upserted\n",
    "\n",
    "# Call the upload_texts_to_pinecone() function with the input texts\n",
    "#test the function: upload_texts_to_pinecone\n",
    "## upload_texts_to_pinecone(texts)\n"
   ]
  },
  {
   "cell_type": "code",
   "execution_count": 13,
   "id": "V0XI6RAom-Ln",
   "metadata": {},
   "outputs": [],
   "source": [
    "def query_from_pinecone(query, top_k=3, include_metadata=True):\n",
    "    # get embedding from THE SAME embedder as the documents\n",
    "    query_embedding = get_embedding(query, engine=ENGINE)\n",
    "    #index.query():performs a vector similarity search.\n",
    "    return index.query(\n",
    "      vector=query_embedding,\n",
    "      top_k=top_k,\n",
    "      namespace=NAMESPACE,\n",
    "      include_metadata=include_metadata   # gets the metadata (dates, text, etc)\n",
    "    ).get('matches')"
   ]
  },
  {
   "cell_type": "code",
   "execution_count": 14,
   "id": "84a0871f",
   "metadata": {},
   "outputs": [],
   "source": [
    "def delete_texts_from_pinecone(texts, namespace=NAMESPACE):\n",
    "    # Compute the hash (id) for each text\n",
    "    hashes = [hashlib.md5(text.encode()).hexdigest() for text in texts]\n",
    "\n",
    "    # The ids parameter is used to specify the list of IDs (hashes) to delete\n",
    "    return index.delete(ids=hashes, namespace=namespace)"
   ]
  },
  {
   "cell_type": "code",
   "execution_count": 14,
   "id": "a6a5172f-a0c6-4692-ab77-83321e141679",
   "metadata": {},
   "outputs": [],
   "source": []
  },
  {
   "cell_type": "code",
   "execution_count": 15,
   "id": "4523cab6-0bc3-4791-9c73-7bd7d7e5858b",
   "metadata": {},
   "outputs": [
    {
     "data": {
      "text/plain": [
       "DatasetDict({\n",
       "    test: Dataset({\n",
       "        features: ['id', 'title', 'context', 'question', 'answers'],\n",
       "        num_rows: 1148\n",
       "    })\n",
       "    train: Dataset({\n",
       "        features: ['id', 'title', 'context', 'question', 'answers'],\n",
       "        num_rows: 11590\n",
       "    })\n",
       "})"
      ]
     },
     "execution_count": 15,
     "metadata": {},
     "output_type": "execute_result"
    }
   ],
   "source": [
    "from datasets import load_dataset\n",
    "\n",
    "dataset = load_dataset(\"xtreme\", \"MLQA.en.en\")\n",
    "\n",
    "# rename test -> train and val -> test (as we will use it in later in this chapter)\n",
    "dataset['train'] = dataset['test']\n",
    "dataset['test'] = dataset['validation']\n",
    "del dataset['validation']\n",
    "\n",
    "dataset"
   ]
  },
  {
   "cell_type": "code",
   "execution_count": 16,
   "id": "e622fbfa-2dde-4711-9c46-1390eb3430f9",
   "metadata": {},
   "outputs": [
    {
     "data": {
      "text/plain": [
       "({'id': 'a4968ca8a18de16aa3859be760e43dbd3af3fce9',\n",
       "  'title': 'Area 51',\n",
       "  'context': 'In 1994, five unnamed civilian contractors and the widows of contractors Walter Kasza and Robert Frost sued the USAF and the United States Environmental Protection Agency. Their suit, in which they were represented by George Washington University law professor Jonathan Turley, alleged they had been present when large quantities of unknown chemicals had been burned in open pits and trenches at Groom. Biopsies taken from the complainants were analyzed by Rutgers University biochemists, who found high levels of dioxin, dibenzofuran, and trichloroethylene in their body fat. The complainants alleged they had sustained skin, liver, and respiratory injuries due to their work at Groom, and that this had contributed to the deaths of Frost and Kasza. The suit sought compensation for the injuries they had sustained, claiming the USAF had illegally handled toxic materials, and that the EPA had failed in its duty to enforce the Resource Conservation and Recovery Act (which governs handling of dangerous materials). They also sought detailed information about the chemicals to which they were allegedly exposed, hoping this would facilitate the medical treatment of survivors. Congressman Lee H. Hamilton, former chairman of the House Intelligence Committee, told 60 Minutes reporter Lesley Stahl, \"The Air Force is classifying all information about Area 51 in order to protect themselves from a lawsuit.\"',\n",
       "  'question': 'Who analyzed the biopsies?',\n",
       "  'answers': {'answer_start': [457],\n",
       "   'text': ['Rutgers University biochemists']}},\n",
       " {'id': 'f251ea56c4f1aa1df270137f7e6d89c0cc1b6ef4',\n",
       "  'title': 'Area 51',\n",
       "  'context': 'In 1994, five unnamed civilian contractors and the widows of contractors Walter Kasza and Robert Frost sued the USAF and the United States Environmental Protection Agency. Their suit, in which they were represented by George Washington University law professor Jonathan Turley, alleged they had been present when large quantities of unknown chemicals had been burned in open pits and trenches at Groom. Biopsies taken from the complainants were analyzed by Rutgers University biochemists, who found high levels of dioxin, dibenzofuran, and trichloroethylene in their body fat. The complainants alleged they had sustained skin, liver, and respiratory injuries due to their work at Groom, and that this had contributed to the deaths of Frost and Kasza. The suit sought compensation for the injuries they had sustained, claiming the USAF had illegally handled toxic materials, and that the EPA had failed in its duty to enforce the Resource Conservation and Recovery Act (which governs handling of dangerous materials). They also sought detailed information about the chemicals to which they were allegedly exposed, hoping this would facilitate the medical treatment of survivors. Congressman Lee H. Hamilton, former chairman of the House Intelligence Committee, told 60 Minutes reporter Lesley Stahl, \"The Air Force is classifying all information about Area 51 in order to protect themselves from a lawsuit.\"',\n",
       "  'question': 'who represented robert frost and walter kasza in their suit?',\n",
       "  'answers': {'answer_start': [218],\n",
       "   'text': ['George Washington University law professor Jonathan Turley']}})"
      ]
     },
     "execution_count": 16,
     "metadata": {},
     "output_type": "execute_result"
    }
   ],
   "source": [
    "dataset['train'][0], dataset['train'][1]"
   ]
  },
  {
   "cell_type": "code",
   "execution_count": 17,
   "id": "0221343a",
   "metadata": {},
   "outputs": [
    {
     "name": "stderr",
     "output_type": "stream",
     "text": [
      "100%|██████████| 31/31 [01:42<00:00,  3.32s/it]\n"
     ]
    }
   ],
   "source": [
    "unique_passages = list(set(dataset['test']['context']))\n",
    "for idx in tqdm(range(0, len(unique_passages), 32)):\n",
    "    passages = unique_passages[idx:idx + 32]\n",
    "    upload_texts_to_pinecone(passages)\n"
   ]
  },
  {
   "cell_type": "code",
   "execution_count": 18,
   "id": "796a7c80-7149-430e-b22c-9926c0d1daee",
   "metadata": {},
   "outputs": [
    {
     "data": {
      "text/plain": [
       "978"
      ]
     },
     "execution_count": 18,
     "metadata": {},
     "output_type": "execute_result"
    }
   ],
   "source": [
    "len(unique_passages)"
   ]
  },
  {
   "cell_type": "code",
   "execution_count": 19,
   "id": "33yf7QrWtwt-",
   "metadata": {},
   "outputs": [
    {
     "data": {
      "text/plain": [
       "{'dimension': 3072,\n",
       " 'index_fullness': 0.0,\n",
       " 'metric': 'cosine',\n",
       " 'namespaces': {'default': {'vector_count': 979}},\n",
       " 'total_vector_count': 979,\n",
       " 'vector_type': 'dense'}"
      ]
     },
     "execution_count": 19,
     "metadata": {},
     "output_type": "execute_result"
    }
   ],
   "source": [
    "index.describe_index_stats()"
   ]
  },
  {
   "cell_type": "code",
   "execution_count": 20,
   "id": "432b021b-2cdb-4d73-a2c6-f2e0d1eb5ffc",
   "metadata": {},
   "outputs": [
    {
     "data": {
      "text/plain": [
       "{'id': '569666f4dc3983dab5624e989212c1d9d0cd1798',\n",
       " 'title': 'Pappataci fever',\n",
       " 'context': 'Pappataci fever is prevalent in the subtropical zone of the Eastern Hemisphere between 20°N and 45°N, particularly in Southern Europe, North Africa, the Balkans, Eastern Mediterranean, Iraq, Iran, Pakistan, Afghanistan and India.The disease is transmitted by the bites of phlebotomine sandflies of the Genus Phlebotomus, in particular, Phlebotomus papatasi, Phlebotomus perniciosus and Phlebotomus perfiliewi. The sandfly becomes infected when biting an infected human in the period between 48 hours before the onset of fever and 24 hours after the end of the fever, and remains infected for its lifetime. Besides this horizontal virus transmission from man to sandfly, the virus can be transmitted in insects transovarially, from an infected female sandfly to its offspring.Pappataci fever is seldom recognised in endemic populations because it is mixed with other febrile illnesses of childhood, but it is more well-known among immigrants and military personnel from non-endemic regions.',\n",
       " 'question': 'Does an infection for Sandflies go away over time?',\n",
       " 'answers': {'answer_start': [571],\n",
       "  'text': ['remains infected for its lifetime']}}"
      ]
     },
     "execution_count": 20,
     "metadata": {},
     "output_type": "execute_result"
    }
   ],
   "source": [
    "dataset['test'][0]"
   ]
  },
  {
   "cell_type": "code",
   "execution_count": 21,
   "id": "36e13316-2295-4a72-8f2a-b459f0e7826a",
   "metadata": {},
   "outputs": [
    {
     "data": {
      "text/plain": [
       "[{'id': '2f90090e21f19450887d5f3ff781e541',\n",
       "  'metadata': {'date_uploaded': '2025-06-13 08:23:14.508594',\n",
       "               'text': 'Pappataci fever is prevalent in the subtropical zone of '\n",
       "                       'the Eastern Hemisphere between 20°N and 45°N, '\n",
       "                       'particularly in Southern Europe, North Africa, the '\n",
       "                       'Balkans, Eastern Mediterranean, Iraq, Iran, Pakistan, '\n",
       "                       'Afghanistan and India.The disease is transmitted by the '\n",
       "                       'bites of phlebotomine sandflies of the Genus '\n",
       "                       'Phlebotomus, in particular, Phlebotomus papatasi, '\n",
       "                       'Phlebotomus perniciosus and Phlebotomus perfiliewi. The '\n",
       "                       'sandfly becomes infected when biting an infected human '\n",
       "                       'in the period between 48 hours before the onset of '\n",
       "                       'fever and 24 hours after the end of the fever, and '\n",
       "                       'remains infected for its lifetime. Besides this '\n",
       "                       'horizontal virus transmission from man to sandfly, the '\n",
       "                       'virus can be transmitted in insects transovarially, '\n",
       "                       'from an infected female sandfly to its '\n",
       "                       'offspring.Pappataci fever is seldom recognised in '\n",
       "                       'endemic populations because it is mixed with other '\n",
       "                       'febrile illnesses of childhood, but it is more '\n",
       "                       'well-known among immigrants and military personnel from '\n",
       "                       'non-endemic regions.'},\n",
       "  'score': 0.4360919,\n",
       "  'values': []},\n",
       " {'id': '00661b04eb84a4664717245513ea30cd',\n",
       "  'metadata': {'date_uploaded': '2025-06-13 08:22:43.820096',\n",
       "               'text': 'Paratyphoid fever, also known simply as paratyphoid, is '\n",
       "                       'a bacterial infection caused by one of the three types '\n",
       "                       'of Salmonella enterica. Symptoms usually begin 6–30 '\n",
       "                       'days after exposure and are the same as those of '\n",
       "                       'typhoid fever. Often, a gradual onset of a high fever '\n",
       "                       'occurs over several days. Weakness, loss of appetite, '\n",
       "                       'and headaches also commonly occur. Some people develop '\n",
       "                       'a skin rash with rose-colored spots. Without treatment, '\n",
       "                       'symptoms may last weeks or months. Other people may '\n",
       "                       'carry the bacteria without being affected; however, '\n",
       "                       'they are still able to spread the disease to others. '\n",
       "                       'Both typhoid and paratyphoid are of similar severity. '\n",
       "                       'Paratyphoid and typhoid fever are types of enteric '\n",
       "                       'fever.Paratyphoid is caused by the bacterium Salmonella '\n",
       "                       'enterica of the serotypes Paratyphi A, Paratyphi B, or '\n",
       "                       'Paratyphi C growing in the intestines and blood. They '\n",
       "                       'are usually spread by eating or drinking food or water '\n",
       "                       'contaminated with the feces of an infected person. They '\n",
       "                       'may occur when a person who prepares food is infected. '\n",
       "                       'Risk factors include poor sanitation as is found among '\n",
       "                       'poor crowded populations. Occasionally, they may be '\n",
       "                       'transmitted by sex. Humans are the only animals '\n",
       "                       'infected. Diagnosis may be based on symptoms and '\n",
       "                       'confirmed by either culturing the bacteria or detecting '\n",
       "                       'the bacterial DNA in the blood, stool, or bone marrow. '\n",
       "                       'Culturing the bacteria can be difficult. Bone-marrow '\n",
       "                       'testing is the most accurate. Symptoms are similar to '\n",
       "                       'that of many other infectious diseases. Typhus is an '\n",
       "                       'unrelated disease.While no vaccine is available '\n",
       "                       'specifically for paratyphoid, the typhoid vaccine may '\n",
       "                       'provide some benefit. Prevention includes drinking '\n",
       "                       'clean water, better sanitation, and better handwashing. '\n",
       "                       'Treatment of the disease is with antibiotics such as '\n",
       "                       'azithromycin. Resistance to a number of other '\n",
       "                       'previously effective antibiotics is common.Paratyphoid '\n",
       "                       'affects about six million people a year. It is most '\n",
       "                       'common in parts of Asia and rare in the developed '\n",
       "                       'world. Most cases are due to Paratyphi A rather than '\n",
       "                       'Paratyphi B or C. In 2015, paratyphoid fever resulted '\n",
       "                       'in about 29,200 deaths, down from 63,000 deaths in '\n",
       "                       '1990. The risk of death is between 10 and 15% without '\n",
       "                       'treatment, while with treatment, it may be less than '\n",
       "                       '1%.'},\n",
       "  'score': 0.325840741,\n",
       "  'values': []},\n",
       " {'id': '24d322a7ce10e9e2fa12fcf54f50c651',\n",
       "  'metadata': {'date_uploaded': '2025-06-13 08:23:14.508594',\n",
       "               'text': 'Although Aronson isolated this mycobacterium in 1926 '\n",
       "                       'from a fish, it was not until 1951 that it was found to '\n",
       "                       'be the cause of human disease by Linell and Norden. '\n",
       "                       'Large outbreaks of infection due to this atypical '\n",
       "                       'mycobacterium have been described in association with '\n",
       "                       'swimming. Infections related to swimming pools have now '\n",
       "                       'drastically fallen due to the improvements in the '\n",
       "                       'construction and maintenance of these facilities.The '\n",
       "                       'first case of M. marinum infection associated with a '\n",
       "                       \"fish-tank ('fish-tank granuloma') was reported in 1962 \"\n",
       "                       'by Swift and Cohen. M. marinum infection may be an '\n",
       "                       'occupational hazard for certain professions such as pet '\n",
       "                       'shop workers, but most infections occur in fish '\n",
       "                       'fanciers who keep an aquarium at home. Although '\n",
       "                       'infection may be caused by direct injury from the fish '\n",
       "                       'fins or bites, most are acquired during the handling of '\n",
       "                       'the aquariums such as cleaning or changing the water. '\n",
       "                       'Indirect infection has also been described related to a '\n",
       "                       'child’s bathing utensils that had been used to clean a '\n",
       "                       'fish tank. Due to an increased awareness of the disease '\n",
       "                       'and improved isolation methods, more and more cases are '\n",
       "                       'being recognized and reported worldwide.'},\n",
       "  'score': 0.301909655,\n",
       "  'values': []}]"
      ]
     },
     "execution_count": 21,
     "metadata": {},
     "output_type": "execute_result"
    }
   ],
   "source": [
    "query_from_pinecone('Does an infection for Sandflies go away over time?')"
   ]
  },
  {
   "cell_type": "code",
   "execution_count": null,
   "id": "5b92699e-2d92-4083-9508-ae47355c9c1a",
   "metadata": {},
   "outputs": [],
   "source": []
  },
  {
   "cell_type": "code",
   "execution_count": null,
   "id": "206ab80e-f4b4-48d2-8aef-b522024f6658",
   "metadata": {},
   "outputs": [],
   "source": []
  },
  {
   "cell_type": "markdown",
   "id": "7e180a25-37e4-47a8-8ae8-a49f39c106ab",
   "metadata": {
    "id": "7e180a25-37e4-47a8-8ae8-a49f39c106ab"
   },
   "source": [
    "# Part 2: Making results more relevant with a cross-encoder"
   ]
  },
  {
   "cell_type": "code",
   "execution_count": 22,
   "id": "074fab6f",
   "metadata": {},
   "outputs": [],
   "source": [
    "# if you didn't import before\n",
    "\n",
    "from sentence_transformers.cross_encoder import CrossEncoder\n",
    "import numpy as np\n",
    "from torch import nn"
   ]
  },
  {
   "cell_type": "code",
   "execution_count": 23,
   "id": "414fc2d5",
   "metadata": {},
   "outputs": [],
   "source": [
    "from copy import copy\n",
    "\n",
    "#correct_hash: the chas of the correct answer\n",
    "def get_results_from_pinecone(query, top_k=3, re_rank_model=None, verbose=True, correct_hash=None):\n",
    "\n",
    "    results_from_pinecone = query_from_pinecone(query, top_k=top_k)\n",
    "\n",
    "    if not results_from_pinecone:\n",
    "        return []\n",
    "\n",
    "    if verbose:\n",
    "        print(\"Query:\", query)\n",
    "\n",
    "\n",
    "    final_results = []\n",
    "\n",
    "    retrieved_correct_position, reranked_correct_position = None, None\n",
    "    for idx, result_from_pinecone in enumerate(results_from_pinecone):\n",
    "        if correct_hash and result_from_pinecone['id'] == correct_hash:\n",
    "            #record the index of the correct answer in the retrived set(if exisdt)\n",
    "            retrieved_correct_position = idx\n",
    "\n",
    "    if re_rank_model is not None:\n",
    "        if verbose:\n",
    "            print('Document ID (Hash)\\t\\tRetrieval Score\\tCE Score\\tText')\n",
    "\n",
    "        sentence_combinations = [[query, result_from_pinecone['metadata']['text']] for result_from_pinecone in results_from_pinecone]\n",
    "\n",
    "        # Compute the similarity scores for these combinations\n",
    "        similarity_scores = re_rank_model.predict(sentence_combinations, activation_fct=nn.Sigmoid())\n",
    "\n",
    "        # Sort the scores in decreasing order\n",
    "        sim_scores_argsort = list(reversed(np.argsort(similarity_scores)))\n",
    "        sim_scores_sort = list(reversed(np.sort(similarity_scores)))\n",
    "        top_re_rank_score = sim_scores_sort[0]\n",
    "\n",
    "        # Print the scores\n",
    "        # print(list(zip(sim_scores_argsort, sim_scores_sort)))\n",
    "        for idx, _ in enumerate(sim_scores_argsort):\n",
    "            result_from_pinecone = results_from_pinecone[_]\n",
    "            if correct_hash and retrieved_correct_position == _:\n",
    "                #record the index of the correct answer in the rerank set(if exisdt)\n",
    "                reranked_correct_position = idx\n",
    "            final_results.append({'score': similarity_scores[idx], 'id': result_from_pinecone['id'], 'metadata': result_from_pinecone['metadata']})\n",
    "            if verbose:\n",
    "                print(f\"{result_from_pinecone['id']}\\t{result_from_pinecone['score']:.2f}\\t{similarity_scores[idx]:.6f}\\t{result_from_pinecone['metadata']['text'][:50]}\")\n",
    "        return {'final_results': final_results, 'retrieved_correct_position': retrieved_correct_position, 'reranked_correct_position': reranked_correct_position, 'results_from_pinecone': results_from_pinecone, 'top_re_rank_score': top_re_rank_score}\n",
    "\n",
    "    if verbose:\n",
    "        print('Document ID (Hash)\\t\\tRetrieval Score\\tText')\n",
    "    for result_from_pinecone in results_from_pinecone:\n",
    "        final_results.append(result_from_pinecone)\n",
    "        if verbose:\n",
    "            print(f\"{result_from_pinecone['id']}\\t{result_from_pinecone['score']:.2f}\\t{result_from_pinecone['metadata']['text'][:50]}\")\n",
    "\n",
    "    return {'final_results': final_results, 'retrieved_correct_position': retrieved_correct_position, 'reranked_correct_position': reranked_correct_position}"
   ]
  },
  {
   "cell_type": "code",
   "execution_count": 23,
   "id": "_GPhx4MMIVqU",
   "metadata": {},
   "outputs": [],
   "source": []
  },
  {
   "cell_type": "code",
   "execution_count": 24,
   "id": "b25a8a8f-e873-43e7-9f56-b57bdf328416",
   "metadata": {},
   "outputs": [],
   "source": [
    "# Pre-trained cross encoder\n",
    "cross_encoder = CrossEncoder('cross-encoder/ms-marco-MiniLM-L-12-v2', num_labels=1)\n",
    "\n",
    "q_to_hash = {data['question']: my_hash(data['context']) for data in dataset['test']}"
   ]
  },
  {
   "cell_type": "code",
   "execution_count": 25,
   "id": "vptFN0wPw0uS",
   "metadata": {},
   "outputs": [
    {
     "data": {
      "text/plain": [
       "1148"
      ]
     },
     "execution_count": 25,
     "metadata": {},
     "output_type": "execute_result"
    }
   ],
   "source": [
    "unique_inputs = list(set(dataset['test']['question']))\n",
    "len(unique_inputs)"
   ]
  },
  {
   "cell_type": "code",
   "execution_count": 26,
   "id": "dc56237c-f9d6-4b3d-a8ac-31098cf4f904",
   "metadata": {},
   "outputs": [
    {
     "name": "stdout",
     "output_type": "stream",
     "text": [
      "What award was issued to Daytime Emmy?\n",
      "1998: Nominated – Daytime Emmy Award for Outstanding Audience Participation Show/Game Show for Pictionary (co-executive producer)\n"
     ]
    }
   ],
   "source": [
    "#Get the testing query and the right answer\n",
    "query = unique_inputs[0]\n",
    "print(query)\n",
    "\n",
    "for t in dataset['test']:\n",
    "    if t['question'] == query:\n",
    "        print(t['context'])"
   ]
  },
  {
   "cell_type": "code",
   "execution_count": 27,
   "id": "4b0da5ac-0345-45e2-9913-188590a31522",
   "metadata": {},
   "outputs": [
    {
     "data": {
      "text/plain": [
       "(0, 0)"
      ]
     },
     "execution_count": 27,
     "metadata": {},
     "output_type": "execute_result"
    }
   ],
   "source": [
    "query_result = get_results_from_pinecone(\n",
    "    query,\n",
    "    top_k=2, # grab 2 results\n",
    "    re_rank_model=cross_encoder,\n",
    "    correct_hash=q_to_hash[query],\n",
    "    verbose=False\n",
    "    )\n",
    "\n",
    "query_result['retrieved_correct_position'], query_result['reranked_correct_position']"
   ]
  },
  {
   "cell_type": "code",
   "execution_count": 28,
   "id": "dfbb3b3c-9baa-4298-abd8-0e7b75dd24ec",
   "metadata": {},
   "outputs": [
    {
     "data": {
      "text/plain": [
       "{'final_results': [{'score': np.float32(0.99865025),\n",
       "   'id': 'a8b6a38cca3559e64849123151d183f6',\n",
       "   'metadata': {'date_uploaded': '2025-06-13 08:22:36.454000',\n",
       "    'text': '1998: Nominated – Daytime Emmy Award for Outstanding Audience Participation Show/Game Show for Pictionary (co-executive producer)'}},\n",
       "  {'score': np.float32(9.674522e-05),\n",
       "   'id': 'e83e8b3f4a55a1e61021d14bbd16af8c',\n",
       "   'metadata': {'date_uploaded': '2025-06-13 08:23:08.096942',\n",
       "    'text': \"Jolie has received wide recognition for her humanitarian work. In August 2002, she received the inaugural Humanitarian Award from the Church World Service's Immigration and Refugee Program, and in October 2003, she was the first recipient of the Citizen of the World Award by the United Nations Correspondents Association. She was awarded the Global Humanitarian Award by the UNA-USA in October 2005, and she received the Freedom Award from the International Rescue Committee in November 2007. In October 2011, UN High Commissioner for Refugees António Guterres presented Jolie with a gold pin reserved for the most long-serving staff, in recognition of her decade as a UNHCR Goodwill Ambassador.In November 2013, Jolie received the Jean Hersholt Humanitarian Award, an honorary Academy Award, from the Board of Governors of the Academy of Motion Picture Arts and Sciences. In June 2014, she was appointed an Honorary Dame Commander of the Order of St Michael and St George (DCMG) for her services to the UK's foreign policy and campaigning to end sexual violence in war zones. Queen Elizabeth II presented Jolie with the insignia of her honorary damehood during a private ceremony the following October.\"}}],\n",
       " 'retrieved_correct_position': 0,\n",
       " 'reranked_correct_position': 0,\n",
       " 'results_from_pinecone': [{'id': 'a8b6a38cca3559e64849123151d183f6',\n",
       "   'metadata': {'date_uploaded': '2025-06-13 08:22:36.454000',\n",
       "                'text': '1998: Nominated – Daytime Emmy Award for Outstanding '\n",
       "                        'Audience Participation Show/Game Show for Pictionary '\n",
       "                        '(co-executive producer)'},\n",
       "   'score': 0.466094136,\n",
       "   'values': []},\n",
       "  {'id': 'e83e8b3f4a55a1e61021d14bbd16af8c',\n",
       "   'metadata': {'date_uploaded': '2025-06-13 08:23:08.096942',\n",
       "                'text': 'Jolie has received wide recognition for her '\n",
       "                        'humanitarian work. In August 2002, she received the '\n",
       "                        'inaugural Humanitarian Award from the Church World '\n",
       "                        \"Service's Immigration and Refugee Program, and in \"\n",
       "                        'October 2003, she was the first recipient of the '\n",
       "                        'Citizen of the World Award by the United Nations '\n",
       "                        'Correspondents Association. She was awarded the Global '\n",
       "                        'Humanitarian Award by the UNA-USA in October 2005, and '\n",
       "                        'she received the Freedom Award from the International '\n",
       "                        'Rescue Committee in November 2007. In October 2011, UN '\n",
       "                        'High Commissioner for Refugees António Guterres '\n",
       "                        'presented Jolie with a gold pin reserved for the most '\n",
       "                        'long-serving staff, in recognition of her decade as a '\n",
       "                        'UNHCR Goodwill Ambassador.In November 2013, Jolie '\n",
       "                        'received the Jean Hersholt Humanitarian Award, an '\n",
       "                        'honorary Academy Award, from the Board of Governors of '\n",
       "                        'the Academy of Motion Picture Arts and Sciences. In '\n",
       "                        'June 2014, she was appointed an Honorary Dame Commander '\n",
       "                        'of the Order of St Michael and St George (DCMG) for her '\n",
       "                        \"services to the UK's foreign policy and campaigning to \"\n",
       "                        'end sexual violence in war zones. Queen Elizabeth II '\n",
       "                        'presented Jolie with the insignia of her honorary '\n",
       "                        'damehood during a private ceremony the following '\n",
       "                        'October.'},\n",
       "   'score': 0.335838705,\n",
       "   'values': []}],\n",
       " 'top_re_rank_score': np.float32(0.99865025)}"
      ]
     },
     "execution_count": 28,
     "metadata": {},
     "output_type": "execute_result"
    }
   ],
   "source": [
    "query_result  # the right context isn't there!"
   ]
  },
  {
   "cell_type": "code",
   "execution_count": 29,
   "id": "caa66ac8-d69c-49a1-9f55-e9ef93379fec",
   "metadata": {},
   "outputs": [
    {
     "data": {
      "text/plain": [
       "(0, 0)"
      ]
     },
     "execution_count": 29,
     "metadata": {},
     "output_type": "execute_result"
    }
   ],
   "source": [
    "query_result = get_results_from_pinecone(\n",
    "    query,\n",
    "    top_k=100, # grab 10 results\n",
    "    re_rank_model=cross_encoder, correct_hash=q_to_hash[query],\n",
    "    verbose=False\n",
    "    )\n",
    "\n",
    "query_result['retrieved_correct_position'], query_result['reranked_correct_position']"
   ]
  },
  {
   "cell_type": "code",
   "execution_count": null,
   "id": "uk1lhptdUfrL",
   "metadata": {},
   "outputs": [],
   "source": []
  },
  {
   "cell_type": "code",
   "execution_count": 30,
   "id": "a63ec53e",
   "metadata": {},
   "outputs": [],
   "source": [
    "test_sample = dataset['test']"
   ]
  },
  {
   "cell_type": "code",
   "execution_count": 31,
   "id": "21a3a147",
   "metadata": {},
   "outputs": [],
   "source": [
    "TOP_K=50"
   ]
  },
  {
   "cell_type": "code",
   "execution_count": 32,
   "id": "b98413a3",
   "metadata": {},
   "outputs": [
    {
     "name": "stderr",
     "output_type": "stream",
     "text": [
      "  9%|▊         | 100/1148 [02:48<28:42,  1.64s/it]"
     ]
    },
    {
     "name": "stdout",
     "output_type": "stream",
     "text": [
      "Accuracy without re-ranking: 0.78\n",
      "Accuracy with re-ranking: 0.84\n"
     ]
    },
    {
     "name": "stderr",
     "output_type": "stream",
     "text": [
      " 17%|█▋        | 200/1148 [05:37<25:45,  1.63s/it]"
     ]
    },
    {
     "name": "stdout",
     "output_type": "stream",
     "text": [
      "Accuracy without re-ranking: 0.765\n",
      "Accuracy with re-ranking: 0.835\n"
     ]
    },
    {
     "name": "stderr",
     "output_type": "stream",
     "text": [
      " 26%|██▌       | 300/1148 [08:56<40:07,  2.84s/it]"
     ]
    },
    {
     "name": "stdout",
     "output_type": "stream",
     "text": [
      "Accuracy without re-ranking: 0.7666666666666667\n",
      "Accuracy with re-ranking: 0.8166666666666667\n"
     ]
    },
    {
     "name": "stderr",
     "output_type": "stream",
     "text": [
      " 35%|███▍      | 400/1148 [13:38<21:45,  1.75s/it]"
     ]
    },
    {
     "name": "stdout",
     "output_type": "stream",
     "text": [
      "Accuracy without re-ranking: 0.7625\n",
      "Accuracy with re-ranking: 0.8275\n"
     ]
    },
    {
     "name": "stderr",
     "output_type": "stream",
     "text": [
      " 44%|████▎     | 500/1148 [16:29<20:48,  1.93s/it]"
     ]
    },
    {
     "name": "stdout",
     "output_type": "stream",
     "text": [
      "Accuracy without re-ranking: 0.764\n",
      "Accuracy with re-ranking: 0.836\n"
     ]
    },
    {
     "name": "stderr",
     "output_type": "stream",
     "text": [
      " 52%|█████▏    | 600/1148 [19:41<15:27,  1.69s/it]"
     ]
    },
    {
     "name": "stdout",
     "output_type": "stream",
     "text": [
      "Accuracy without re-ranking: 0.7683333333333333\n",
      "Accuracy with re-ranking: 0.8483333333333334\n"
     ]
    },
    {
     "name": "stderr",
     "output_type": "stream",
     "text": [
      " 61%|██████    | 700/1148 [22:29<11:59,  1.61s/it]"
     ]
    },
    {
     "name": "stdout",
     "output_type": "stream",
     "text": [
      "Accuracy without re-ranking: 0.7471428571428571\n",
      "Accuracy with re-ranking: 0.83\n"
     ]
    },
    {
     "name": "stderr",
     "output_type": "stream",
     "text": [
      " 70%|██████▉   | 800/1148 [25:14<09:41,  1.67s/it]"
     ]
    },
    {
     "name": "stdout",
     "output_type": "stream",
     "text": [
      "Accuracy without re-ranking: 0.74875\n",
      "Accuracy with re-ranking: 0.8225\n"
     ]
    },
    {
     "name": "stderr",
     "output_type": "stream",
     "text": [
      " 78%|███████▊  | 900/1148 [28:02<07:46,  1.88s/it]"
     ]
    },
    {
     "name": "stdout",
     "output_type": "stream",
     "text": [
      "Accuracy without re-ranking: 0.7388888888888889\n",
      "Accuracy with re-ranking: 0.82\n"
     ]
    },
    {
     "name": "stderr",
     "output_type": "stream",
     "text": [
      " 87%|████████▋ | 1000/1148 [31:06<04:04,  1.65s/it]"
     ]
    },
    {
     "name": "stdout",
     "output_type": "stream",
     "text": [
      "Accuracy without re-ranking: 0.741\n",
      "Accuracy with re-ranking: 0.82\n"
     ]
    },
    {
     "name": "stderr",
     "output_type": "stream",
     "text": [
      " 96%|█████████▌| 1100/1148 [33:55<01:17,  1.61s/it]"
     ]
    },
    {
     "name": "stdout",
     "output_type": "stream",
     "text": [
      "Accuracy without re-ranking: 0.7509090909090909\n",
      "Accuracy with re-ranking: 0.8281818181818181\n"
     ]
    },
    {
     "name": "stderr",
     "output_type": "stream",
     "text": [
      "100%|██████████| 1148/1148 [35:16<00:00,  1.84s/it]\n"
     ]
    }
   ],
   "source": [
    "logger.setLevel(logging.CRITICAL)\n",
    "\n",
    "predictions = []\n",
    "\n",
    "for question in tqdm(test_sample['question']):\n",
    "    r = get_results_from_pinecone(\n",
    "        question, top_k=TOP_K, re_rank_model=cross_encoder, correct_hash=q_to_hash[question],\n",
    "        verbose=False\n",
    "        )\n",
    "\n",
    "    r['retrieved_correct_position'], r['reranked_correct_position']\n",
    "    predictions.append(r)\n",
    "    if len(predictions) % 100 == 0:\n",
    "        retrieved_accuracy = sum([_['retrieved_correct_position'] == 0 for _ in predictions])/len(predictions)\n",
    "        re_ranked_accuracy = sum([_['reranked_correct_position'] == 0 for _ in predictions])/len(predictions)\n",
    "\n",
    "        print(f'Accuracy without re-ranking: {retrieved_accuracy}')\n",
    "        print(f'Accuracy with re-ranking: {re_ranked_accuracy}')\n"
   ]
  },
  {
   "cell_type": "code",
   "execution_count": 33,
   "id": "a2ff94e7-0b78-40ca-8cf0-42e345439e8b",
   "metadata": {},
   "outputs": [
    {
     "name": "stdout",
     "output_type": "stream",
     "text": [
      "Accuracy without re-ranking: 0.7543554006968641\n",
      "Accuracy with re-ranking: 0.8336236933797909\n"
     ]
    }
   ],
   "source": [
    "retrieved_accuracy = sum([_['retrieved_correct_position'] == 0 for _ in predictions])/len(predictions)\n",
    "re_ranked_accuracy = sum([_['reranked_correct_position'] == 0 for _ in predictions])/len(predictions)\n",
    "\n",
    "print(f'Accuracy without re-ranking: {retrieved_accuracy}')\n",
    "print(f'Accuracy with re-ranking: {re_ranked_accuracy}')"
   ]
  },
  {
   "cell_type": "code",
   "execution_count": null,
   "id": "fT4FuVcf9ONw",
   "metadata": {},
   "outputs": [],
   "source": []
  },
  {
   "cell_type": "code",
   "execution_count": 34,
   "id": "6649afac-9434-440b-b332-de9149a7ebfa",
   "metadata": {},
   "outputs": [
    {
     "data": {
      "text/html": [
       "<div>\n",
       "<style scoped>\n",
       "    .dataframe tbody tr th:only-of-type {\n",
       "        vertical-align: middle;\n",
       "    }\n",
       "\n",
       "    .dataframe tbody tr th {\n",
       "        vertical-align: top;\n",
       "    }\n",
       "\n",
       "    .dataframe thead th {\n",
       "        text-align: right;\n",
       "    }\n",
       "</style>\n",
       "<table border=\"1\" class=\"dataframe\">\n",
       "  <thead>\n",
       "    <tr style=\"text-align: right;\">\n",
       "      <th></th>\n",
       "      <th>final_results</th>\n",
       "      <th>retrieved_correct_position</th>\n",
       "      <th>reranked_correct_position</th>\n",
       "      <th>results_from_pinecone</th>\n",
       "      <th>top_re_rank_score</th>\n",
       "    </tr>\n",
       "  </thead>\n",
       "  <tbody>\n",
       "    <tr>\n",
       "      <th>0</th>\n",
       "      <td>[{'score': 0.29227427, 'id': '2f90090e21f19450...</td>\n",
       "      <td>0.0</td>\n",
       "      <td>0.0</td>\n",
       "      <td>[{'id': '2f90090e21f19450887d5f3ff781e541',\n",
       " '...</td>\n",
       "      <td>0.292274</td>\n",
       "    </tr>\n",
       "    <tr>\n",
       "      <th>1</th>\n",
       "      <td>[{'score': 0.177952, 'id': '49201636ad41027351...</td>\n",
       "      <td>0.0</td>\n",
       "      <td>0.0</td>\n",
       "      <td>[{'id': '49201636ad4102735125e146c0dbafa4',\n",
       " '...</td>\n",
       "      <td>0.177952</td>\n",
       "    </tr>\n",
       "    <tr>\n",
       "      <th>2</th>\n",
       "      <td>[{'score': 0.9939328, 'id': '80d92494d2b06f341...</td>\n",
       "      <td>0.0</td>\n",
       "      <td>0.0</td>\n",
       "      <td>[{'id': '80d92494d2b06f341842f1855d2938cf',\n",
       " '...</td>\n",
       "      <td>0.993933</td>\n",
       "    </tr>\n",
       "    <tr>\n",
       "      <th>3</th>\n",
       "      <td>[{'score': 0.16567445, 'id': '99247f2042d1ed0b...</td>\n",
       "      <td>0.0</td>\n",
       "      <td>2.0</td>\n",
       "      <td>[{'id': 'e3fd54f33b021ea3cf88b438fefcada7',\n",
       " '...</td>\n",
       "      <td>0.848871</td>\n",
       "    </tr>\n",
       "    <tr>\n",
       "      <th>4</th>\n",
       "      <td>[{'score': 0.8213397, 'id': '37ed40c20d4e1b9cc...</td>\n",
       "      <td>0.0</td>\n",
       "      <td>0.0</td>\n",
       "      <td>[{'id': '37ed40c20d4e1b9cc8d6cc27a4d0fff3',\n",
       " '...</td>\n",
       "      <td>0.821340</td>\n",
       "    </tr>\n",
       "  </tbody>\n",
       "</table>\n",
       "</div>"
      ],
      "text/plain": [
       "                                       final_results  \\\n",
       "0  [{'score': 0.29227427, 'id': '2f90090e21f19450...   \n",
       "1  [{'score': 0.177952, 'id': '49201636ad41027351...   \n",
       "2  [{'score': 0.9939328, 'id': '80d92494d2b06f341...   \n",
       "3  [{'score': 0.16567445, 'id': '99247f2042d1ed0b...   \n",
       "4  [{'score': 0.8213397, 'id': '37ed40c20d4e1b9cc...   \n",
       "\n",
       "   retrieved_correct_position  reranked_correct_position  \\\n",
       "0                         0.0                        0.0   \n",
       "1                         0.0                        0.0   \n",
       "2                         0.0                        0.0   \n",
       "3                         0.0                        2.0   \n",
       "4                         0.0                        0.0   \n",
       "\n",
       "                               results_from_pinecone  top_re_rank_score  \n",
       "0  [{'id': '2f90090e21f19450887d5f3ff781e541',\n",
       " '...           0.292274  \n",
       "1  [{'id': '49201636ad4102735125e146c0dbafa4',\n",
       " '...           0.177952  \n",
       "2  [{'id': '80d92494d2b06f341842f1855d2938cf',\n",
       " '...           0.993933  \n",
       "3  [{'id': 'e3fd54f33b021ea3cf88b438fefcada7',\n",
       " '...           0.848871  \n",
       "4  [{'id': '37ed40c20d4e1b9cc8d6cc27a4d0fff3',\n",
       " '...           0.821340  "
      ]
     },
     "execution_count": 34,
     "metadata": {},
     "output_type": "execute_result"
    }
   ],
   "source": [
    "import pandas as pd\n",
    "\n",
    "predictions_df = pd.DataFrame(predictions)\n",
    "predictions_df.head()"
   ]
  },
  {
   "cell_type": "code",
   "execution_count": 35,
   "id": "831397d3-606a-4c7f-b77f-6ee85bd24f7e",
   "metadata": {},
   "outputs": [
    {
     "data": {
      "text/plain": [
       "retrieved_correct_position    1.305704\n",
       "reranked_correct_position     0.680927\n",
       "dtype: float64"
      ]
     },
     "execution_count": 35,
     "metadata": {},
     "output_type": "execute_result"
    }
   ],
   "source": [
    "predictions_df[['retrieved_correct_position', 'reranked_correct_position']].mean()  # lower is better"
   ]
  },
  {
   "cell_type": "code",
   "execution_count": 36,
   "id": "eyv-6pPIEy0r",
   "metadata": {},
   "outputs": [
    {
     "name": "stdout",
     "output_type": "stream",
     "text": [
      "1 866 957\n",
      "3 1009 1057\n",
      "5 1048 1077\n",
      "10 1073 1094\n",
      "25 1108 1120\n",
      "50 1122 1122\n"
     ]
    }
   ],
   "source": [
    "# do recall @ 1, 3, 5, 10, etc\n",
    "X = [1, 3, 5, 10, 25, 50]\n",
    "OPENAI_RETRIEVAL = []\n",
    "OLD_CROSS_ENCODER = []\n",
    "\n",
    "for k in X:\n",
    "    embedding_only_recall = predictions_df[predictions_df['retrieved_correct_position'] < k].shape[0]\n",
    "    reranked_recall = predictions_df[predictions_df['reranked_correct_position'] < k].shape[0]\n",
    "    OPENAI_RETRIEVAL.append(embedding_only_recall / predictions_df.shape[0])\n",
    "    OLD_CROSS_ENCODER.append(reranked_recall / predictions_df.shape[0])\n",
    "    print(k, embedding_only_recall, reranked_recall)"
   ]
  },
  {
   "cell_type": "code",
   "execution_count": null,
   "id": "bd9aef05-e271-41e0-a8ce-88b6c81bed4c",
   "metadata": {},
   "outputs": [],
   "source": []
  },
  {
   "cell_type": "markdown",
   "id": "3f14809e",
   "metadata": {
    "id": "3f14809e"
   },
   "source": [
    "## OPEN SOURCE ALTERNATIVE TO EMBEDDING"
   ]
  },
  {
   "cell_type": "code",
   "execution_count": 37,
   "id": "8ed58d3a-bed5-4f70-a4d6-3d624ab98868",
   "metadata": {},
   "outputs": [],
   "source": [
    "from sentence_transformers import SentenceTransformer\n",
    "# load up our open source embedding model\n",
    "bi_encoder = SentenceTransformer(\"sentence-transformers/all-mpnet-base-v2\")\n",
    "# bi_encoder = SentenceTransformer(\"sentence-transformers/msmarco-MiniLM-L-6-v3\")"
   ]
  },
  {
   "cell_type": "code",
   "execution_count": 38,
   "id": "be37c48b",
   "metadata": {},
   "outputs": [
    {
     "name": "stderr",
     "output_type": "stream",
     "text": [
      "Batches: 100%|██████████| 36/36 [00:26<00:00,  1.34it/s]\n"
     ]
    }
   ],
   "source": [
    "#Encode query and documents\n",
    "docs = dataset['test']['context']\n",
    "doc_emb = bi_encoder.encode(docs, batch_size=32, show_progress_bar=True)"
   ]
  },
  {
   "cell_type": "code",
   "execution_count": 39,
   "id": "b9ec2a2d-9ca6-4f5e-a0db-3be16c2363ff",
   "metadata": {},
   "outputs": [
    {
     "data": {
      "text/plain": [
       "(1148, 768)"
      ]
     },
     "execution_count": 39,
     "metadata": {},
     "output_type": "execute_result"
    }
   ],
   "source": [
    "doc_emb.shape"
   ]
  },
  {
   "cell_type": "code",
   "execution_count": 40,
   "id": "4df00998-34d8-4f0b-9527-510d9515b233",
   "metadata": {},
   "outputs": [],
   "source": [
    "from sentence_transformers.util import semantic_search\n",
    "\n",
    "# Function to find most similar document\n",
    "def find_most_similar(embedder, text, embeddings, documents, k=3):\n",
    "    query_embedding = embedder.encode([text], show_progress_bar=False)\n",
    "    similarities = semantic_search(query_embedding, embeddings, top_k=k)\n",
    "    return [(documents[sim['corpus_id']], sim['score'], sim['corpus_id']) for sim in similarities[0]]"
   ]
  },
  {
   "cell_type": "code",
   "execution_count": 41,
   "id": "ae0afee7",
   "metadata": {},
   "outputs": [
    {
     "name": "stdout",
     "output_type": "stream",
     "text": [
      "How long was the Mono River?\n"
     ]
    }
   ],
   "source": [
    "from random import sample\n",
    "\n",
    "query = sample(dataset['test']['question'], 1)[0]\n",
    "print(query)"
   ]
  },
  {
   "cell_type": "code",
   "execution_count": 42,
   "id": "93280be8",
   "metadata": {},
   "outputs": [],
   "source": [
    "def eval_ranking_open_source(embedder, doc_emb, query, top_k=3, re_rank_model=None):\n",
    "    ans = {'retrieved_correct_position': None}\n",
    "    correct_hash = q_to_hash[query]\n",
    "    results = find_most_similar(embedder, query, doc_emb, docs, k=top_k)\n",
    "    for idx, (passage, score, doc_idx) in enumerate(results):\n",
    "        if correct_hash == my_hash(passage):\n",
    "            ans['retrieved_correct_position'] =  idx\n",
    "    if re_rank_model is not None:\n",
    "        ans['reranked_correct_position'] = None\n",
    "        sentence_combinations = [(query, r[0]) for r in results]\n",
    "\n",
    "        # Compute the similarity scores for these combinations\n",
    "        similarity_scores = re_rank_model.predict(sentence_combinations, activation_fct=nn.Sigmoid())\n",
    "\n",
    "        # Sort the scores in decreasing order\n",
    "        sim_scores_argsort = list(reversed(np.argsort(similarity_scores)))\n",
    "        for i, idx in enumerate(sim_scores_argsort):\n",
    "            r = results[idx]\n",
    "            if correct_hash and my_hash(r[0]) == correct_hash:\n",
    "                ans['reranked_correct_position'] = i\n",
    "\n",
    "    return ans"
   ]
  },
  {
   "cell_type": "code",
   "execution_count": 43,
   "id": "06f198cd",
   "metadata": {},
   "outputs": [
    {
     "data": {
      "text/plain": [
       "{'retrieved_correct_position': 0, 'reranked_correct_position': 0}"
      ]
     },
     "execution_count": 43,
     "metadata": {},
     "output_type": "execute_result"
    }
   ],
   "source": [
    "eval_ranking_open_source(bi_encoder, doc_emb, query, top_k=TOP_K, re_rank_model=cross_encoder)"
   ]
  },
  {
   "cell_type": "code",
   "execution_count": 44,
   "id": "389511fa-38d3-4538-987d-1ff8a83ac85d",
   "metadata": {},
   "outputs": [
    {
     "name": "stderr",
     "output_type": "stream",
     "text": [
      "  0%|          | 0/1148 [00:00<?, ?it/s]"
     ]
    },
    {
     "name": "stderr",
     "output_type": "stream",
     "text": [
      "100%|██████████| 1148/1148 [16:21<00:00,  1.17it/s]\n"
     ]
    }
   ],
   "source": [
    "logger.setLevel(logging.CRITICAL)\n",
    "os_predictions = []\n",
    "\n",
    "for i, question in tqdm(enumerate(test_sample), total=len(test_sample)):\n",
    "    os_predictions.append(eval_ranking_open_source(bi_encoder, doc_emb, question['question'], top_k=TOP_K, re_rank_model=cross_encoder))"
   ]
  },
  {
   "cell_type": "code",
   "execution_count": 45,
   "id": "935f031c-4965-4aed-aecd-0a2593f55115",
   "metadata": {},
   "outputs": [
    {
     "data": {
      "text/html": [
       "<div>\n",
       "<style scoped>\n",
       "    .dataframe tbody tr th:only-of-type {\n",
       "        vertical-align: middle;\n",
       "    }\n",
       "\n",
       "    .dataframe tbody tr th {\n",
       "        vertical-align: top;\n",
       "    }\n",
       "\n",
       "    .dataframe thead th {\n",
       "        text-align: right;\n",
       "    }\n",
       "</style>\n",
       "<table border=\"1\" class=\"dataframe\">\n",
       "  <thead>\n",
       "    <tr style=\"text-align: right;\">\n",
       "      <th></th>\n",
       "      <th>retrieved_correct_position</th>\n",
       "      <th>reranked_correct_position</th>\n",
       "    </tr>\n",
       "  </thead>\n",
       "  <tbody>\n",
       "    <tr>\n",
       "      <th>0</th>\n",
       "      <td>0.0</td>\n",
       "      <td>0.0</td>\n",
       "    </tr>\n",
       "    <tr>\n",
       "      <th>1</th>\n",
       "      <td>0.0</td>\n",
       "      <td>0.0</td>\n",
       "    </tr>\n",
       "    <tr>\n",
       "      <th>2</th>\n",
       "      <td>0.0</td>\n",
       "      <td>0.0</td>\n",
       "    </tr>\n",
       "    <tr>\n",
       "      <th>3</th>\n",
       "      <td>1.0</td>\n",
       "      <td>0.0</td>\n",
       "    </tr>\n",
       "    <tr>\n",
       "      <th>4</th>\n",
       "      <td>0.0</td>\n",
       "      <td>0.0</td>\n",
       "    </tr>\n",
       "  </tbody>\n",
       "</table>\n",
       "</div>"
      ],
      "text/plain": [
       "   retrieved_correct_position  reranked_correct_position\n",
       "0                         0.0                        0.0\n",
       "1                         0.0                        0.0\n",
       "2                         0.0                        0.0\n",
       "3                         1.0                        0.0\n",
       "4                         0.0                        0.0"
      ]
     },
     "execution_count": 45,
     "metadata": {},
     "output_type": "execute_result"
    }
   ],
   "source": [
    "os_predictions_df = pd.DataFrame(os_predictions)\n",
    "os_predictions_df.head()"
   ]
  },
  {
   "cell_type": "code",
   "execution_count": 46,
   "id": "88419a17-598b-4b3e-b314-e1c5ef3475eb",
   "metadata": {},
   "outputs": [
    {
     "name": "stdout",
     "output_type": "stream",
     "text": [
      "Accuracy without re-ranking: 0.5017421602787456\n",
      "Accuracy with re-ranking: 0.6202090592334495\n"
     ]
    }
   ],
   "source": [
    "raw_accuracy = sum([p['retrieved_correct_position'] == 0 for p in os_predictions])/len(os_predictions)\n",
    "reranked_accuracy = sum([p['reranked_correct_position'] == 0 for p in os_predictions])/len(os_predictions)\n",
    "\n",
    "print(f'Accuracy without re-ranking: {raw_accuracy}')\n",
    "print(f'Accuracy with re-ranking: {reranked_accuracy}')\n"
   ]
  },
  {
   "cell_type": "code",
   "execution_count": 47,
   "id": "cf6fc44d-6af1-48b6-b859-01a1698c7dd9",
   "metadata": {},
   "outputs": [
    {
     "name": "stdout",
     "output_type": "stream",
     "text": [
      "1 576 712\n",
      "3 887 1009\n",
      "5 948 1055\n",
      "10 1008 1082\n",
      "25 1073 1104\n",
      "50 1107 1107\n"
     ]
    }
   ],
   "source": [
    "# do recall @ 1, 3, 5, 10\n",
    "OPEN_SOURCE_RETRIEVAL = []\n",
    "OPEN_SOURCE_RETRIEVAL_PLUS_PRE_CE = []\n",
    "for k in X:\n",
    "    embedding_only_recall = os_predictions_df[os_predictions_df['retrieved_correct_position'] < k].shape[0]\n",
    "    reranked_recall = os_predictions_df[os_predictions_df['reranked_correct_position'] < k].shape[0]\n",
    "    print(k, embedding_only_recall, reranked_recall)\n",
    "    OPEN_SOURCE_RETRIEVAL.append(embedding_only_recall / os_predictions_df.shape[0])\n",
    "    OPEN_SOURCE_RETRIEVAL_PLUS_PRE_CE.append(reranked_recall / os_predictions_df.shape[0])"
   ]
  },
  {
   "cell_type": "code",
   "execution_count": 50,
   "id": "f733061c-eb98-40cb-b116-602e1c0dcd3e",
   "metadata": {},
   "outputs": [
    {
     "data": {
      "image/png": "[encoded data removed]",
      "text/plain": [
       "<Figure size 1000x600 with 1 Axes>"
      ]
     },
     "metadata": {},
     "output_type": "display_data"
    }
   ],
   "source": [
    "import matplotlib.pyplot as plt\n",
    "\n",
    "# Creating the plot\n",
    "plt.figure(figsize=(10, 6))\n",
    "plt.plot(X, OPENAI_RETRIEVAL, label='OAI Retrieval Only', marker='o')\n",
    "plt.plot(X, OLD_CROSS_ENCODER, label='OAI + Pretrained CE', marker='s')\n",
    "\n",
    "plt.plot(X, OPEN_SOURCE_RETRIEVAL, label='OS Retrieval Only', marker='*')\n",
    "plt.plot(X, OPEN_SOURCE_RETRIEVAL_PLUS_PRE_CE, label='OS + Pretrained CE', marker='^')\n",
    "\n",
    "\n",
    "# Adding titles and labels\n",
    "plt.title('Comparing embedding models + pre-trained vs fine-tuned CE (all retrieved 50 results then re-ranked)')\n",
    "plt.xlabel('Recall @')\n",
    "plt.ylabel('Performance')\n",
    "plt.xticks(X)\n",
    "plt.yticks([i/100 for i in range(70, 101, 5)])  # Adjusting y-ticks to start from 0.75\n",
    "\n",
    "# Adding legend\n",
    "plt.legend()\n",
    "\n",
    "# Show the plot\n",
    "plt.grid(True)"
   ]
  },
  {
   "cell_type": "code",
   "execution_count": 48,
   "id": "f11e5dcd-7ad8-43d0-aa1b-2b94b3784253",
   "metadata": {},
   "outputs": [],
   "source": []
  },
  {
   "cell_type": "code",
   "execution_count": 48,
   "id": "06e3a30f-e913-43ad-9fa7-f712abfa59d0",
   "metadata": {},
   "outputs": [],
   "source": []
  },
  {
   "cell_type": "code",
   "execution_count": 48,
   "id": "91e6c207-7f75-4b04-8d32-541265902fa5",
   "metadata": {},
   "outputs": [],
   "source": []
  },
  {
   "cell_type": "code",
   "execution_count": 48,
   "id": "9ec04ddb-5a7d-4506-a0ba-a3ddedf985df",
   "metadata": {},
   "outputs": [],
   "source": []
  },
  {
   "cell_type": "code",
   "execution_count": 48,
   "id": "30c5cb27-018c-4299-a91f-6b39293c583e",
   "metadata": {},
   "outputs": [],
   "source": []
  },
  {
   "cell_type": "code",
   "execution_count": 48,
   "id": "c3200a66-9fc0-4f39-94e8-3456b85b6a96",
   "metadata": {},
   "outputs": [],
   "source": []
  },
  {
   "cell_type": "markdown",
   "id": "ea30153c",
   "metadata": {
    "id": "ea30153c"
   },
   "source": [
    "## Advanced: Fine-tuning the re-ranker"
   ]
  },
  {
   "cell_type": "code",
   "execution_count": 48,
   "id": "58979a1e-0fe1-488f-9805-56efd499278d",
   "metadata": {},
   "outputs": [],
   "source": []
  },
  {
   "cell_type": "code",
   "execution_count": 49,
   "id": "508edaf6",
   "metadata": {},
   "outputs": [
    {
     "data": {
      "text/plain": [
       "{'id': 'a4968ca8a18de16aa3859be760e43dbd3af3fce9',\n",
       " 'title': 'Area 51',\n",
       " 'context': 'In 1994, five unnamed civilian contractors and the widows of contractors Walter Kasza and Robert Frost sued the USAF and the United States Environmental Protection Agency. Their suit, in which they were represented by George Washington University law professor Jonathan Turley, alleged they had been present when large quantities of unknown chemicals had been burned in open pits and trenches at Groom. Biopsies taken from the complainants were analyzed by Rutgers University biochemists, who found high levels of dioxin, dibenzofuran, and trichloroethylene in their body fat. The complainants alleged they had sustained skin, liver, and respiratory injuries due to their work at Groom, and that this had contributed to the deaths of Frost and Kasza. The suit sought compensation for the injuries they had sustained, claiming the USAF had illegally handled toxic materials, and that the EPA had failed in its duty to enforce the Resource Conservation and Recovery Act (which governs handling of dangerous materials). They also sought detailed information about the chemicals to which they were allegedly exposed, hoping this would facilitate the medical treatment of survivors. Congressman Lee H. Hamilton, former chairman of the House Intelligence Committee, told 60 Minutes reporter Lesley Stahl, \"The Air Force is classifying all information about Area 51 in order to protect themselves from a lawsuit.\"',\n",
       " 'question': 'Who analyzed the biopsies?',\n",
       " 'answers': {'answer_start': [457],\n",
       "  'text': ['Rutgers University biochemists']}}"
      ]
     },
     "execution_count": 49,
     "metadata": {},
     "output_type": "execute_result"
    }
   ],
   "source": [
    "dataset['train'][0]"
   ]
  },
  {
   "cell_type": "code",
   "execution_count": 127,
   "id": "51bf1607",
   "metadata": {},
   "outputs": [],
   "source": [
    "from sentence_transformers import InputExample, losses, evaluation\n",
    "from torch.utils.data import DataLoader\n",
    "from random import shuffle"
   ]
  },
  {
   "cell_type": "code",
   "execution_count": 127,
   "id": "6b58d2d0",
   "metadata": {},
   "outputs": [],
   "source": []
  },
  {
   "cell_type": "code",
   "execution_count": 128,
   "id": "50fd5c19-894a-41e4-bf6f-d9e1197c053f",
   "metadata": {},
   "outputs": [
    {
     "data": {
      "text/plain": [
       "(9916, 11590)"
      ]
     },
     "execution_count": 128,
     "metadata": {},
     "output_type": "execute_result"
    }
   ],
   "source": [
    "unique_train_passages = list(set(dataset['train']['context']))\n",
    "len(unique_train_passages), len(dataset['train']['context'])"
   ]
  },
  {
   "cell_type": "code",
   "execution_count": 129,
   "id": "5eaad504-b944-4e36-987f-34126189c1a9",
   "metadata": {},
   "outputs": [
    {
     "data": {
      "text/plain": [
       "(9916, (1148, 768))"
      ]
     },
     "execution_count": 129,
     "metadata": {},
     "output_type": "execute_result"
    }
   ],
   "source": [
    "len(unique_train_passages), doc_emb.shape"
   ]
  },
  {
   "cell_type": "code",
   "execution_count": 133,
   "id": "361d5ef0-3fe3-4ed8-87c0-1cea3d9abcc2",
   "metadata": {},
   "outputs": [
    {
     "data": {
      "application/vnd.jupyter.widget-view+json": {
       "model_id": "0452b93e26154e0d915ad3a201e307fd",
       "version_major": 2,
       "version_minor": 0
      },
      "text/plain": [
       "Batches:   0%|          | 0/310 [00:00<?, ?it/s]"
      ]
     },
     "metadata": {},
     "output_type": "display_data"
    }
   ],
   "source": [
    "# use sentence_transformers.util.semantic_search\n",
    "train_doc_embed = bi_encoder.encode(unique_train_passages, batch_size=32, show_progress_bar=True)"
   ]
  },
  {
   "cell_type": "code",
   "execution_count": 134,
   "id": "c7d79fe9-f053-40e7-a2e6-2efd715b43f7",
   "metadata": {},
   "outputs": [
    {
     "name": "stdout",
     "output_type": "stream",
     "text": [
      "If two or more routers tie with the highest priority setting, the router sending the Hello with the highest RID (Router ID) wins. NOTE: a RID is the highest logical (loopback) IP address configured on a router, if no logical/loopback IP address is set then the router uses the highest IP address configured on its active interfaces (e.g. 192.168.0.1 would be higher than 10.1.1.2).\n"
     ]
    },
    {
     "data": {
      "text/plain": [
       "[('If two or more routers tie with the highest priority setting, the router sending the Hello with the highest RID (Router ID) wins. NOTE: a RID is the highest logical (loopback) IP address configured on a router, if no logical/loopback IP address is set then the router uses the highest IP address configured on its active interfaces (e.g. 192.168.0.1 would be higher than 10.1.1.2).',\n",
       "  1.0000001192092896,\n",
       "  0),\n",
       " ('OSPF supports complex networks with multiple routers, including backup routers, to balance traffic load on multiple links to other subnets. Neighboring routers in the same broadcast domain or at each end of a point-to-point link communicate with each other via the OSPF protocol. Routers form adjacencies when they have detected each other. This detection is initiated when a router identifies itself in a Hello protocol packet. Upon acknowledgment, this establishes a two-way state and the most basic relationship. The routers in an Ethernet or Frame Relay network select a Designated Router (DR) and a Backup Designated Router (BDR) which act as a hub to reduce traffic between routers. OSPF uses both unicast and multicast transmission modes to send \"Hello\" packets and link state updates.',\n",
       "  0.47954612970352173,\n",
       "  5947),\n",
       " ('Routers supporting DiffServ configure their network scheduler to use multiple queues for packets awaiting transmission from bandwidth constrained (e.g., wide area) interfaces. Router vendors provide different capabilities for configuring this behavior, to include the number of queues supported, the relative priorities of queues, and bandwidth reserved for each queue.',\n",
       "  0.4621109366416931,\n",
       "  5382)]"
      ]
     },
     "execution_count": 134,
     "metadata": {},
     "output_type": "execute_result"
    }
   ],
   "source": [
    "unique_train_passages = np.array(unique_train_passages)\n",
    "\n",
    "# Example usage\n",
    "print(unique_train_passages[0])\n",
    "\n",
    "find_most_similar(bi_encoder, unique_train_passages[0], train_doc_embed, unique_train_passages)"
   ]
  },
  {
   "cell_type": "code",
   "execution_count": 158,
   "id": "262e4ca4-0bfe-4243-9534-49370ed66b40",
   "metadata": {},
   "outputs": [
    {
     "name": "stderr",
     "output_type": "stream",
     "text": [
      "100%|██████████| 11590/11590 [03:46<00:00, 51.14it/s]\n"
     ]
    }
   ],
   "source": [
    "# negative example mining\n",
    "train_samples = []\n",
    "\n",
    "for train_example in tqdm(dataset['train']):\n",
    "    # train_samples.append(\n",
    "    #         InputExample(\n",
    "    #             texts=[train_example['question'], train_example['context']], label=1\n",
    "    #         )\n",
    "    #     )\n",
    "    for i, (passage, score, corpus_idx) in enumerate(find_most_similar(bi_encoder, train_example['question'], train_doc_embed, unique_train_passages)):\n",
    "\n",
    "        train_samples.append(\n",
    "            InputExample(\n",
    "                texts=[train_example['question'], passage], label=int(passage == train_example['context'])\n",
    "            )\n",
    "        )\n",
    "\n",
    "\n",
    "shuffle(train_samples)\n"
   ]
  },
  {
   "cell_type": "code",
   "execution_count": 159,
   "id": "b281241b-54ed-4405-a101-f774efd2317d",
   "metadata": {},
   "outputs": [
    {
     "data": {
      "text/plain": [
       "<Axes: >"
      ]
     },
     "execution_count": 159,
     "metadata": {},
     "output_type": "execute_result"
    },
    {
     "data": {
      "image/png": "[encoded data removed]",
      "text/plain": [
       "<Figure size 640x480 with 1 Axes>"
      ]
     },
     "metadata": {},
     "output_type": "display_data"
    }
   ],
   "source": [
    "import pandas as pd\n",
    "pd.Series([t.label for t in train_samples]).value_counts().plot(kind='bar')"
   ]
  },
  {
   "cell_type": "code",
   "execution_count": 160,
   "id": "LOZkS9bSgwga",
   "metadata": {},
   "outputs": [
    {
     "data": {
      "text/plain": [
       "{'id': 'a4968ca8a18de16aa3859be760e43dbd3af3fce9',\n",
       " 'title': 'Area 51',\n",
       " 'context': 'In 1994, five unnamed civilian contractors and the widows of contractors Walter Kasza and Robert Frost sued the USAF and the United States Environmental Protection Agency. Their suit, in which they were represented by George Washington University law professor Jonathan Turley, alleged they had been present when large quantities of unknown chemicals had been burned in open pits and trenches at Groom. Biopsies taken from the complainants were analyzed by Rutgers University biochemists, who found high levels of dioxin, dibenzofuran, and trichloroethylene in their body fat. The complainants alleged they had sustained skin, liver, and respiratory injuries due to their work at Groom, and that this had contributed to the deaths of Frost and Kasza. The suit sought compensation for the injuries they had sustained, claiming the USAF had illegally handled toxic materials, and that the EPA had failed in its duty to enforce the Resource Conservation and Recovery Act (which governs handling of dangerous materials). They also sought detailed information about the chemicals to which they were allegedly exposed, hoping this would facilitate the medical treatment of survivors. Congressman Lee H. Hamilton, former chairman of the House Intelligence Committee, told 60 Minutes reporter Lesley Stahl, \"The Air Force is classifying all information about Area 51 in order to protect themselves from a lawsuit.\"',\n",
       " 'question': 'Who analyzed the biopsies?',\n",
       " 'answers': {'answer_start': [457],\n",
       "  'text': ['Rutgers University biochemists']}}"
      ]
     },
     "execution_count": 160,
     "metadata": {},
     "output_type": "execute_result"
    }
   ],
   "source": [
    "dataset['train'][0]"
   ]
  },
  {
   "cell_type": "code",
   "execution_count": 161,
   "id": "8e7eaa40",
   "metadata": {},
   "outputs": [
    {
     "data": {
      "text/plain": [
       "{'guid': '',\n",
       " 'texts': ['Whose oral histories are recorded?',\n",
       "  \"The story begins in 1885 with the arrival of an important new guest star in Buffalo Bill Cody's grand illusion, Chief Sitting Bull of Little Big Horn fame. Much to Cody's annoyance, Sitting Bull proves not to be a murdering savage but a genuine embodiment of what the whites believe about their own history out west. He is quietly heroic and morally pure.\"],\n",
       " 'label': 0}"
      ]
     },
     "execution_count": 161,
     "metadata": {},
     "output_type": "execute_result"
    }
   ],
   "source": [
    "train_samples[2].__dict__"
   ]
  },
  {
   "cell_type": "code",
   "execution_count": 162,
   "id": "bc2bc9d1",
   "metadata": {},
   "outputs": [
    {
     "name": "stdout",
     "output_type": "stream",
     "text": [
      "Warmup-steps: 174\n"
     ]
    }
   ],
   "source": [
    "from sentence_transformers.cross_encoder.evaluation import CECorrelationEvaluator, CEBinaryClassificationEvaluator\n",
    "import math\n",
    "import torch\n",
    "from random import sample\n",
    "\n",
    "logger.setLevel(logging.DEBUG)  # just to get some logs\n",
    "\n",
    "num_epochs = 1\n",
    "\n",
    "model_save_path = './fine_tuned_ir_cross_encoder'\n",
    "\n",
    "train_dataloader = DataLoader(train_samples[:int(len(train_samples)*.8)], shuffle=True, batch_size=16)\n",
    "\n",
    "# An evaluator for training performance\n",
    "evaluator = CECorrelationEvaluator.from_input_examples(train_samples[int(len(train_samples)*.8):], name='test')\n",
    "\n",
    "# Rule of thumb for warmup steps\n",
    "warmup_steps = math.ceil(len(train_dataloader) * num_epochs * 0.1)  # 10% of train data for warm-up\n",
    "print(f\"Warmup-steps: {warmup_steps}\")"
   ]
  },
  {
   "cell_type": "code",
   "execution_count": 163,
   "id": "ce4e8079-1335-4d53-944d-3ed0f6537781",
   "metadata": {},
   "outputs": [
    {
     "name": "stdout",
     "output_type": "stream",
     "text": [
      "Example of label 1\n"
     ]
    },
    {
     "data": {
      "application/vnd.jupyter.widget-view+json": {
       "model_id": "4ec583e4c526449b993c0f7f9e6e5456",
       "version_major": 2,
       "version_minor": 0
      },
      "text/plain": [
       "Batches:   0%|          | 0/1 [00:00<?, ?it/s]"
      ]
     },
     "metadata": {},
     "output_type": "display_data"
    },
    {
     "name": "stdout",
     "output_type": "stream",
     "text": [
      "{'guid': '', 'texts': ['What are the Chrysopidae reared for?', 'While depending on species and environmental conditions, some green lacewings will eat only about 150 prey items in their entire life, in other cases 100 aphids will be eaten in a single week. Thus, in several countries, millions of such voracious Chrysopidae are reared for sale as biological control agents of insect and mite pests in agriculture and gardens. They are distributed as eggs, since as noted above they are highly aggressive and cannibalistic in confined quarters; the eggs hatch in the field. Their performance is variable; thus, there is interest in further research to improve the use of green lacewings as biological pest control. Species that have hitherto attracted wider study and are more or less readily available as captive-bred eggs to deposit out for hatching in pest-infested plant cultures are several members of Chrysoperla as well as Mallada signatus. They are a natural predator of the European corn borer, a moth that costs the US agriculture industry more than $1 billion annually in crop losses and population control.Gardeners can attract these lacewings – and therefore ensure a steady supply of larvae – by using certain companion plants and tolerating beneficial weeds. Chrysopidae are attracted mainly by Asteraceae – e.g. calliopsis (Coreopsis), cosmos (Cosmos), sunflowers (Helianthus) and dandelion (Taraxacum) – and Apiaceae such as dill (Anethum) or angelica (Angelica).'], 'label': 1} 0.9853284\n",
      "Example of label 0\n"
     ]
    },
    {
     "data": {
      "application/vnd.jupyter.widget-view+json": {
       "model_id": "1aab71dc8f7345718950c689bf25b115",
       "version_major": 2,
       "version_minor": 0
      },
      "text/plain": [
       "Batches:   0%|          | 0/1 [00:00<?, ?it/s]"
      ]
     },
     "metadata": {},
     "output_type": "display_data"
    },
    {
     "name": "stdout",
     "output_type": "stream",
     "text": [
      "{'guid': '', 'texts': ['What was the name of the game that it was also used in?', 'The ancient Egyptians enjoyed a variety of leisure activities, including games and music. Senet, a board game where pieces moved according to random chance, was particularly popular from the earliest times; another similar game was mehen, which had a circular gaming board. “Hounds and Jackals” also known as 58 holes is another example of board games played in ancient Egypt. The first complete set of this game was discovered from a Theban tomb of the Egyptian pharaoh Amenemhat IV that dates to the 13th Dynasty. Juggling and ball games were popular with children, and wrestling is also documented in a tomb at Beni Hasan. The wealthy members of ancient Egyptian society enjoyed hunting and boating as well.'], 'label': 0} 0.23082681\n"
     ]
    }
   ],
   "source": [
    "for t in train_samples:\n",
    "    if t.label == 1:\n",
    "        print('Example of label 1')\n",
    "        print(t.__dict__, cross_encoder.predict(t.texts, activation_fct=nn.Sigmoid()))\n",
    "        break\n",
    "for t in train_samples:\n",
    "    if t.label == 0:\n",
    "        print('Example of label 0')\n",
    "        print(t.__dict__, cross_encoder.predict(t.texts, activation_fct=nn.Sigmoid()))\n",
    "        break"
   ]
  },
  {
   "cell_type": "code",
   "execution_count": 164,
   "id": "f981bd03-bb31-492d-aabf-d5e6c7647704",
   "metadata": {},
   "outputs": [
    {
     "name": "stderr",
     "output_type": "stream",
     "text": [
      "INFO:sentence_transformers.cross_encoder.evaluation.CECorrelationEvaluator:CECorrelationEvaluator: Evaluating the model on test dataset:\n",
      "INFO:sentence_transformers.cross_encoder.evaluation.CECorrelationEvaluator:Correlation:\tPearson: 0.7488\tSpearman: 0.6311\n"
     ]
    },
    {
     "data": {
      "text/plain": [
       "0.6311188898776826"
      ]
     },
     "execution_count": 164,
     "metadata": {},
     "output_type": "execute_result"
    }
   ],
   "source": [
    "evaluator(cross_encoder)"
   ]
  },
  {
   "cell_type": "code",
   "execution_count": 165,
   "id": "0de4dbc8",
   "metadata": {},
   "outputs": [
    {
     "name": "stderr",
     "output_type": "stream",
     "text": [
      "/usr/local/lib/python3.11/dist-packages/sentence_transformers/cross_encoder/CrossEncoder.py:233: FutureWarning: `torch.cuda.amp.GradScaler(args...)` is deprecated. Please use `torch.amp.GradScaler('cuda', args...)` instead.\n",
      "  scaler = torch.cuda.amp.GradScaler()\n"
     ]
    },
    {
     "data": {
      "application/vnd.jupyter.widget-view+json": {
       "model_id": "e631186c46714758a005cea53a1f5dda",
       "version_major": 2,
       "version_minor": 0
      },
      "text/plain": [
       "Epoch:   0%|          | 0/1 [00:00<?, ?it/s]"
      ]
     },
     "metadata": {},
     "output_type": "display_data"
    },
    {
     "data": {
      "application/vnd.jupyter.widget-view+json": {
       "model_id": "0de4f03a3b1f4bc3b2131607be95a808",
       "version_major": 2,
       "version_minor": 0
      },
      "text/plain": [
       "Iteration:   0%|          | 0/1739 [00:00<?, ?it/s]"
      ]
     },
     "metadata": {},
     "output_type": "display_data"
    },
    {
     "name": "stderr",
     "output_type": "stream",
     "text": [
      "INFO:sentence_transformers.cross_encoder.evaluation.CECorrelationEvaluator:CECorrelationEvaluator: Evaluating the model on test dataset after epoch 0:\n",
      "INFO:sentence_transformers.cross_encoder.evaluation.CECorrelationEvaluator:Correlation:\tPearson: 0.7943\tSpearman: 0.6685\n",
      "INFO:sentence_transformers.cross_encoder.CrossEncoder:Save model to ./fine_tuned_ir_cross_encoder\n"
     ]
    }
   ],
   "source": [
    "# Train the model\n",
    "from sentence_transformers import InputExample, losses, evaluation\n",
    "\n",
    "# you may turn on debug for more logs here e.g. logger.setLevel(logging.DEBUG)\n",
    "cross_encoder.fit(\n",
    "    train_dataloader=train_dataloader,\n",
    "    loss_fct=nn.BCEWithLogitsLoss(),  # this is the default loss if num_labels is 1 otherwise CrossEntropyLoss\n",
    "    evaluator=evaluator,\n",
    "    epochs=num_epochs,\n",
    "    warmup_steps=warmup_steps,\n",
    "    output_path=model_save_path,\n",
    "    use_amp=True\n",
    ")"
   ]
  },
  {
   "cell_type": "code",
   "execution_count": 166,
   "id": "9_a5R9sVBvHN",
   "metadata": {},
   "outputs": [
    {
     "name": "stderr",
     "output_type": "stream",
     "text": [
      "INFO:sentence_transformers.cross_encoder.evaluation.CECorrelationEvaluator:CECorrelationEvaluator: Evaluating the model on test dataset:\n",
      "INFO:sentence_transformers.cross_encoder.evaluation.CECorrelationEvaluator:Correlation:\tPearson: 0.7943\tSpearman: 0.6685\n"
     ]
    },
    {
     "data": {
      "text/plain": [
       "0.6684536609137994"
      ]
     },
     "execution_count": 166,
     "metadata": {},
     "output_type": "execute_result"
    }
   ],
   "source": [
    "evaluator(cross_encoder)"
   ]
  },
  {
   "cell_type": "code",
   "execution_count": 167,
   "id": "2f747537",
   "metadata": {},
   "outputs": [
    {
     "name": "stderr",
     "output_type": "stream",
     "text": [
      "INFO:sentence_transformers.cross_encoder.CrossEncoder:Use pytorch device: cuda\n"
     ]
    },
    {
     "data": {
      "application/vnd.jupyter.widget-view+json": {
       "model_id": "1c9e78b5942a444ab729333d57ab00a1",
       "version_major": 2,
       "version_minor": 0
      },
      "text/plain": [
       "Batches:   0%|          | 0/1 [00:00<?, ?it/s]"
      ]
     },
     "metadata": {},
     "output_type": "display_data"
    },
    {
     "name": "stdout",
     "output_type": "stream",
     "text": [
      "0.11719599\n"
     ]
    },
    {
     "data": {
      "application/vnd.jupyter.widget-view+json": {
       "model_id": "fd1d2ee78abd494db082ad8d161bd623",
       "version_major": 2,
       "version_minor": 0
      },
      "text/plain": [
       "Batches:   0%|          | 0/1 [00:00<?, ?it/s]"
      ]
     },
     "metadata": {},
     "output_type": "display_data"
    },
    {
     "name": "stdout",
     "output_type": "stream",
     "text": [
      "-2.0192554\n"
     ]
    }
   ],
   "source": [
    "finetuned = CrossEncoder(model_save_path)\n",
    "\n",
    "print(finetuned.predict(['hello', 'hi'], activation_fct=nn.Sigmoid()))\n",
    "print(finetuned.predict(['hello', 'hi'], activation_fct=nn.Identity()))"
   ]
  },
  {
   "cell_type": "code",
   "execution_count": 168,
   "id": "94cf736e",
   "metadata": {},
   "outputs": [
    {
     "name": "stderr",
     "output_type": "stream",
     "text": [
      "  9%|▊         | 100/1148 [01:35<16:53,  1.03it/s]"
     ]
    },
    {
     "name": "stdout",
     "output_type": "stream",
     "text": [
      "Accuracy without re-ranking: 0.78\n",
      "Accuracy with re-ranking: 0.92\n"
     ]
    },
    {
     "name": "stderr",
     "output_type": "stream",
     "text": [
      " 17%|█▋        | 200/1148 [03:12<15:03,  1.05it/s]"
     ]
    },
    {
     "name": "stdout",
     "output_type": "stream",
     "text": [
      "Accuracy without re-ranking: 0.765\n",
      "Accuracy with re-ranking: 0.91\n"
     ]
    },
    {
     "name": "stderr",
     "output_type": "stream",
     "text": [
      " 26%|██▌       | 300/1148 [04:47<15:23,  1.09s/it]"
     ]
    },
    {
     "name": "stdout",
     "output_type": "stream",
     "text": [
      "Accuracy without re-ranking: 0.7666666666666667\n",
      "Accuracy with re-ranking: 0.89\n"
     ]
    },
    {
     "name": "stderr",
     "output_type": "stream",
     "text": [
      " 35%|███▍      | 400/1148 [06:24<11:18,  1.10it/s]"
     ]
    },
    {
     "name": "stdout",
     "output_type": "stream",
     "text": [
      "Accuracy without re-ranking: 0.7625\n",
      "Accuracy with re-ranking: 0.89\n"
     ]
    },
    {
     "name": "stderr",
     "output_type": "stream",
     "text": [
      " 44%|████▎     | 500/1148 [08:03<10:00,  1.08it/s]"
     ]
    },
    {
     "name": "stdout",
     "output_type": "stream",
     "text": [
      "Accuracy without re-ranking: 0.764\n",
      "Accuracy with re-ranking: 0.896\n"
     ]
    },
    {
     "name": "stderr",
     "output_type": "stream",
     "text": [
      " 52%|█████▏    | 600/1148 [09:39<08:39,  1.05it/s]"
     ]
    },
    {
     "name": "stdout",
     "output_type": "stream",
     "text": [
      "Accuracy without re-ranking: 0.7683333333333333\n",
      "Accuracy with re-ranking: 0.8966666666666666\n"
     ]
    },
    {
     "name": "stderr",
     "output_type": "stream",
     "text": [
      " 61%|██████    | 700/1148 [11:15<07:15,  1.03it/s]"
     ]
    },
    {
     "name": "stdout",
     "output_type": "stream",
     "text": [
      "Accuracy without re-ranking: 0.7471428571428571\n",
      "Accuracy with re-ranking: 0.8842857142857142\n"
     ]
    },
    {
     "name": "stderr",
     "output_type": "stream",
     "text": [
      " 70%|██████▉   | 800/1148 [12:59<06:51,  1.18s/it]"
     ]
    },
    {
     "name": "stdout",
     "output_type": "stream",
     "text": [
      "Accuracy without re-ranking: 0.74875\n",
      "Accuracy with re-ranking: 0.88375\n"
     ]
    },
    {
     "name": "stderr",
     "output_type": "stream",
     "text": [
      " 78%|███████▊  | 900/1148 [14:36<03:46,  1.09it/s]"
     ]
    },
    {
     "name": "stdout",
     "output_type": "stream",
     "text": [
      "Accuracy without re-ranking: 0.7377777777777778\n",
      "Accuracy with re-ranking: 0.8866666666666667\n"
     ]
    },
    {
     "name": "stderr",
     "output_type": "stream",
     "text": [
      " 87%|████████▋ | 1000/1148 [16:13<02:43,  1.11s/it]"
     ]
    },
    {
     "name": "stdout",
     "output_type": "stream",
     "text": [
      "Accuracy without re-ranking: 0.74\n",
      "Accuracy with re-ranking: 0.883\n"
     ]
    },
    {
     "name": "stderr",
     "output_type": "stream",
     "text": [
      " 96%|█████████▌| 1100/1148 [17:49<00:45,  1.06it/s]"
     ]
    },
    {
     "name": "stdout",
     "output_type": "stream",
     "text": [
      "Accuracy without re-ranking: 0.75\n",
      "Accuracy with re-ranking: 0.8872727272727273\n"
     ]
    },
    {
     "name": "stderr",
     "output_type": "stream",
     "text": [
      "100%|██████████| 1148/1148 [18:35<00:00,  1.03it/s]\n"
     ]
    }
   ],
   "source": [
    "logger.setLevel(logging.CRITICAL)\n",
    "\n",
    "ft_predictions = []\n",
    "\n",
    "for question in tqdm(test_sample['question']):\n",
    "    r = get_results_from_pinecone(\n",
    "        question, top_k=TOP_K, re_rank_model=finetuned, correct_hash=q_to_hash[question],\n",
    "        verbose=False\n",
    "        )\n",
    "\n",
    "    r['retrieved_correct_position'], r['reranked_correct_position']\n",
    "    ft_predictions.append(r)\n",
    "    if len(ft_predictions) % 100 == 0:\n",
    "        retrieved_accuracy = sum([_['retrieved_correct_position'] == 0 for _ in ft_predictions])/len(ft_predictions)\n",
    "        re_ranked_accuracy = sum([_['reranked_correct_position'] == 0 for _ in ft_predictions])/len(ft_predictions)\n",
    "\n",
    "        print(f'Accuracy without re-ranking: {retrieved_accuracy}')\n",
    "        print(f'Accuracy with re-ranking: {re_ranked_accuracy}')\n"
   ]
  },
  {
   "cell_type": "code",
   "execution_count": 169,
   "id": "a07b782d-ef97-4c0a-be53-aefea5936676",
   "metadata": {},
   "outputs": [
    {
     "name": "stdout",
     "output_type": "stream",
     "text": [
      "Accuracy without re-ranking: 0.7534843205574913\n",
      "Accuracy with re-ranking: 0.8902439024390244\n"
     ]
    }
   ],
   "source": [
    "retrieved_accuracy = sum([_['retrieved_correct_position'] == 0 for _ in ft_predictions])/len(ft_predictions)\n",
    "re_ranked_accuracy = sum([_['reranked_correct_position'] == 0 for _ in ft_predictions])/len(ft_predictions)\n",
    "\n",
    "print(f'Accuracy without re-ranking: {retrieved_accuracy}')\n",
    "print(f'Accuracy with re-ranking: {re_ranked_accuracy}')"
   ]
  },
  {
   "cell_type": "code",
   "execution_count": 170,
   "id": "bb46e242",
   "metadata": {},
   "outputs": [],
   "source": [
    "# Re-ranking got slightly better after 1 epoch"
   ]
  },
  {
   "cell_type": "code",
   "execution_count": 171,
   "id": "0cfcd92e-31ad-4bf7-9e30-b6d260a06871",
   "metadata": {},
   "outputs": [
    {
     "data": {
      "application/vnd.google.colaboratory.intrinsic+json": {
       "summary": "{\n  \"name\": \"ft_predictions_df\",\n  \"rows\": 1148,\n  \"fields\": [\n    {\n      \"column\": \"final_results\",\n      \"properties\": {\n        \"dtype\": \"object\",\n        \"semantic_type\": \"\",\n        \"description\": \"\"\n      }\n    },\n    {\n      \"column\": \"retrieved_correct_position\",\n      \"properties\": {\n        \"dtype\": \"number\",\n        \"std\": 4.837119995625484,\n        \"min\": 0.0,\n        \"max\": 49.0,\n        \"num_unique_values\": 31,\n        \"samples\": [\n          26.0,\n          10.0,\n          39.0\n        ],\n        \"semantic_type\": \"\",\n        \"description\": \"\"\n      }\n    },\n    {\n      \"column\": \"reranked_correct_position\",\n      \"properties\": {\n        \"dtype\": \"number\",\n        \"std\": 3.2961654984934645,\n        \"min\": 0.0,\n        \"max\": 48.0,\n        \"num_unique_values\": 25,\n        \"samples\": [\n          17.0,\n          9.0,\n          0.0\n        ],\n        \"semantic_type\": \"\",\n        \"description\": \"\"\n      }\n    },\n    {\n      \"column\": \"results_from_pinecone\",\n      \"properties\": {\n        \"dtype\": \"object\",\n        \"semantic_type\": \"\",\n        \"description\": \"\"\n      }\n    },\n    {\n      \"column\": \"top_re_rank_score\",\n      \"properties\": {\n        \"dtype\": \"float32\",\n        \"num_unique_values\": 1148,\n        \"samples\": [\n          0.989776611328125,\n          0.9937517046928406,\n          0.10413498431444168\n        ],\n        \"semantic_type\": \"\",\n        \"description\": \"\"\n      }\n    }\n  ]\n}",
       "type": "dataframe",
       "variable_name": "ft_predictions_df"
      },
      "text/html": [
       "\n",
       "  <div id=\"df-9aef11ad-3a40-4398-9f22-96fe4b65eea9\" class=\"colab-df-container\">\n",
       "    <div>\n",
       "<style scoped>\n",
       "    .dataframe tbody tr th:only-of-type {\n",
       "        vertical-align: middle;\n",
       "    }\n",
       "\n",
       "    .dataframe tbody tr th {\n",
       "        vertical-align: top;\n",
       "    }\n",
       "\n",
       "    .dataframe thead th {\n",
       "        text-align: right;\n",
       "    }\n",
       "</style>\n",
       "<table border=\"1\" class=\"dataframe\">\n",
       "  <thead>\n",
       "    <tr style=\"text-align: right;\">\n",
       "      <th></th>\n",
       "      <th>final_results</th>\n",
       "      <th>retrieved_correct_position</th>\n",
       "      <th>reranked_correct_position</th>\n",
       "      <th>results_from_pinecone</th>\n",
       "      <th>top_re_rank_score</th>\n",
       "    </tr>\n",
       "  </thead>\n",
       "  <tbody>\n",
       "    <tr>\n",
       "      <th>0</th>\n",
       "      <td>[{'score': 0.27245408, 'id': '2f90090e21f19450...</td>\n",
       "      <td>0.0</td>\n",
       "      <td>0.0</td>\n",
       "      <td>[{'id': '2f90090e21f19450887d5f3ff781e541',\n",
       " '...</td>\n",
       "      <td>0.272454</td>\n",
       "    </tr>\n",
       "    <tr>\n",
       "      <th>1</th>\n",
       "      <td>[{'score': 0.95008755, 'id': '49201636ad410273...</td>\n",
       "      <td>0.0</td>\n",
       "      <td>0.0</td>\n",
       "      <td>[{'id': '49201636ad4102735125e146c0dbafa4',\n",
       " '...</td>\n",
       "      <td>0.950088</td>\n",
       "    </tr>\n",
       "    <tr>\n",
       "      <th>2</th>\n",
       "      <td>[{'score': 0.9484397, 'id': '80d92494d2b06f341...</td>\n",
       "      <td>0.0</td>\n",
       "      <td>0.0</td>\n",
       "      <td>[{'id': '80d92494d2b06f341842f1855d2938cf',\n",
       " '...</td>\n",
       "      <td>0.948440</td>\n",
       "    </tr>\n",
       "    <tr>\n",
       "      <th>3</th>\n",
       "      <td>[{'score': 0.32520765, 'id': 'e3fd54f33b021ea3...</td>\n",
       "      <td>0.0</td>\n",
       "      <td>0.0</td>\n",
       "      <td>[{'id': 'e3fd54f33b021ea3cf88b438fefcada7',\n",
       " '...</td>\n",
       "      <td>0.325208</td>\n",
       "    </tr>\n",
       "    <tr>\n",
       "      <th>4</th>\n",
       "      <td>[{'score': 0.4159641, 'id': '37ed40c20d4e1b9cc...</td>\n",
       "      <td>0.0</td>\n",
       "      <td>0.0</td>\n",
       "      <td>[{'id': '37ed40c20d4e1b9cc8d6cc27a4d0fff3',\n",
       " '...</td>\n",
       "      <td>0.415964</td>\n",
       "    </tr>\n",
       "  </tbody>\n",
       "</table>\n",
       "</div>\n",
       "    <div class=\"colab-df-buttons\">\n",
       "\n",
       "  <div class=\"colab-df-container\">\n",
       "    <button class=\"colab-df-convert\" onclick=\"convertToInteractive('df-9aef11ad-3a40-4398-9f22-96fe4b65eea9')\"\n",
       "            title=\"Convert this dataframe to an interactive table.\"\n",
       "            style=\"display:none;\">\n",
       "\n",
       "  <svg xmlns=\"http://www.w3.org/2000/svg\" height=\"24px\" viewBox=\"0 -960 960 960\">\n",
       "    <path d=\"M120-120v-720h720v720H120Zm60-500h600v-160H180v160Zm220 220h160v-160H400v160Zm0 220h160v-160H400v160ZM180-400h160v-160H180v160Zm440 0h160v-160H620v160ZM180-180h160v-160H180v160Zm440 0h160v-160H620v160Z\"/>\n",
       "  </svg>\n",
       "    </button>\n",
       "\n",
       "  <style>\n",
       "    .colab-df-container {\n",
       "      display:flex;\n",
       "      gap: 12px;\n",
       "    }\n",
       "\n",
       "    .colab-df-convert {\n",
       "      background-color: #E8F0FE;\n",
       "      border: none;\n",
       "      border-radius: 50%;\n",
       "      cursor: pointer;\n",
       "      display: none;\n",
       "      fill: #1967D2;\n",
       "      height: 32px;\n",
       "      padding: 0 0 0 0;\n",
       "      width: 32px;\n",
       "    }\n",
       "\n",
       "    .colab-df-convert:hover {\n",
       "      background-color: #E2EBFA;\n",
       "      box-shadow: 0px 1px 2px rgba(60, 64, 67, 0.3), 0px 1px 3px 1px rgba(60, 64, 67, 0.15);\n",
       "      fill: #174EA6;\n",
       "    }\n",
       "\n",
       "    .colab-df-buttons div {\n",
       "      margin-bottom: 4px;\n",
       "    }\n",
       "\n",
       "    [theme=dark] .colab-df-convert {\n",
       "      background-color: #3B4455;\n",
       "      fill: #D2E3FC;\n",
       "    }\n",
       "\n",
       "    [theme=dark] .colab-df-convert:hover {\n",
       "      background-color: #434B5C;\n",
       "      box-shadow: 0px 1px 3px 1px rgba(0, 0, 0, 0.15);\n",
       "      filter: drop-shadow(0px 1px 2px rgba(0, 0, 0, 0.3));\n",
       "      fill: #FFFFFF;\n",
       "    }\n",
       "  </style>\n",
       "\n",
       "    <script>\n",
       "      const buttonEl =\n",
       "        document.querySelector('#df-9aef11ad-3a40-4398-9f22-96fe4b65eea9 button.colab-df-convert');\n",
       "      buttonEl.style.display =\n",
       "        google.colab.kernel.accessAllowed ? 'block' : 'none';\n",
       "\n",
       "      async function convertToInteractive(key) {\n",
       "        const element = document.querySelector('#df-9aef11ad-3a40-4398-9f22-96fe4b65eea9');\n",
       "        const dataTable =\n",
       "          await google.colab.kernel.invokeFunction('convertToInteractive',\n",
       "                                                    [key], {});\n",
       "        if (!dataTable) return;\n",
       "\n",
       "        const docLinkHtml = 'Like what you see? Visit the ' +\n",
       "          '<a target=\"_blank\" href=https://colab.research.google.com/notebooks/data_table.ipynb>data table notebook</a>'\n",
       "          + ' to learn more about interactive tables.';\n",
       "        element.innerHTML = '';\n",
       "        dataTable['output_type'] = 'display_data';\n",
       "        await google.colab.output.renderOutput(dataTable, element);\n",
       "        const docLink = document.createElement('div');\n",
       "        docLink.innerHTML = docLinkHtml;\n",
       "        element.appendChild(docLink);\n",
       "      }\n",
       "    </script>\n",
       "  </div>\n",
       "\n",
       "\n",
       "<div id=\"df-fff34c07-0874-4498-8228-61df094f88e4\">\n",
       "  <button class=\"colab-df-quickchart\" onclick=\"quickchart('df-fff34c07-0874-4498-8228-61df094f88e4')\"\n",
       "            title=\"Suggest charts\"\n",
       "            style=\"display:none;\">\n",
       "\n",
       "<svg xmlns=\"http://www.w3.org/2000/svg\" height=\"24px\"viewBox=\"0 0 24 24\"\n",
       "     width=\"24px\">\n",
       "    <g>\n",
       "        <path d=\"M19 3H5c-1.1 0-2 .9-2 2v14c0 1.1.9 2 2 2h14c1.1 0 2-.9 2-2V5c0-1.1-.9-2-2-2zM9 17H7v-7h2v7zm4 0h-2V7h2v10zm4 0h-2v-4h2v4z\"/>\n",
       "    </g>\n",
       "</svg>\n",
       "  </button>\n",
       "\n",
       "<style>\n",
       "  .colab-df-quickchart {\n",
       "      --bg-color: #E8F0FE;\n",
       "      --fill-color: #1967D2;\n",
       "      --hover-bg-color: #E2EBFA;\n",
       "      --hover-fill-color: #174EA6;\n",
       "      --disabled-fill-color: #AAA;\n",
       "      --disabled-bg-color: #DDD;\n",
       "  }\n",
       "\n",
       "  [theme=dark] .colab-df-quickchart {\n",
       "      --bg-color: #3B4455;\n",
       "      --fill-color: #D2E3FC;\n",
       "      --hover-bg-color: #434B5C;\n",
       "      --hover-fill-color: #FFFFFF;\n",
       "      --disabled-bg-color: #3B4455;\n",
       "      --disabled-fill-color: #666;\n",
       "  }\n",
       "\n",
       "  .colab-df-quickchart {\n",
       "    background-color: var(--bg-color);\n",
       "    border: none;\n",
       "    border-radius: 50%;\n",
       "    cursor: pointer;\n",
       "    display: none;\n",
       "    fill: var(--fill-color);\n",
       "    height: 32px;\n",
       "    padding: 0;\n",
       "    width: 32px;\n",
       "  }\n",
       "\n",
       "  .colab-df-quickchart:hover {\n",
       "    background-color: var(--hover-bg-color);\n",
       "    box-shadow: 0 1px 2px rgba(60, 64, 67, 0.3), 0 1px 3px 1px rgba(60, 64, 67, 0.15);\n",
       "    fill: var(--button-hover-fill-color);\n",
       "  }\n",
       "\n",
       "  .colab-df-quickchart-complete:disabled,\n",
       "  .colab-df-quickchart-complete:disabled:hover {\n",
       "    background-color: var(--disabled-bg-color);\n",
       "    fill: var(--disabled-fill-color);\n",
       "    box-shadow: none;\n",
       "  }\n",
       "\n",
       "  .colab-df-spinner {\n",
       "    border: 2px solid var(--fill-color);\n",
       "    border-color: transparent;\n",
       "    border-bottom-color: var(--fill-color);\n",
       "    animation:\n",
       "      spin 1s steps(1) infinite;\n",
       "  }\n",
       "\n",
       "  @keyframes spin {\n",
       "    0% {\n",
       "      border-color: transparent;\n",
       "      border-bottom-color: var(--fill-color);\n",
       "      border-left-color: var(--fill-color);\n",
       "    }\n",
       "    20% {\n",
       "      border-color: transparent;\n",
       "      border-left-color: var(--fill-color);\n",
       "      border-top-color: var(--fill-color);\n",
       "    }\n",
       "    30% {\n",
       "      border-color: transparent;\n",
       "      border-left-color: var(--fill-color);\n",
       "      border-top-color: var(--fill-color);\n",
       "      border-right-color: var(--fill-color);\n",
       "    }\n",
       "    40% {\n",
       "      border-color: transparent;\n",
       "      border-right-color: var(--fill-color);\n",
       "      border-top-color: var(--fill-color);\n",
       "    }\n",
       "    60% {\n",
       "      border-color: transparent;\n",
       "      border-right-color: var(--fill-color);\n",
       "    }\n",
       "    80% {\n",
       "      border-color: transparent;\n",
       "      border-right-color: var(--fill-color);\n",
       "      border-bottom-color: var(--fill-color);\n",
       "    }\n",
       "    90% {\n",
       "      border-color: transparent;\n",
       "      border-bottom-color: var(--fill-color);\n",
       "    }\n",
       "  }\n",
       "</style>\n",
       "\n",
       "  <script>\n",
       "    async function quickchart(key) {\n",
       "      const quickchartButtonEl =\n",
       "        document.querySelector('#' + key + ' button');\n",
       "      quickchartButtonEl.disabled = true;  // To prevent multiple clicks.\n",
       "      quickchartButtonEl.classList.add('colab-df-spinner');\n",
       "      try {\n",
       "        const charts = await google.colab.kernel.invokeFunction(\n",
       "            'suggestCharts', [key], {});\n",
       "      } catch (error) {\n",
       "        console.error('Error during call to suggestCharts:', error);\n",
       "      }\n",
       "      quickchartButtonEl.classList.remove('colab-df-spinner');\n",
       "      quickchartButtonEl.classList.add('colab-df-quickchart-complete');\n",
       "    }\n",
       "    (() => {\n",
       "      let quickchartButtonEl =\n",
       "        document.querySelector('#df-fff34c07-0874-4498-8228-61df094f88e4 button');\n",
       "      quickchartButtonEl.style.display =\n",
       "        google.colab.kernel.accessAllowed ? 'block' : 'none';\n",
       "    })();\n",
       "  </script>\n",
       "</div>\n",
       "\n",
       "    </div>\n",
       "  </div>\n"
      ],
      "text/plain": [
       "                                       final_results  \\\n",
       "0  [{'score': 0.27245408, 'id': '2f90090e21f19450...   \n",
       "1  [{'score': 0.95008755, 'id': '49201636ad410273...   \n",
       "2  [{'score': 0.9484397, 'id': '80d92494d2b06f341...   \n",
       "3  [{'score': 0.32520765, 'id': 'e3fd54f33b021ea3...   \n",
       "4  [{'score': 0.4159641, 'id': '37ed40c20d4e1b9cc...   \n",
       "\n",
       "   retrieved_correct_position  reranked_correct_position  \\\n",
       "0                         0.0                        0.0   \n",
       "1                         0.0                        0.0   \n",
       "2                         0.0                        0.0   \n",
       "3                         0.0                        0.0   \n",
       "4                         0.0                        0.0   \n",
       "\n",
       "                               results_from_pinecone  top_re_rank_score  \n",
       "0  [{'id': '2f90090e21f19450887d5f3ff781e541',\n",
       " '...           0.272454  \n",
       "1  [{'id': '49201636ad4102735125e146c0dbafa4',\n",
       " '...           0.950088  \n",
       "2  [{'id': '80d92494d2b06f341842f1855d2938cf',\n",
       " '...           0.948440  \n",
       "3  [{'id': 'e3fd54f33b021ea3cf88b438fefcada7',\n",
       " '...           0.325208  \n",
       "4  [{'id': '37ed40c20d4e1b9cc8d6cc27a4d0fff3',\n",
       " '...           0.415964  "
      ]
     },
     "execution_count": 171,
     "metadata": {},
     "output_type": "execute_result"
    }
   ],
   "source": [
    "ft_predictions_df = pd.DataFrame(ft_predictions)\n",
    "ft_predictions_df.head()"
   ]
  },
  {
   "cell_type": "code",
   "execution_count": 172,
   "id": "9Sr2q5IN9LMz",
   "metadata": {},
   "outputs": [
    {
     "data": {
      "text/html": [
       "<div>\n",
       "<style scoped>\n",
       "    .dataframe tbody tr th:only-of-type {\n",
       "        vertical-align: middle;\n",
       "    }\n",
       "\n",
       "    .dataframe tbody tr th {\n",
       "        vertical-align: top;\n",
       "    }\n",
       "\n",
       "    .dataframe thead th {\n",
       "        text-align: right;\n",
       "    }\n",
       "</style>\n",
       "<table border=\"1\" class=\"dataframe\">\n",
       "  <thead>\n",
       "    <tr style=\"text-align: right;\">\n",
       "      <th></th>\n",
       "      <th>0</th>\n",
       "    </tr>\n",
       "  </thead>\n",
       "  <tbody>\n",
       "    <tr>\n",
       "      <th>retrieved_correct_position</th>\n",
       "      <td>25</td>\n",
       "    </tr>\n",
       "    <tr>\n",
       "      <th>reranked_correct_position</th>\n",
       "      <td>25</td>\n",
       "    </tr>\n",
       "  </tbody>\n",
       "</table>\n",
       "</div><br><label><b>dtype:</b> int64</label>"
      ],
      "text/plain": [
       "retrieved_correct_position    25\n",
       "reranked_correct_position     25\n",
       "dtype: int64"
      ]
     },
     "execution_count": 172,
     "metadata": {},
     "output_type": "execute_result"
    }
   ],
   "source": [
    "ft_predictions_df[['retrieved_correct_position', 'reranked_correct_position']].isnull().sum()"
   ]
  },
  {
   "cell_type": "code",
   "execution_count": 173,
   "id": "75b414c6",
   "metadata": {},
   "outputs": [
    {
     "data": {
      "text/html": [
       "<div>\n",
       "<style scoped>\n",
       "    .dataframe tbody tr th:only-of-type {\n",
       "        vertical-align: middle;\n",
       "    }\n",
       "\n",
       "    .dataframe tbody tr th {\n",
       "        vertical-align: top;\n",
       "    }\n",
       "\n",
       "    .dataframe thead th {\n",
       "        text-align: right;\n",
       "    }\n",
       "</style>\n",
       "<table border=\"1\" class=\"dataframe\">\n",
       "  <thead>\n",
       "    <tr style=\"text-align: right;\">\n",
       "      <th></th>\n",
       "      <th>0</th>\n",
       "    </tr>\n",
       "  </thead>\n",
       "  <tbody>\n",
       "    <tr>\n",
       "      <th>retrieved_correct_position</th>\n",
       "      <td>1.346394</td>\n",
       "    </tr>\n",
       "    <tr>\n",
       "      <th>reranked_correct_position</th>\n",
       "      <td>0.547640</td>\n",
       "    </tr>\n",
       "  </tbody>\n",
       "</table>\n",
       "</div><br><label><b>dtype:</b> float64</label>"
      ],
      "text/plain": [
       "retrieved_correct_position    1.346394\n",
       "reranked_correct_position     0.547640\n",
       "dtype: float64"
      ]
     },
     "execution_count": 173,
     "metadata": {},
     "output_type": "execute_result"
    }
   ],
   "source": [
    "ft_predictions_df[['retrieved_correct_position', 'reranked_correct_position']].mean()"
   ]
  },
  {
   "cell_type": "code",
   "execution_count": 174,
   "id": "2535cbae",
   "metadata": {},
   "outputs": [
    {
     "name": "stdout",
     "output_type": "stream",
     "text": [
      "1 865 1022\n",
      "3 1009 1083\n",
      "5 1048 1090\n",
      "10 1073 1104\n",
      "25 1108 1117\n",
      "50 1123 1123\n"
     ]
    }
   ],
   "source": [
    "# do recall @ 1, 3, 5, 10\n",
    "OPENAI_RETRIEVAL = []\n",
    "OPENAI_RETRIEVAL_PLUS_FT_CE = []\n",
    "for k in X:\n",
    "    embedding_only_recall = ft_predictions_df[ft_predictions_df['retrieved_correct_position'] < k].shape[0]\n",
    "    reranked_recall = ft_predictions_df[ft_predictions_df['reranked_correct_position'] < k].shape[0]\n",
    "    OPENAI_RETRIEVAL.append(embedding_only_recall / ft_predictions_df.shape[0])\n",
    "    OPENAI_RETRIEVAL_PLUS_FT_CE.append(reranked_recall / ft_predictions_df.shape[0])\n",
    "    print(k, embedding_only_recall, reranked_recall)"
   ]
  },
  {
   "cell_type": "code",
   "execution_count": 174,
   "id": "d9e5e922-7667-4a02-b4fc-7acb9cc97c24",
   "metadata": {},
   "outputs": [],
   "source": []
  },
  {
   "cell_type": "code",
   "execution_count": 175,
   "id": "8faf0c1a",
   "metadata": {},
   "outputs": [
    {
     "name": "stderr",
     "output_type": "stream",
     "text": [
      "100%|██████████| 1148/1148 [09:07<00:00,  2.10it/s]\n"
     ]
    },
    {
     "data": {
      "application/vnd.google.colaboratory.intrinsic+json": {
       "summary": "{\n  \"name\": \"os_predictions_df\",\n  \"rows\": 1148,\n  \"fields\": [\n    {\n      \"column\": \"retrieved_correct_position\",\n      \"properties\": {\n        \"dtype\": \"number\",\n        \"std\": 7.001637072855341,\n        \"min\": 0.0,\n        \"max\": 49.0,\n        \"num_unique_values\": 44,\n        \"samples\": [\n          33.0,\n          4.0,\n          22.0\n        ],\n        \"semantic_type\": \"\",\n        \"description\": \"\"\n      }\n    },\n    {\n      \"column\": \"reranked_correct_position\",\n      \"properties\": {\n        \"dtype\": \"number\",\n        \"std\": 3.021110978160727,\n        \"min\": 0.0,\n        \"max\": 46.0,\n        \"num_unique_values\": 21,\n        \"samples\": [\n          0.0,\n          14.0,\n          8.0\n        ],\n        \"semantic_type\": \"\",\n        \"description\": \"\"\n      }\n    }\n  ]\n}",
       "type": "dataframe",
       "variable_name": "os_predictions_df"
      },
      "text/html": [
       "\n",
       "  <div id=\"df-ffda87c0-a652-4d8c-9329-29779ea4eb7b\" class=\"colab-df-container\">\n",
       "    <div>\n",
       "<style scoped>\n",
       "    .dataframe tbody tr th:only-of-type {\n",
       "        vertical-align: middle;\n",
       "    }\n",
       "\n",
       "    .dataframe tbody tr th {\n",
       "        vertical-align: top;\n",
       "    }\n",
       "\n",
       "    .dataframe thead th {\n",
       "        text-align: right;\n",
       "    }\n",
       "</style>\n",
       "<table border=\"1\" class=\"dataframe\">\n",
       "  <thead>\n",
       "    <tr style=\"text-align: right;\">\n",
       "      <th></th>\n",
       "      <th>retrieved_correct_position</th>\n",
       "      <th>reranked_correct_position</th>\n",
       "    </tr>\n",
       "  </thead>\n",
       "  <tbody>\n",
       "    <tr>\n",
       "      <th>0</th>\n",
       "      <td>0.0</td>\n",
       "      <td>0.0</td>\n",
       "    </tr>\n",
       "    <tr>\n",
       "      <th>1</th>\n",
       "      <td>0.0</td>\n",
       "      <td>0.0</td>\n",
       "    </tr>\n",
       "    <tr>\n",
       "      <th>2</th>\n",
       "      <td>0.0</td>\n",
       "      <td>0.0</td>\n",
       "    </tr>\n",
       "    <tr>\n",
       "      <th>3</th>\n",
       "      <td>1.0</td>\n",
       "      <td>0.0</td>\n",
       "    </tr>\n",
       "    <tr>\n",
       "      <th>4</th>\n",
       "      <td>0.0</td>\n",
       "      <td>0.0</td>\n",
       "    </tr>\n",
       "  </tbody>\n",
       "</table>\n",
       "</div>\n",
       "    <div class=\"colab-df-buttons\">\n",
       "\n",
       "  <div class=\"colab-df-container\">\n",
       "    <button class=\"colab-df-convert\" onclick=\"convertToInteractive('df-ffda87c0-a652-4d8c-9329-29779ea4eb7b')\"\n",
       "            title=\"Convert this dataframe to an interactive table.\"\n",
       "            style=\"display:none;\">\n",
       "\n",
       "  <svg xmlns=\"http://www.w3.org/2000/svg\" height=\"24px\" viewBox=\"0 -960 960 960\">\n",
       "    <path d=\"M120-120v-720h720v720H120Zm60-500h600v-160H180v160Zm220 220h160v-160H400v160Zm0 220h160v-160H400v160ZM180-400h160v-160H180v160Zm440 0h160v-160H620v160ZM180-180h160v-160H180v160Zm440 0h160v-160H620v160Z\"/>\n",
       "  </svg>\n",
       "    </button>\n",
       "\n",
       "  <style>\n",
       "    .colab-df-container {\n",
       "      display:flex;\n",
       "      gap: 12px;\n",
       "    }\n",
       "\n",
       "    .colab-df-convert {\n",
       "      background-color: #E8F0FE;\n",
       "      border: none;\n",
       "      border-radius: 50%;\n",
       "      cursor: pointer;\n",
       "      display: none;\n",
       "      fill: #1967D2;\n",
       "      height: 32px;\n",
       "      padding: 0 0 0 0;\n",
       "      width: 32px;\n",
       "    }\n",
       "\n",
       "    .colab-df-convert:hover {\n",
       "      background-color: #E2EBFA;\n",
       "      box-shadow: 0px 1px 2px rgba(60, 64, 67, 0.3), 0px 1px 3px 1px rgba(60, 64, 67, 0.15);\n",
       "      fill: #174EA6;\n",
       "    }\n",
       "\n",
       "    .colab-df-buttons div {\n",
       "      margin-bottom: 4px;\n",
       "    }\n",
       "\n",
       "    [theme=dark] .colab-df-convert {\n",
       "      background-color: #3B4455;\n",
       "      fill: #D2E3FC;\n",
       "    }\n",
       "\n",
       "    [theme=dark] .colab-df-convert:hover {\n",
       "      background-color: #434B5C;\n",
       "      box-shadow: 0px 1px 3px 1px rgba(0, 0, 0, 0.15);\n",
       "      filter: drop-shadow(0px 1px 2px rgba(0, 0, 0, 0.3));\n",
       "      fill: #FFFFFF;\n",
       "    }\n",
       "  </style>\n",
       "\n",
       "    <script>\n",
       "      const buttonEl =\n",
       "        document.querySelector('#df-ffda87c0-a652-4d8c-9329-29779ea4eb7b button.colab-df-convert');\n",
       "      buttonEl.style.display =\n",
       "        google.colab.kernel.accessAllowed ? 'block' : 'none';\n",
       "\n",
       "      async function convertToInteractive(key) {\n",
       "        const element = document.querySelector('#df-ffda87c0-a652-4d8c-9329-29779ea4eb7b');\n",
       "        const dataTable =\n",
       "          await google.colab.kernel.invokeFunction('convertToInteractive',\n",
       "                                                    [key], {});\n",
       "        if (!dataTable) return;\n",
       "\n",
       "        const docLinkHtml = 'Like what you see? Visit the ' +\n",
       "          '<a target=\"_blank\" href=https://colab.research.google.com/notebooks/data_table.ipynb>data table notebook</a>'\n",
       "          + ' to learn more about interactive tables.';\n",
       "        element.innerHTML = '';\n",
       "        dataTable['output_type'] = 'display_data';\n",
       "        await google.colab.output.renderOutput(dataTable, element);\n",
       "        const docLink = document.createElement('div');\n",
       "        docLink.innerHTML = docLinkHtml;\n",
       "        element.appendChild(docLink);\n",
       "      }\n",
       "    </script>\n",
       "  </div>\n",
       "\n",
       "\n",
       "<div id=\"df-3acd0814-f9aa-4a65-9a58-0db672100320\">\n",
       "  <button class=\"colab-df-quickchart\" onclick=\"quickchart('df-3acd0814-f9aa-4a65-9a58-0db672100320')\"\n",
       "            title=\"Suggest charts\"\n",
       "            style=\"display:none;\">\n",
       "\n",
       "<svg xmlns=\"http://www.w3.org/2000/svg\" height=\"24px\"viewBox=\"0 0 24 24\"\n",
       "     width=\"24px\">\n",
       "    <g>\n",
       "        <path d=\"M19 3H5c-1.1 0-2 .9-2 2v14c0 1.1.9 2 2 2h14c1.1 0 2-.9 2-2V5c0-1.1-.9-2-2-2zM9 17H7v-7h2v7zm4 0h-2V7h2v10zm4 0h-2v-4h2v4z\"/>\n",
       "    </g>\n",
       "</svg>\n",
       "  </button>\n",
       "\n",
       "<style>\n",
       "  .colab-df-quickchart {\n",
       "      --bg-color: #E8F0FE;\n",
       "      --fill-color: #1967D2;\n",
       "      --hover-bg-color: #E2EBFA;\n",
       "      --hover-fill-color: #174EA6;\n",
       "      --disabled-fill-color: #AAA;\n",
       "      --disabled-bg-color: #DDD;\n",
       "  }\n",
       "\n",
       "  [theme=dark] .colab-df-quickchart {\n",
       "      --bg-color: #3B4455;\n",
       "      --fill-color: #D2E3FC;\n",
       "      --hover-bg-color: #434B5C;\n",
       "      --hover-fill-color: #FFFFFF;\n",
       "      --disabled-bg-color: #3B4455;\n",
       "      --disabled-fill-color: #666;\n",
       "  }\n",
       "\n",
       "  .colab-df-quickchart {\n",
       "    background-color: var(--bg-color);\n",
       "    border: none;\n",
       "    border-radius: 50%;\n",
       "    cursor: pointer;\n",
       "    display: none;\n",
       "    fill: var(--fill-color);\n",
       "    height: 32px;\n",
       "    padding: 0;\n",
       "    width: 32px;\n",
       "  }\n",
       "\n",
       "  .colab-df-quickchart:hover {\n",
       "    background-color: var(--hover-bg-color);\n",
       "    box-shadow: 0 1px 2px rgba(60, 64, 67, 0.3), 0 1px 3px 1px rgba(60, 64, 67, 0.15);\n",
       "    fill: var(--button-hover-fill-color);\n",
       "  }\n",
       "\n",
       "  .colab-df-quickchart-complete:disabled,\n",
       "  .colab-df-quickchart-complete:disabled:hover {\n",
       "    background-color: var(--disabled-bg-color);\n",
       "    fill: var(--disabled-fill-color);\n",
       "    box-shadow: none;\n",
       "  }\n",
       "\n",
       "  .colab-df-spinner {\n",
       "    border: 2px solid var(--fill-color);\n",
       "    border-color: transparent;\n",
       "    border-bottom-color: var(--fill-color);\n",
       "    animation:\n",
       "      spin 1s steps(1) infinite;\n",
       "  }\n",
       "\n",
       "  @keyframes spin {\n",
       "    0% {\n",
       "      border-color: transparent;\n",
       "      border-bottom-color: var(--fill-color);\n",
       "      border-left-color: var(--fill-color);\n",
       "    }\n",
       "    20% {\n",
       "      border-color: transparent;\n",
       "      border-left-color: var(--fill-color);\n",
       "      border-top-color: var(--fill-color);\n",
       "    }\n",
       "    30% {\n",
       "      border-color: transparent;\n",
       "      border-left-color: var(--fill-color);\n",
       "      border-top-color: var(--fill-color);\n",
       "      border-right-color: var(--fill-color);\n",
       "    }\n",
       "    40% {\n",
       "      border-color: transparent;\n",
       "      border-right-color: var(--fill-color);\n",
       "      border-top-color: var(--fill-color);\n",
       "    }\n",
       "    60% {\n",
       "      border-color: transparent;\n",
       "      border-right-color: var(--fill-color);\n",
       "    }\n",
       "    80% {\n",
       "      border-color: transparent;\n",
       "      border-right-color: var(--fill-color);\n",
       "      border-bottom-color: var(--fill-color);\n",
       "    }\n",
       "    90% {\n",
       "      border-color: transparent;\n",
       "      border-bottom-color: var(--fill-color);\n",
       "    }\n",
       "  }\n",
       "</style>\n",
       "\n",
       "  <script>\n",
       "    async function quickchart(key) {\n",
       "      const quickchartButtonEl =\n",
       "        document.querySelector('#' + key + ' button');\n",
       "      quickchartButtonEl.disabled = true;  // To prevent multiple clicks.\n",
       "      quickchartButtonEl.classList.add('colab-df-spinner');\n",
       "      try {\n",
       "        const charts = await google.colab.kernel.invokeFunction(\n",
       "            'suggestCharts', [key], {});\n",
       "      } catch (error) {\n",
       "        console.error('Error during call to suggestCharts:', error);\n",
       "      }\n",
       "      quickchartButtonEl.classList.remove('colab-df-spinner');\n",
       "      quickchartButtonEl.classList.add('colab-df-quickchart-complete');\n",
       "    }\n",
       "    (() => {\n",
       "      let quickchartButtonEl =\n",
       "        document.querySelector('#df-3acd0814-f9aa-4a65-9a58-0db672100320 button');\n",
       "      quickchartButtonEl.style.display =\n",
       "        google.colab.kernel.accessAllowed ? 'block' : 'none';\n",
       "    })();\n",
       "  </script>\n",
       "</div>\n",
       "\n",
       "    </div>\n",
       "  </div>\n"
      ],
      "text/plain": [
       "   retrieved_correct_position  reranked_correct_position\n",
       "0                         0.0                        0.0\n",
       "1                         0.0                        0.0\n",
       "2                         0.0                        0.0\n",
       "3                         1.0                        0.0\n",
       "4                         0.0                        0.0"
      ]
     },
     "execution_count": 175,
     "metadata": {},
     "output_type": "execute_result"
    }
   ],
   "source": [
    "logger.setLevel(logging.CRITICAL)\n",
    "os_predictions = []\n",
    "\n",
    "for i, question in tqdm(enumerate(test_sample), total=len(test_sample)):\n",
    "    os_predictions.append(eval_ranking_open_source(bi_encoder, doc_emb, question['question'], top_k=TOP_K, re_rank_model=finetuned))\n",
    "\n",
    "os_predictions_df = pd.DataFrame(os_predictions)\n",
    "os_predictions_df.head()"
   ]
  },
  {
   "cell_type": "code",
   "execution_count": 176,
   "id": "6eaeb9b4",
   "metadata": {},
   "outputs": [
    {
     "name": "stdout",
     "output_type": "stream",
     "text": [
      "Accuracy without re-ranking: 0.5017421602787456\n",
      "Accuracy with re-ranking: 0.6428571428571429\n"
     ]
    }
   ],
   "source": [
    "raw_accuracy = sum([p['retrieved_correct_position'] == 0 for p in os_predictions])/len(os_predictions)\n",
    "reranked_accuracy = sum([p['reranked_correct_position'] == 0 for p in os_predictions])/len(os_predictions)\n",
    "\n",
    "print(f'Accuracy without re-ranking: {raw_accuracy}')\n",
    "print(f'Accuracy with re-ranking: {reranked_accuracy}')\n"
   ]
  },
  {
   "cell_type": "code",
   "execution_count": 177,
   "id": "T00iM9SyaUFI",
   "metadata": {},
   "outputs": [
    {
     "name": "stdout",
     "output_type": "stream",
     "text": [
      "1 576 738\n",
      "3 887 1029\n",
      "5 948 1072\n",
      "10 1008 1091\n",
      "25 1073 1103\n",
      "50 1107 1107\n"
     ]
    }
   ],
   "source": [
    "# do recall @ 1, 3, 5, 10\n",
    "OPEN_SOURCE_RETRIEVAL = []\n",
    "OPEN_SOURCE_RETRIEVAL_PLUS_FT_CE = []\n",
    "for k in X:\n",
    "    embedding_only_recall = os_predictions_df[os_predictions_df['retrieved_correct_position'] < k].shape[0]\n",
    "    reranked_recall = os_predictions_df[os_predictions_df['reranked_correct_position'] < k].shape[0]\n",
    "    print(k, embedding_only_recall, reranked_recall)\n",
    "    OPEN_SOURCE_RETRIEVAL.append(embedding_only_recall / os_predictions_df.shape[0])\n",
    "    OPEN_SOURCE_RETRIEVAL_PLUS_FT_CE.append(reranked_recall / os_predictions_df.shape[0])"
   ]
  },
  {
   "cell_type": "code",
   "execution_count": 178,
   "id": "-ub8HU8BZAW1",
   "metadata": {},
   "outputs": [
    {
     "data": {
      "image/png": "[encoded data removed]",
      "text/plain": [
       "<Figure size 1000x600 with 1 Axes>"
      ]
     },
     "metadata": {},
     "output_type": "display_data"
    }
   ],
   "source": [
    "import matplotlib.pyplot as plt\n",
    "\n",
    "# Creating the plot\n",
    "plt.figure(figsize=(10, 6))\n",
    "plt.plot(X, OPENAI_RETRIEVAL, label='OAI Retrieval Only', marker='o')\n",
    "plt.plot(X, OPEN_SOURCE_RETRIEVAL, label='OS Retrieval Only', marker='*')\n",
    "plt.plot(X, OPEN_SOURCE_RETRIEVAL_PLUS_PRE_CE, label='OS + Pretrained CE', marker='^')\n",
    "\n",
    "plt.plot(X, OPEN_SOURCE_RETRIEVAL_PLUS_FT_CE, label='OS + Finetuned CE', marker='v')\n",
    "plt.plot(X, OLD_CROSS_ENCODER, label='OAI + Pretrained CE', marker='s')\n",
    "plt.plot(X, OPENAI_RETRIEVAL_PLUS_FT_CE, label='OAI + Finetuned CE', marker='d')\n",
    "\n",
    "# Adding titles and labels\n",
    "plt.title('Comparing embedding models + pre-trained vs fine-tuned CE (all retrieved 50 results then re-ranked)')\n",
    "plt.xlabel('Recall @')\n",
    "plt.ylabel('Performance')\n",
    "plt.xticks(X)\n",
    "plt.yticks([i/100 for i in range(70, 101, 5)])  # Adjusting y-ticks to start from 0.75\n",
    "\n",
    "# Adding legend\n",
    "plt.legend()\n",
    "\n",
    "# Show the plot\n",
    "plt.grid(True)\n",
    "# plt.show()\n",
    "\n",
    "plt.savefig('recall_at_k.png', dpi=1000)"
   ]
  },
  {
   "cell_type": "code",
   "execution_count": 181,
   "id": "9oGQvj0xZAwo",
   "metadata": {},
   "outputs": [
    {
     "data": {
      "application/vnd.google.colaboratory.intrinsic+json": {
       "summary": "{\n  \"name\": \"results_df\",\n  \"rows\": 6,\n  \"fields\": [\n    {\n      \"column\": \"RECALL @\",\n      \"properties\": {\n        \"dtype\": \"number\",\n        \"std\": 18,\n        \"min\": 1,\n        \"max\": 50,\n        \"num_unique_values\": 6,\n        \"samples\": [\n          1,\n          3,\n          50\n        ],\n        \"semantic_type\": \"\",\n        \"description\": \"\"\n      }\n    },\n    {\n      \"column\": \"OS_Retrieval_Only\",\n      \"properties\": {\n        \"dtype\": \"number\",\n        \"std\": 0.16768726331934317,\n        \"min\": 0.5017421602787456,\n        \"max\": 0.9642857142857143,\n        \"num_unique_values\": 6,\n        \"samples\": [\n          0.5017421602787456,\n          0.7726480836236934,\n          0.9642857142857143\n        ],\n        \"semantic_type\": \"\",\n        \"description\": \"\"\n      }\n    },\n    {\n      \"column\": \"OS_Retrieval_Plus_Finetuned_CE\",\n      \"properties\": {\n        \"dtype\": \"number\",\n        \"std\": 0.1242572741439965,\n        \"min\": 0.6428571428571429,\n        \"max\": 0.9642857142857143,\n        \"num_unique_values\": 6,\n        \"samples\": [\n          0.6428571428571429,\n          0.8963414634146342,\n          0.9642857142857143\n        ],\n        \"semantic_type\": \"\",\n        \"description\": \"\"\n      }\n    },\n    {\n      \"column\": \"OAI_Retrieval_Only\",\n      \"properties\": {\n        \"dtype\": \"number\",\n        \"std\": 0.08191797444458304,\n        \"min\": 0.7534843205574913,\n        \"max\": 0.9782229965156795,\n        \"num_unique_values\": 6,\n        \"samples\": [\n          0.7534843205574913,\n          0.8789198606271778,\n          0.9782229965156795\n        ],\n        \"semantic_type\": \"\",\n        \"description\": \"\"\n      }\n    },\n    {\n      \"column\": \"OAI_Retrieval_Plus_Pretrained_CE\",\n      \"properties\": {\n        \"dtype\": \"number\",\n        \"std\": 0.053339701651705686,\n        \"min\": 0.8336236933797909,\n        \"max\": 0.9773519163763066,\n        \"num_unique_values\": 6,\n        \"samples\": [\n          0.8336236933797909,\n          0.9207317073170732,\n          0.9773519163763066\n        ],\n        \"semantic_type\": \"\",\n        \"description\": \"\"\n      }\n    },\n    {\n      \"column\": \"OAI_Retrieval_Plus_Finetuned_CE\",\n      \"properties\": {\n        \"dtype\": \"number\",\n        \"std\": 0.03185542173744024,\n        \"min\": 0.8902439024390244,\n        \"max\": 0.9782229965156795,\n        \"num_unique_values\": 6,\n        \"samples\": [\n          0.8902439024390244,\n          0.9433797909407665,\n          0.9782229965156795\n        ],\n        \"semantic_type\": \"\",\n        \"description\": \"\"\n      }\n    }\n  ]\n}",
       "type": "dataframe"
      },
      "text/html": [
       "\n",
       "  <div id=\"df-31007180-8b77-47da-aa1a-5ecf9083e03a\" class=\"colab-df-container\">\n",
       "    <div>\n",
       "<style scoped>\n",
       "    .dataframe tbody tr th:only-of-type {\n",
       "        vertical-align: middle;\n",
       "    }\n",
       "\n",
       "    .dataframe tbody tr th {\n",
       "        vertical-align: top;\n",
       "    }\n",
       "\n",
       "    .dataframe thead th {\n",
       "        text-align: right;\n",
       "    }\n",
       "</style>\n",
       "<table border=\"1\" class=\"dataframe\">\n",
       "  <thead>\n",
       "    <tr style=\"text-align: right;\">\n",
       "      <th></th>\n",
       "      <th>RECALL @</th>\n",
       "      <th>OS_Retrieval_Only</th>\n",
       "      <th>OS_Retrieval_Plus_Finetuned_CE</th>\n",
       "      <th>OAI_Retrieval_Only</th>\n",
       "      <th>OAI_Retrieval_Plus_Pretrained_CE</th>\n",
       "      <th>OAI_Retrieval_Plus_Finetuned_CE</th>\n",
       "    </tr>\n",
       "  </thead>\n",
       "  <tbody>\n",
       "    <tr>\n",
       "      <th>0</th>\n",
       "      <td>1</td>\n",
       "      <td>0.501742</td>\n",
       "      <td>0.642857</td>\n",
       "      <td>0.753484</td>\n",
       "      <td>0.833624</td>\n",
       "      <td>0.890244</td>\n",
       "    </tr>\n",
       "    <tr>\n",
       "      <th>1</th>\n",
       "      <td>3</td>\n",
       "      <td>0.772648</td>\n",
       "      <td>0.896341</td>\n",
       "      <td>0.878920</td>\n",
       "      <td>0.920732</td>\n",
       "      <td>0.943380</td>\n",
       "    </tr>\n",
       "    <tr>\n",
       "      <th>2</th>\n",
       "      <td>5</td>\n",
       "      <td>0.825784</td>\n",
       "      <td>0.933798</td>\n",
       "      <td>0.912892</td>\n",
       "      <td>0.937282</td>\n",
       "      <td>0.949477</td>\n",
       "    </tr>\n",
       "    <tr>\n",
       "      <th>3</th>\n",
       "      <td>10</td>\n",
       "      <td>0.878049</td>\n",
       "      <td>0.950348</td>\n",
       "      <td>0.934669</td>\n",
       "      <td>0.952962</td>\n",
       "      <td>0.961672</td>\n",
       "    </tr>\n",
       "    <tr>\n",
       "      <th>4</th>\n",
       "      <td>25</td>\n",
       "      <td>0.934669</td>\n",
       "      <td>0.960801</td>\n",
       "      <td>0.965157</td>\n",
       "      <td>0.975610</td>\n",
       "      <td>0.972997</td>\n",
       "    </tr>\n",
       "    <tr>\n",
       "      <th>5</th>\n",
       "      <td>50</td>\n",
       "      <td>0.964286</td>\n",
       "      <td>0.964286</td>\n",
       "      <td>0.978223</td>\n",
       "      <td>0.977352</td>\n",
       "      <td>0.978223</td>\n",
       "    </tr>\n",
       "  </tbody>\n",
       "</table>\n",
       "</div>\n",
       "    <div class=\"colab-df-buttons\">\n",
       "\n",
       "  <div class=\"colab-df-container\">\n",
       "    <button class=\"colab-df-convert\" onclick=\"convertToInteractive('df-31007180-8b77-47da-aa1a-5ecf9083e03a')\"\n",
       "            title=\"Convert this dataframe to an interactive table.\"\n",
       "            style=\"display:none;\">\n",
       "\n",
       "  <svg xmlns=\"http://www.w3.org/2000/svg\" height=\"24px\" viewBox=\"0 -960 960 960\">\n",
       "    <path d=\"M120-120v-720h720v720H120Zm60-500h600v-160H180v160Zm220 220h160v-160H400v160Zm0 220h160v-160H400v160ZM180-400h160v-160H180v160Zm440 0h160v-160H620v160ZM180-180h160v-160H180v160Zm440 0h160v-160H620v160Z\"/>\n",
       "  </svg>\n",
       "    </button>\n",
       "\n",
       "  <style>\n",
       "    .colab-df-container {\n",
       "      display:flex;\n",
       "      gap: 12px;\n",
       "    }\n",
       "\n",
       "    .colab-df-convert {\n",
       "      background-color: #E8F0FE;\n",
       "      border: none;\n",
       "      border-radius: 50%;\n",
       "      cursor: pointer;\n",
       "      display: none;\n",
       "      fill: #1967D2;\n",
       "      height: 32px;\n",
       "      padding: 0 0 0 0;\n",
       "      width: 32px;\n",
       "    }\n",
       "\n",
       "    .colab-df-convert:hover {\n",
       "      background-color: #E2EBFA;\n",
       "      box-shadow: 0px 1px 2px rgba(60, 64, 67, 0.3), 0px 1px 3px 1px rgba(60, 64, 67, 0.15);\n",
       "      fill: #174EA6;\n",
       "    }\n",
       "\n",
       "    .colab-df-buttons div {\n",
       "      margin-bottom: 4px;\n",
       "    }\n",
       "\n",
       "    [theme=dark] .colab-df-convert {\n",
       "      background-color: #3B4455;\n",
       "      fill: #D2E3FC;\n",
       "    }\n",
       "\n",
       "    [theme=dark] .colab-df-convert:hover {\n",
       "      background-color: #434B5C;\n",
       "      box-shadow: 0px 1px 3px 1px rgba(0, 0, 0, 0.15);\n",
       "      filter: drop-shadow(0px 1px 2px rgba(0, 0, 0, 0.3));\n",
       "      fill: #FFFFFF;\n",
       "    }\n",
       "  </style>\n",
       "\n",
       "    <script>\n",
       "      const buttonEl =\n",
       "        document.querySelector('#df-31007180-8b77-47da-aa1a-5ecf9083e03a button.colab-df-convert');\n",
       "      buttonEl.style.display =\n",
       "        google.colab.kernel.accessAllowed ? 'block' : 'none';\n",
       "\n",
       "      async function convertToInteractive(key) {\n",
       "        const element = document.querySelector('#df-31007180-8b77-47da-aa1a-5ecf9083e03a');\n",
       "        const dataTable =\n",
       "          await google.colab.kernel.invokeFunction('convertToInteractive',\n",
       "                                                    [key], {});\n",
       "        if (!dataTable) return;\n",
       "\n",
       "        const docLinkHtml = 'Like what you see? Visit the ' +\n",
       "          '<a target=\"_blank\" href=https://colab.research.google.com/notebooks/data_table.ipynb>data table notebook</a>'\n",
       "          + ' to learn more about interactive tables.';\n",
       "        element.innerHTML = '';\n",
       "        dataTable['output_type'] = 'display_data';\n",
       "        await google.colab.output.renderOutput(dataTable, element);\n",
       "        const docLink = document.createElement('div');\n",
       "        docLink.innerHTML = docLinkHtml;\n",
       "        element.appendChild(docLink);\n",
       "      }\n",
       "    </script>\n",
       "  </div>\n",
       "\n",
       "\n",
       "<div id=\"df-daca76e8-efcb-4224-8fee-cd1cf73370c8\">\n",
       "  <button class=\"colab-df-quickchart\" onclick=\"quickchart('df-daca76e8-efcb-4224-8fee-cd1cf73370c8')\"\n",
       "            title=\"Suggest charts\"\n",
       "            style=\"display:none;\">\n",
       "\n",
       "<svg xmlns=\"http://www.w3.org/2000/svg\" height=\"24px\"viewBox=\"0 0 24 24\"\n",
       "     width=\"24px\">\n",
       "    <g>\n",
       "        <path d=\"M19 3H5c-1.1 0-2 .9-2 2v14c0 1.1.9 2 2 2h14c1.1 0 2-.9 2-2V5c0-1.1-.9-2-2-2zM9 17H7v-7h2v7zm4 0h-2V7h2v10zm4 0h-2v-4h2v4z\"/>\n",
       "    </g>\n",
       "</svg>\n",
       "  </button>\n",
       "\n",
       "<style>\n",
       "  .colab-df-quickchart {\n",
       "      --bg-color: #E8F0FE;\n",
       "      --fill-color: #1967D2;\n",
       "      --hover-bg-color: #E2EBFA;\n",
       "      --hover-fill-color: #174EA6;\n",
       "      --disabled-fill-color: #AAA;\n",
       "      --disabled-bg-color: #DDD;\n",
       "  }\n",
       "\n",
       "  [theme=dark] .colab-df-quickchart {\n",
       "      --bg-color: #3B4455;\n",
       "      --fill-color: #D2E3FC;\n",
       "      --hover-bg-color: #434B5C;\n",
       "      --hover-fill-color: #FFFFFF;\n",
       "      --disabled-bg-color: #3B4455;\n",
       "      --disabled-fill-color: #666;\n",
       "  }\n",
       "\n",
       "  .colab-df-quickchart {\n",
       "    background-color: var(--bg-color);\n",
       "    border: none;\n",
       "    border-radius: 50%;\n",
       "    cursor: pointer;\n",
       "    display: none;\n",
       "    fill: var(--fill-color);\n",
       "    height: 32px;\n",
       "    padding: 0;\n",
       "    width: 32px;\n",
       "  }\n",
       "\n",
       "  .colab-df-quickchart:hover {\n",
       "    background-color: var(--hover-bg-color);\n",
       "    box-shadow: 0 1px 2px rgba(60, 64, 67, 0.3), 0 1px 3px 1px rgba(60, 64, 67, 0.15);\n",
       "    fill: var(--button-hover-fill-color);\n",
       "  }\n",
       "\n",
       "  .colab-df-quickchart-complete:disabled,\n",
       "  .colab-df-quickchart-complete:disabled:hover {\n",
       "    background-color: var(--disabled-bg-color);\n",
       "    fill: var(--disabled-fill-color);\n",
       "    box-shadow: none;\n",
       "  }\n",
       "\n",
       "  .colab-df-spinner {\n",
       "    border: 2px solid var(--fill-color);\n",
       "    border-color: transparent;\n",
       "    border-bottom-color: var(--fill-color);\n",
       "    animation:\n",
       "      spin 1s steps(1) infinite;\n",
       "  }\n",
       "\n",
       "  @keyframes spin {\n",
       "    0% {\n",
       "      border-color: transparent;\n",
       "      border-bottom-color: var(--fill-color);\n",
       "      border-left-color: var(--fill-color);\n",
       "    }\n",
       "    20% {\n",
       "      border-color: transparent;\n",
       "      border-left-color: var(--fill-color);\n",
       "      border-top-color: var(--fill-color);\n",
       "    }\n",
       "    30% {\n",
       "      border-color: transparent;\n",
       "      border-left-color: var(--fill-color);\n",
       "      border-top-color: var(--fill-color);\n",
       "      border-right-color: var(--fill-color);\n",
       "    }\n",
       "    40% {\n",
       "      border-color: transparent;\n",
       "      border-right-color: var(--fill-color);\n",
       "      border-top-color: var(--fill-color);\n",
       "    }\n",
       "    60% {\n",
       "      border-color: transparent;\n",
       "      border-right-color: var(--fill-color);\n",
       "    }\n",
       "    80% {\n",
       "      border-color: transparent;\n",
       "      border-right-color: var(--fill-color);\n",
       "      border-bottom-color: var(--fill-color);\n",
       "    }\n",
       "    90% {\n",
       "      border-color: transparent;\n",
       "      border-bottom-color: var(--fill-color);\n",
       "    }\n",
       "  }\n",
       "</style>\n",
       "\n",
       "  <script>\n",
       "    async function quickchart(key) {\n",
       "      const quickchartButtonEl =\n",
       "        document.querySelector('#' + key + ' button');\n",
       "      quickchartButtonEl.disabled = true;  // To prevent multiple clicks.\n",
       "      quickchartButtonEl.classList.add('colab-df-spinner');\n",
       "      try {\n",
       "        const charts = await google.colab.kernel.invokeFunction(\n",
       "            'suggestCharts', [key], {});\n",
       "      } catch (error) {\n",
       "        console.error('Error during call to suggestCharts:', error);\n",
       "      }\n",
       "      quickchartButtonEl.classList.remove('colab-df-spinner');\n",
       "      quickchartButtonEl.classList.add('colab-df-quickchart-complete');\n",
       "    }\n",
       "    (() => {\n",
       "      let quickchartButtonEl =\n",
       "        document.querySelector('#df-daca76e8-efcb-4224-8fee-cd1cf73370c8 button');\n",
       "      quickchartButtonEl.style.display =\n",
       "        google.colab.kernel.accessAllowed ? 'block' : 'none';\n",
       "    })();\n",
       "  </script>\n",
       "</div>\n",
       "\n",
       "    </div>\n",
       "  </div>\n"
      ],
      "text/plain": [
       "   RECALL @  OS_Retrieval_Only  OS_Retrieval_Plus_Finetuned_CE  \\\n",
       "0         1           0.501742                        0.642857   \n",
       "1         3           0.772648                        0.896341   \n",
       "2         5           0.825784                        0.933798   \n",
       "3        10           0.878049                        0.950348   \n",
       "4        25           0.934669                        0.960801   \n",
       "5        50           0.964286                        0.964286   \n",
       "\n",
       "   OAI_Retrieval_Only  OAI_Retrieval_Plus_Pretrained_CE  \\\n",
       "0            0.753484                          0.833624   \n",
       "1            0.878920                          0.920732   \n",
       "2            0.912892                          0.937282   \n",
       "3            0.934669                          0.952962   \n",
       "4            0.965157                          0.975610   \n",
       "5            0.978223                          0.977352   \n",
       "\n",
       "   OAI_Retrieval_Plus_Finetuned_CE  \n",
       "0                         0.890244  \n",
       "1                         0.943380  \n",
       "2                         0.949477  \n",
       "3                         0.961672  \n",
       "4                         0.972997  \n",
       "5                         0.978223  "
      ]
     },
     "execution_count": 181,
     "metadata": {},
     "output_type": "execute_result"
    }
   ],
   "source": [
    "# show results as a table\n",
    "\n",
    "results_df = pd.DataFrame({'RECALL @': [1, 3, 5, 10, 25, 50], 'OS_Retrieval_Only': OPEN_SOURCE_RETRIEVAL, 'OS_Retrieval_Plus_Finetuned_CE': OPEN_SOURCE_RETRIEVAL_PLUS_FT_CE   , 'OAI_Retrieval_Only': OPENAI_RETRIEVAL    , 'OAI_Retrieval_Plus_Pretrained_CE': OLD_CROSS_ENCODER, 'OAI_Retrieval_Plus_Finetuned_CE': OPENAI_RETRIEVAL_PLUS_FT_CE})\n",
    "results_df.sort_values(by='RECALL @')"
   ]
  },
  {
   "cell_type": "code",
   "execution_count": 1,
   "id": "OFno8WyIZDR6",
   "metadata": {},
   "outputs": [
    {
     "data": {
      "image/png": "[encoded data removed]",
      "text/plain": [
       "<Figure size 800x500 with 1 Axes>"
      ]
     },
     "metadata": {},
     "output_type": "display_data"
    }
   ],
   "source": [
    "import matplotlib.pyplot as plt\n",
    "\n",
    "# Data\n",
    "methods = [\n",
    "    \"OS_Retrieval_Only\",\n",
    "    \"OS_Retrieval_Plus_Finetuned_CE\",\n",
    "    \"OAI_Retrieval_Only\",\n",
    "    \"OAI_Retrieval_Plus_Pretrained_CE\",\n",
    "    \"OAI_Retrieval_Plus_Finetuned_CE\"\n",
    "]\n",
    "\n",
    "recalls = [0.501742, 0.642857, 0.753484, 0.833624, 0.890244]\n",
    "\n",
    "# Create a bar plot\n",
    "plt.figure(figsize=(8, 5))\n",
    "bars = plt.bar(methods, recalls, color=\"skyblue\")\n",
    "\n",
    "# Add value labels on top of each bar\n",
    "for bar in bars:\n",
    "    height = bar.get_height()\n",
    "    plt.text(\n",
    "        bar.get_x() + bar.get_width() / 2,\n",
    "        height + 0.005,\n",
    "        f\"{height:.3f}\",\n",
    "        ha=\"center\",\n",
    "        va=\"bottom\",\n",
    "        fontsize=9\n",
    "    )\n",
    "\n",
    "# Labeling and aesthetics\n",
    "plt.title(\"Recall@1 Across Different Methods\")\n",
    "plt.ylabel(\"Recall@1\")\n",
    "plt.xticks(rotation=25, ha=\"right\")  # Rotate x-axis labels if needed\n",
    "plt.ylim([0, 1])                    # Since recall values typically range [0,1]\n",
    "plt.tight_layout()\n",
    "\n",
    "# Display the plot\n",
    "plt.show()\n"
   ]
  },
  {
   "cell_type": "code",
   "execution_count": null,
   "id": "sIA-PtwdIEv3",
   "metadata": {},
   "outputs": [],
   "source": []
  }
 ],
 "metadata": {
  "kernelspec": {
   "display_name": "QSLLMs",
   "language": "python",
   "name": "python3"
  },
  "language_info": {
   "codemirror_mode": {
    "name": "ipython",
    "version": 3
   },
   "file_extension": ".py",
   "mimetype": "text/x-python",
   "name": "python",
   "nbconvert_exporter": "python",
   "pygments_lexer": "ipython3",
   "version": "3.11.13"
  }
 },
 "nbformat": 4,
 "nbformat_minor": 5
}
